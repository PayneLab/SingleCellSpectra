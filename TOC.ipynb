{
 "cells": [
  {
   "cell_type": "code",
   "execution_count": 1,
   "metadata": {},
   "outputs": [
    {
     "name": "stderr",
     "output_type": "stream",
     "text": [
      "RDKit WARNING: [12:40:38] Enabling RDKit 2019.09.3 jupyter extensions\n"
     ]
    }
   ],
   "source": [
    "import pyteomics.mzml\n",
    "import spectrum_utils.spectrum as sus\n",
    "import matplotlib.pyplot as plt\n",
    "import spectrum_utils.plot as sup\n",
    "import spectrum_utils.iplot as isup\n",
    "import data_loader as dl\n",
    "import pandas as pd"
   ]
  },
  {
   "cell_type": "code",
   "execution_count": 2,
   "metadata": {},
   "outputs": [],
   "source": [
    "import pyteomics.mzml\n",
    "import pandas as pd\n",
    "import rpy2.robjects as robjects\n",
    "from rpy2.robjects import pandas2ri\n",
    "from datetime import datetime\n",
    "import pandas as pd\n",
    "import rpy2.robjects as robjects\n",
    "from rpy2.robjects import pandas2ri\n",
    "from rpy2.robjects import pandas2ri"
   ]
  },
  {
   "cell_type": "code",
   "execution_count": 2,
   "metadata": {},
   "outputs": [],
   "source": [
    "def get_spec(my_scan, my_peptide, mzml):\n",
    "    my_id = 'controllerType=0 controllerNumber=1 scan='+ my_scan\n",
    "    spectrum_dict = mzml.get_by_id(my_id)\n",
    "    \n",
    "    \n",
    "    spectrum_id = spectrum_dict['id']\n",
    "    mz_array = spectrum_dict['m/z array']\n",
    "    intensity_array = spectrum_dict['intensity array']\n",
    "    retention_time = (spectrum_dict['scanList']['scan'][0].get('scan start time', -1))\n",
    "    precursor = spectrum_dict['precursorList']['precursor'][0]\n",
    "    precursor_ion = precursor['selectedIonList']['selectedIon'][0]\n",
    "    precursor_mz = precursor_ion['selected ion m/z']\n",
    "\n",
    "    if 'charge state' in precursor_ion:\n",
    "        precursor_charge = int(precursor_ion['charge state'])\n",
    "    elif 'possible charge state' in precursor_ion:\n",
    "        precursor_charge = int(precursor_ion['possible charge state'])\n",
    "    else:\n",
    "        raise ValueError('Unknown precursor charge')\n",
    "\n",
    "    scan_num = spectrum_dict[\"id\"][spectrum_dict[\"id\"].find('scan=') + 5:]\n",
    "    ms_level = spectrum_dict[\"ms level\"]\n",
    "    total_ion_curr = spectrum_dict[\"total ion current\"]\n",
    "    ion_time = spectrum_dict[\"scanList\"]['scan'][0][\"ion injection time\"]\n",
    "\n",
    "    spectrum = sus.MsmsSpectrum(spectrum_id, precursor_mz, precursor_charge,\n",
    "                        mz_array, intensity_array, None, retention_time, peptide=my_peptide)\n",
    " \n",
    "    # Process the MS/MS spectrum.\n",
    "    fragment_tol_mass = 50\n",
    "    fragment_tol_mode = 'ppm'    \n",
    "    spectrum = (spectrum.annotate_peptide_fragments(fragment_tol_mass, fragment_tol_mode,\n",
    "                                            ion_types='by',max_ion_charge=precursor_charge))\n",
    "    \n",
    "    return spectrum\n",
    "\n",
    "\n"
   ]
  },
  {
   "cell_type": "code",
   "execution_count": 29,
   "metadata": {},
   "outputs": [],
   "source": [
    "mzml_bulk1 = pyteomics.mzml.MzML('data/mzMLs/OR11_20160122_PG_HeLa_CVB3_CT_A.mzML')\n",
    "mzml_bulk2 = pyteomics.mzml.MzML('data/mzMLs/OR11_20160122_PG_HeLa_CVB3_CT_B.mzML')\n",
    "mzml_bulk3 = pyteomics.mzml.MzML('data/mzMLs/OR11_20160122_PG_HeLa_CVB3_CT_C.mzML')\n",
    "\n",
    "mzml_2ng1 = pyteomics.mzml.MzML('data/mzMLs/Ex_Auto_J3_30umTB_2ngQC_60m_1.mzML')\n",
    "mzml_2ng2 = pyteomics.mzml.MzML('data/mzMLs/Ex_Auto_J3_30umTB_2ngQC_60m_2.mzML')\n",
    "mzml_2ng3 = pyteomics.mzml.MzML('data/mzMLs/Ex_Auto_K13_30umTA_2ngQC_60m_1.mzML')\n",
    "mzml_2ng4 = pyteomics.mzml.MzML('data/mzMLs/Ex_Auto_K13_30umTA_2ngQC_60m_2.mzML')\n",
    "mzml_2ng5 = pyteomics.mzml.MzML('data/mzMLs/Ex_Auto_W17_30umTB_2ngQC_60m_1.mzML')\n",
    "mzml_2ng6 = pyteomics.mzml.MzML('data/mzMLs/Ex_Auto_W17_30umTB_2ngQC_60m_2.mzML')\n",
    "\n",
    "mzml_02ng1 = pyteomics.mzml.MzML('data/mzMLs/Ex_Auto_J3_30umTB_02ngQC_60m_1.mzML')\n",
    "mzml_02ng2 = pyteomics.mzml.MzML('data/mzMLs/Ex_Auto_J3_30umTB_02ngQC_60m_2.mzML')\n",
    "mzml_02ng3 = pyteomics.mzml.MzML('data/mzMLs/Ex_Auto_K13_30umTA_02ngQC_60m_1.mzML')\n",
    "mzml_02ng4 = pyteomics.mzml.MzML('data/mzMLs/Ex_Auto_K13_30umTA_02ngQC_60m_2.mzML')\n",
    "mzml_02ng5 = pyteomics.mzml.MzML('data/mzMLs/Ex_Auto_W17_30umTA_02ngQC_60m_3.mzML')\n",
    "mzml_02ng6 = pyteomics.mzml.MzML('data/mzMLs/Ex_Auto_W17_30umTA_02ngQC_60m_4.mzML')"
   ]
  },
  {
   "cell_type": "code",
   "execution_count": 5,
   "metadata": {},
   "outputs": [],
   "source": [
    "peptide ='AQFEGIVTDLIR'\n",
    "spectrum_bulk = get_spec('108797',peptide,mzml_bulk1)\n",
    "spectrum_sc = get_spec('29708',peptide ,mzml_2ng6)"
   ]
  },
  {
   "cell_type": "code",
   "execution_count": 7,
   "metadata": {},
   "outputs": [
    {
     "data": {
      "text/plain": [
       "<matplotlib.axes._subplots.AxesSubplot at 0x131ad76a0>"
      ]
     },
     "execution_count": 7,
     "metadata": {},
     "output_type": "execute_result"
    },
    {
     "data": {
      "image/png": "[encoded data removed]",
      "text/plain": [
       "<Figure size 864x432 with 1 Axes>"
      ]
     },
     "metadata": {
      "needs_background": "light"
     },
     "output_type": "display_data"
    }
   ],
   "source": [
    "fig, ax = plt.subplots(figsize=(12, 6))\n",
    "sup.mirror(spectrum_bulk,\n",
    "           spectrum_sc,\n",
    "           ax=ax)"
   ]
  },
  {
   "cell_type": "code",
   "execution_count": null,
   "metadata": {},
   "outputs": [],
   "source": [
    "import pyteomics.mzml\n",
    "import pandas as pd\n",
    "import rpy2.robjects as robjects\n",
    "from rpy2.robjects import pandas2ri\n",
    "from datetime import datetime\n",
    "import pandas as pd\n",
    "import rpy2.robjects as robjects\n",
    "from rpy2.robjects import pandas2ri\n",
    "from rpy2.robjects import pandas2ri"
   ]
  },
  {
   "cell_type": "code",
   "execution_count": 8,
   "metadata": {},
   "outputs": [],
   "source": [
    "def remove_precursor_peak(df):\n",
    "    #if there is a peak that is 10X more intense than everything else, get rid of it (it's a precursor that hasn't been fragmented)\n",
    "    maxpeak = df['intensity'].max()\n",
    "    \n",
    "    #if it's ten times more intesne that all the other peaks get rid of it. \n",
    "    rm_max_peak = df[df['intensity']!=maxpeak]\n",
    "    mean_intensity = rm_max_peak['intensity'].nlargest(10).mean()\n",
    "    \n",
    "    if maxpeak >= 5*mean_intensity:\n",
    "        \n",
    "        #also remove the plusone isotope\n",
    "        maxmz = df[df['intensity'] == maxpeak]['mz'].values[0]\n",
    "        plusone = maxmz + 1.0034\n",
    "        plusone_tol_max = plusone+.01\n",
    "        plusone_tol_min = plusone-.01\n",
    "        \n",
    "        plusonemz_array = rm_max_peak[(rm_max_peak['mz'] <= plusone_tol_max) & (rm_max_peak['mz'] >= plusone_tol_min)]['mz'].values\n",
    "        if len(plusonemz_array > 0 ): #if there is a plus1 isotope\n",
    "            plusonemz = plusonemz_array[0]\n",
    "            rm_max_peak = rm_max_peak[rm_max_peak['mz']!=plusonemz]\n",
    "        \n",
    "        return rm_max_peak\n",
    "    \n",
    "    return df\n",
    "\n",
    "def get_dfs(scan1, scan2, mzml1, mzml2):\n",
    "    spectrum_dict1 = mzml1.get_by_id(\"controllerType=0 controllerNumber=1 scan=\"+scan1)\n",
    "    spectrum_id1 = spectrum_dict1['id']\n",
    "    mz_array1 = spectrum_dict1['m/z array']\n",
    "    intensity_array1 = spectrum_dict1['intensity array']\n",
    "    \n",
    "    spectrum_dict2 = mzml2.get_by_id(\"controllerType=0 controllerNumber=1 scan=\"+scan2)\n",
    "    spectrum_id2 = spectrum_dict2['id']\n",
    "    mz_array2 = spectrum_dict2['m/z array']\n",
    "    intensity_array2 = spectrum_dict2['intensity array']\n",
    "    \n",
    "    \n",
    "    df1 = pd.DataFrame({'mz':mz_array1, 'intensity':intensity_array1 })\n",
    "    df2 = pd.DataFrame({'mz':mz_array2, 'intensity':intensity_array2 })\n",
    "\n",
    "    df1 = remove_precursor_peak(df1)\n",
    "    df2 = remove_precursor_peak(df2)\n",
    "    \n",
    "    return df1, df2\n",
    "\n",
    "\n"
   ]
  },
  {
   "cell_type": "code",
   "execution_count": 23,
   "metadata": {},
   "outputs": [],
   "source": [
    "def remove_precursor_peak(df):\n",
    "    #if there is a peak that is 10X more intense than everything else, get rid of it (it's a precursor that hasn't been fragmented)\n",
    "    maxpeak = df['intensity'].max()\n",
    "    \n",
    "    #if it's ten times more intesne that all the other peaks get rid of it. \n",
    "    rm_max_peak = df[df['intensity']!=maxpeak]\n",
    "    mean_intensity = rm_max_peak['intensity'].nlargest(10).mean()\n",
    "    \n",
    "    if maxpeak >= 5*mean_intensity:\n",
    "        \n",
    "        #also remove the plusone isotope\n",
    "        maxmz = df[df['intensity'] == maxpeak]['mz'].values[0]\n",
    "        plusone = maxmz + 1.0034\n",
    "        plusone_tol_max = plusone+.01\n",
    "        plusone_tol_min = plusone-.01\n",
    "        \n",
    "        plusonemz_array = rm_max_peak[(rm_max_peak['mz'] <= plusone_tol_max) & (rm_max_peak['mz'] >= plusone_tol_min)]['mz'].values\n",
    "        if len(plusonemz_array > 0 ): #if there is a plus1 isotope\n",
    "            plusonemz = plusonemz_array[0]\n",
    "            rm_max_peak = rm_max_peak[rm_max_peak['mz']!=plusonemz]\n",
    "        \n",
    "        return rm_max_peak\n",
    "    \n",
    "    return df\n",
    "\n",
    "def get_dfs(scan1, scan2, mzml1, mzml2):\n",
    "    spectrum_dict1 = mzml1.get_by_id(\"controllerType=0 controllerNumber=1 scan=\"+scan1)\n",
    "    spectrum_id1 = spectrum_dict1['id']\n",
    "    mz_array1 = spectrum_dict1['m/z array']\n",
    "    intensity_array1 = spectrum_dict1['intensity array']\n",
    "    \n",
    "    spectrum_dict2 = mzml2.get_by_id(\"controllerType=0 controllerNumber=1 scan=\"+scan2)\n",
    "    spectrum_id2 = spectrum_dict2['id']\n",
    "    mz_array2 = spectrum_dict2['m/z array']\n",
    "    intensity_array2 = spectrum_dict2['intensity array']\n",
    "    \n",
    "    \n",
    "    df1 = pd.DataFrame({'mz':mz_array1, 'intensity':intensity_array1 })\n",
    "    df2 = pd.DataFrame({'mz':mz_array2, 'intensity':intensity_array2 })\n",
    "\n",
    "    df1 = remove_precursor_peak(df1)\n",
    "    df2 = remove_precursor_peak(df2)\n",
    "    \n",
    "    return df1, df2\n",
    "\n",
    "\n"
   ]
  },
  {
   "cell_type": "code",
   "execution_count": 12,
   "metadata": {},
   "outputs": [],
   "source": [
    "#get comparisons\n",
    "all_combos = pd.read_csv('data/list_of_spectra_to_compare/all_combos.tsv', sep='\\t')"
   ]
  },
  {
   "cell_type": "code",
   "execution_count": 36,
   "metadata": {},
   "outputs": [],
   "source": [
    "b_v_2 = all_combos[all_combos['type']=='2ng good vs bulk good']\n",
    "bv2 = b_v_2[(b_v_2['File1'] =='Ex_Auto_J3_30umTB_2ngQC_60m_1') &(b_v_2['File2'] =='OR11_20160122_PG_HeLa_CVB3_CT_A')]"
   ]
  },
  {
   "cell_type": "code",
   "execution_count": 40,
   "metadata": {},
   "outputs": [
    {
     "data": {
      "text/plain": [
       "array(['AADPPAENSSAPEAEQGGAE_2.0', 'AADTIGYPVMIR_2.0',\n",
       "       'AAEAAAAPAESAAPAAGEEPSKEEGEPK_3.0', 'AAEAAAAPAESAAPAAGEEPSK_2.0',\n",
       "       'AAEAAAAPAESAAPAAGEEPSK_3.0', 'AAEDDEDDDVDTKK_3.0',\n",
       "       'AAEDDEDDDVDTK_2.0', 'AAEEIGIK_2.0', 'AAEGVSAADMAK_2.0',\n",
       "       'AAELETDIR_2.0', 'AAELFVETIAK_2.0', 'AAELIANSLATAGDGLIELR_2.0',\n",
       "       'AAELIANSLATAGDGLIELR_3.0', 'AAEMMASLLK_2.0',\n",
       "       'AAFDDAIAELDTLSEESYK_2.0', 'AAFDDAIAELDTLSEESYK_3.0',\n",
       "       'AAGASDVVLYK_2.0', 'AAGPSLSHTSGGTQSK_3.0', 'AAGTDGSDFQHR_3.0',\n",
       "       'AAGVVLEMIR_2.0', 'AAHSEGNTTAGLDMR_3.0', 'AAIDWFDGK_2.0',\n",
       "       'AAIGLLAR_2.0', 'AAIISAEGDSK_2.0', 'AALAHSEEVTASQVAATK_3.0',\n",
       "       'AALEAQNALHNMK_3.0', 'AALEAVGGTVVLE_2.0', 'AALQELLSK_2.0',\n",
       "       'AALRPLVK_2.0', 'AALSALESFLK_2.0'], dtype=object)"
      ]
     },
     "execution_count": 40,
     "metadata": {},
     "output_type": "execute_result"
    }
   ],
   "source": [
    "bv2['peptide_charge'].unique()[20:50]"
   ]
  },
  {
   "cell_type": "code",
   "execution_count": 133,
   "metadata": {},
   "outputs": [
    {
     "data": {
      "text/html": [
       "<div>\n",
       "<style scoped>\n",
       "    .dataframe tbody tr th:only-of-type {\n",
       "        vertical-align: middle;\n",
       "    }\n",
       "\n",
       "    .dataframe tbody tr th {\n",
       "        vertical-align: top;\n",
       "    }\n",
       "\n",
       "    .dataframe thead th {\n",
       "        text-align: right;\n",
       "    }\n",
       "</style>\n",
       "<table border=\"1\" class=\"dataframe\">\n",
       "  <thead>\n",
       "    <tr style=\"text-align: right;\">\n",
       "      <th></th>\n",
       "      <th>peptide_charge</th>\n",
       "      <th>Scan1</th>\n",
       "      <th>Prob1</th>\n",
       "      <th>File1</th>\n",
       "      <th>Scan2</th>\n",
       "      <th>Prob2</th>\n",
       "      <th>File2</th>\n",
       "      <th>type</th>\n",
       "    </tr>\n",
       "  </thead>\n",
       "  <tbody>\n",
       "    <tr>\n",
       "      <th>362289</th>\n",
       "      <td>AALEAQNALHNMK_3.0</td>\n",
       "      <td>14782</td>\n",
       "      <td>0.006027</td>\n",
       "      <td>Ex_Auto_J3_30umTB_2ngQC_60m_1</td>\n",
       "      <td>31608</td>\n",
       "      <td>0.000011</td>\n",
       "      <td>OR11_20160122_PG_HeLa_CVB3_CT_A</td>\n",
       "      <td>2ng good vs bulk good</td>\n",
       "    </tr>\n",
       "    <tr>\n",
       "      <th>362291</th>\n",
       "      <td>AALEAQNALHNMK_3.0</td>\n",
       "      <td>14782</td>\n",
       "      <td>0.006027</td>\n",
       "      <td>Ex_Auto_J3_30umTB_2ngQC_60m_1</td>\n",
       "      <td>31576</td>\n",
       "      <td>0.002239</td>\n",
       "      <td>OR11_20160122_PG_HeLa_CVB3_CT_A</td>\n",
       "      <td>2ng good vs bulk good</td>\n",
       "    </tr>\n",
       "    <tr>\n",
       "      <th>362297</th>\n",
       "      <td>AALEAQNALHNMK_3.0</td>\n",
       "      <td>14782</td>\n",
       "      <td>0.006027</td>\n",
       "      <td>Ex_Auto_J3_30umTB_2ngQC_60m_1</td>\n",
       "      <td>31666</td>\n",
       "      <td>0.000537</td>\n",
       "      <td>OR11_20160122_PG_HeLa_CVB3_CT_A</td>\n",
       "      <td>2ng good vs bulk good</td>\n",
       "    </tr>\n",
       "  </tbody>\n",
       "</table>\n",
       "</div>"
      ],
      "text/plain": [
       "           peptide_charge  Scan1     Prob1                          File1  \\\n",
       "362289  AALEAQNALHNMK_3.0  14782  0.006027  Ex_Auto_J3_30umTB_2ngQC_60m_1   \n",
       "362291  AALEAQNALHNMK_3.0  14782  0.006027  Ex_Auto_J3_30umTB_2ngQC_60m_1   \n",
       "362297  AALEAQNALHNMK_3.0  14782  0.006027  Ex_Auto_J3_30umTB_2ngQC_60m_1   \n",
       "\n",
       "        Scan2     Prob2                            File2  \\\n",
       "362289  31608  0.000011  OR11_20160122_PG_HeLa_CVB3_CT_A   \n",
       "362291  31576  0.002239  OR11_20160122_PG_HeLa_CVB3_CT_A   \n",
       "362297  31666  0.000537  OR11_20160122_PG_HeLa_CVB3_CT_A   \n",
       "\n",
       "                         type  \n",
       "362289  2ng good vs bulk good  \n",
       "362291  2ng good vs bulk good  \n",
       "362297  2ng good vs bulk good  "
      ]
     },
     "execution_count": 133,
     "metadata": {},
     "output_type": "execute_result"
    }
   ],
   "source": [
    "bv2[bv2['peptide_charge']=='AALEAQNALHNMK_3.0']"
   ]
  },
  {
   "cell_type": "code",
   "execution_count": 367,
   "metadata": {},
   "outputs": [
    {
     "data": {
      "text/html": [
       "<div>\n",
       "<style scoped>\n",
       "    .dataframe tbody tr th:only-of-type {\n",
       "        vertical-align: middle;\n",
       "    }\n",
       "\n",
       "    .dataframe tbody tr th {\n",
       "        vertical-align: top;\n",
       "    }\n",
       "\n",
       "    .dataframe thead th {\n",
       "        text-align: right;\n",
       "    }\n",
       "</style>\n",
       "<table border=\"1\" class=\"dataframe\">\n",
       "  <thead>\n",
       "    <tr style=\"text-align: right;\">\n",
       "      <th></th>\n",
       "      <th>peptide_charge</th>\n",
       "      <th>Scan1</th>\n",
       "      <th>Prob1</th>\n",
       "      <th>File1</th>\n",
       "      <th>Scan2</th>\n",
       "      <th>Prob2</th>\n",
       "      <th>File2</th>\n",
       "      <th>type</th>\n",
       "    </tr>\n",
       "  </thead>\n",
       "  <tbody>\n",
       "    <tr>\n",
       "      <th>509141</th>\n",
       "      <td>FYTDPVEAVK_2.0</td>\n",
       "      <td>17840</td>\n",
       "      <td>0.006703</td>\n",
       "      <td>Ex_Auto_J3_30umTB_2ngQC_60m_1</td>\n",
       "      <td>50563</td>\n",
       "      <td>0.000114</td>\n",
       "      <td>OR11_20160122_PG_HeLa_CVB3_CT_A</td>\n",
       "      <td>2ng good vs bulk good</td>\n",
       "    </tr>\n",
       "    <tr>\n",
       "      <th>840427</th>\n",
       "      <td>VIHLSNLPHSGYSDSAVLK_4.0</td>\n",
       "      <td>20980</td>\n",
       "      <td>0.006672</td>\n",
       "      <td>Ex_Auto_J3_30umTB_2ngQC_60m_1</td>\n",
       "      <td>58050</td>\n",
       "      <td>0.000000</td>\n",
       "      <td>OR11_20160122_PG_HeLa_CVB3_CT_A</td>\n",
       "      <td>2ng good vs bulk good</td>\n",
       "    </tr>\n",
       "    <tr>\n",
       "      <th>840381</th>\n",
       "      <td>VIHLSNLPHSGYSDSAVLK_4.0</td>\n",
       "      <td>20980</td>\n",
       "      <td>0.006672</td>\n",
       "      <td>Ex_Auto_J3_30umTB_2ngQC_60m_1</td>\n",
       "      <td>57923</td>\n",
       "      <td>0.000000</td>\n",
       "      <td>OR11_20160122_PG_HeLa_CVB3_CT_A</td>\n",
       "      <td>2ng good vs bulk good</td>\n",
       "    </tr>\n",
       "    <tr>\n",
       "      <th>840437</th>\n",
       "      <td>VIHLSNLPHSGYSDSAVLK_4.0</td>\n",
       "      <td>20980</td>\n",
       "      <td>0.006672</td>\n",
       "      <td>Ex_Auto_J3_30umTB_2ngQC_60m_1</td>\n",
       "      <td>58077</td>\n",
       "      <td>0.000000</td>\n",
       "      <td>OR11_20160122_PG_HeLa_CVB3_CT_A</td>\n",
       "      <td>2ng good vs bulk good</td>\n",
       "    </tr>\n",
       "    <tr>\n",
       "      <th>840431</th>\n",
       "      <td>VIHLSNLPHSGYSDSAVLK_4.0</td>\n",
       "      <td>20980</td>\n",
       "      <td>0.006672</td>\n",
       "      <td>Ex_Auto_J3_30umTB_2ngQC_60m_1</td>\n",
       "      <td>58037</td>\n",
       "      <td>0.000000</td>\n",
       "      <td>OR11_20160122_PG_HeLa_CVB3_CT_A</td>\n",
       "      <td>2ng good vs bulk good</td>\n",
       "    </tr>\n",
       "  </tbody>\n",
       "</table>\n",
       "</div>"
      ],
      "text/plain": [
       "                 peptide_charge  Scan1     Prob1  \\\n",
       "509141           FYTDPVEAVK_2.0  17840  0.006703   \n",
       "840427  VIHLSNLPHSGYSDSAVLK_4.0  20980  0.006672   \n",
       "840381  VIHLSNLPHSGYSDSAVLK_4.0  20980  0.006672   \n",
       "840437  VIHLSNLPHSGYSDSAVLK_4.0  20980  0.006672   \n",
       "840431  VIHLSNLPHSGYSDSAVLK_4.0  20980  0.006672   \n",
       "\n",
       "                                File1  Scan2     Prob2  \\\n",
       "509141  Ex_Auto_J3_30umTB_2ngQC_60m_1  50563  0.000114   \n",
       "840427  Ex_Auto_J3_30umTB_2ngQC_60m_1  58050  0.000000   \n",
       "840381  Ex_Auto_J3_30umTB_2ngQC_60m_1  57923  0.000000   \n",
       "840437  Ex_Auto_J3_30umTB_2ngQC_60m_1  58077  0.000000   \n",
       "840431  Ex_Auto_J3_30umTB_2ngQC_60m_1  58037  0.000000   \n",
       "\n",
       "                                  File2                   type  \n",
       "509141  OR11_20160122_PG_HeLa_CVB3_CT_A  2ng good vs bulk good  \n",
       "840427  OR11_20160122_PG_HeLa_CVB3_CT_A  2ng good vs bulk good  \n",
       "840381  OR11_20160122_PG_HeLa_CVB3_CT_A  2ng good vs bulk good  \n",
       "840437  OR11_20160122_PG_HeLa_CVB3_CT_A  2ng good vs bulk good  \n",
       "840431  OR11_20160122_PG_HeLa_CVB3_CT_A  2ng good vs bulk good  "
      ]
     },
     "execution_count": 367,
     "metadata": {},
     "output_type": "execute_result"
    }
   ],
   "source": [
    "bv2.sort_values('Prob1', ascending=False).iloc[500:505]"
   ]
  },
  {
   "cell_type": "code",
   "execution_count": 382,
   "metadata": {},
   "outputs": [],
   "source": [
    "def get_spec(my_scan, my_peptide, mzml):\n",
    "    my_id = 'controllerType=0 controllerNumber=1 scan='+ my_scan\n",
    "    spectrum_dict = mzml.get_by_id(my_id)\n",
    "    \n",
    "    \n",
    "    spectrum_id = spectrum_dict['id']\n",
    "    mz_array = spectrum_dict['m/z array']\n",
    "    intensity_array = spectrum_dict['intensity array']\n",
    "    retention_time = (spectrum_dict['scanList']['scan'][0].get('scan start time', -1))\n",
    "    precursor = spectrum_dict['precursorList']['precursor'][0]\n",
    "    precursor_ion = precursor['selectedIonList']['selectedIon'][0]\n",
    "    precursor_mz = precursor_ion['selected ion m/z']\n",
    "\n",
    "    if 'charge state' in precursor_ion:\n",
    "        precursor_charge = int(precursor_ion['charge state'])\n",
    "    elif 'possible charge state' in precursor_ion:\n",
    "        precursor_charge = int(precursor_ion['possible charge state'])\n",
    "    else:\n",
    "        raise ValueError('Unknown precursor charge')\n",
    "\n",
    "    scan_num = spectrum_dict[\"id\"][spectrum_dict[\"id\"].find('scan=') + 5:]\n",
    "    ms_level = spectrum_dict[\"ms level\"]\n",
    "    total_ion_curr = spectrum_dict[\"total ion current\"]\n",
    "    ion_time = spectrum_dict[\"scanList\"]['scan'][0][\"ion injection time\"]\n",
    "\n",
    "    spectrum = sus.MsmsSpectrum(spectrum_id, precursor_mz, precursor_charge,\n",
    "                        mz_array, intensity_array, None, retention_time, peptide=my_peptide)\n",
    " \n",
    "    # Process the MS/MS spectrum.\n",
    "    fragment_tol_mass = 50\n",
    "    fragment_tol_mode = 'ppm'    \n",
    "    spectrum = (spectrum.annotate_peptide_fragments(fragment_tol_mass, fragment_tol_mode,\n",
    "                                            ion_types='y',max_ion_charge=2))\n",
    "    \n",
    "    return spectrum"
   ]
  },
  {
   "cell_type": "code",
   "execution_count": 383,
   "metadata": {},
   "outputs": [
    {
     "data": {
      "image/png": "[encoded data removed]",
      "text/plain": [
       "<Figure size 1080x432 with 1 Axes>"
      ]
     },
     "metadata": {
      "needs_background": "light"
     },
     "output_type": "display_data"
    }
   ],
   "source": [
    "peptide ='VIHLSNLPHSGYSDSAVLK'\n",
    "spectrum_bulk = get_spec('58050',peptide,mzml_bulk1)\n",
    "spectrum_sc = get_spec('20980',peptide ,mzml_2ng1)\n",
    "\n",
    "fig, ax = plt.subplots(figsize=(15, 6))\n",
    "sup.mirror(spectrum_bulk,\n",
    "           spectrum_sc,\n",
    "           ax=ax)\n",
    "plt.xlim(0, 1200)\n",
    "plt.yticks(fontsize=12)\n",
    "plt.xticks(fontsize=12)\n",
    "plt.grid(b=False, which='both')\n",
    "plt.savefig('Figures/TOC_fig.png', dpi=600)\n",
    "plt.show()"
   ]
  },
  {
   "cell_type": "code",
   "execution_count": 388,
   "metadata": {},
   "outputs": [],
   "source": [
    "bulk_rep1 = dl.load_joined_psm_mzml('bulk_rep1')[['peptide','scan','minute','Matched Ion Intensities','QValue', 'intensity_array']]\n",
    "\n",
    "rep1_2ng = dl.load_joined_psm_mzml(\"2ng_rep1\")[['peptide','scan','minute','Matched Ion Intensities','QValue', 'intensity_array']]\n"
   ]
  },
  {
   "cell_type": "code",
   "execution_count": 393,
   "metadata": {},
   "outputs": [],
   "source": [
    "b = bulk_rep1[bulk_rep1['scan'] == 58050] \n",
    "sc = rep1_2ng[rep1_2ng['scan'] == 20980] "
   ]
  },
  {
   "cell_type": "code",
   "execution_count": 394,
   "metadata": {},
   "outputs": [
    {
     "data": {
      "text/html": [
       "<div>\n",
       "<style scoped>\n",
       "    .dataframe tbody tr th:only-of-type {\n",
       "        vertical-align: middle;\n",
       "    }\n",
       "\n",
       "    .dataframe tbody tr th {\n",
       "        vertical-align: top;\n",
       "    }\n",
       "\n",
       "    .dataframe thead th {\n",
       "        text-align: right;\n",
       "    }\n",
       "</style>\n",
       "<table border=\"1\" class=\"dataframe\">\n",
       "  <thead>\n",
       "    <tr style=\"text-align: right;\">\n",
       "      <th></th>\n",
       "      <th>peptide</th>\n",
       "      <th>scan</th>\n",
       "      <th>minute</th>\n",
       "      <th>Matched Ion Intensities</th>\n",
       "      <th>QValue</th>\n",
       "      <th>intensity_array</th>\n",
       "    </tr>\n",
       "  </thead>\n",
       "  <tbody>\n",
       "    <tr>\n",
       "      <th>19516</th>\n",
       "      <td>VIHLSNLPHSGYSDSAVLK</td>\n",
       "      <td>58050</td>\n",
       "      <td>87</td>\n",
       "      <td>[b2+1:127148, b3+1:708945, b4+1:205145, b5+1:4...</td>\n",
       "      <td>0.0</td>\n",
       "      <td>[39103.91796875, 591636.9375, 116235.859375, 6...</td>\n",
       "    </tr>\n",
       "  </tbody>\n",
       "</table>\n",
       "</div>"
      ],
      "text/plain": [
       "                   peptide   scan  minute  \\\n",
       "19516  VIHLSNLPHSGYSDSAVLK  58050      87   \n",
       "\n",
       "                                 Matched Ion Intensities  QValue  \\\n",
       "19516  [b2+1:127148, b3+1:708945, b4+1:205145, b5+1:4...     0.0   \n",
       "\n",
       "                                         intensity_array  \n",
       "19516  [39103.91796875, 591636.9375, 116235.859375, 6...  "
      ]
     },
     "execution_count": 394,
     "metadata": {},
     "output_type": "execute_result"
    }
   ],
   "source": [
    "b"
   ]
  },
  {
   "cell_type": "code",
   "execution_count": 395,
   "metadata": {},
   "outputs": [
    {
     "data": {
      "text/html": [
       "<div>\n",
       "<style scoped>\n",
       "    .dataframe tbody tr th:only-of-type {\n",
       "        vertical-align: middle;\n",
       "    }\n",
       "\n",
       "    .dataframe tbody tr th {\n",
       "        vertical-align: top;\n",
       "    }\n",
       "\n",
       "    .dataframe thead th {\n",
       "        text-align: right;\n",
       "    }\n",
       "</style>\n",
       "<table border=\"1\" class=\"dataframe\">\n",
       "  <thead>\n",
       "    <tr style=\"text-align: right;\">\n",
       "      <th></th>\n",
       "      <th>peptide</th>\n",
       "      <th>scan</th>\n",
       "      <th>minute</th>\n",
       "      <th>Matched Ion Intensities</th>\n",
       "      <th>QValue</th>\n",
       "      <th>intensity_array</th>\n",
       "    </tr>\n",
       "  </thead>\n",
       "  <tbody>\n",
       "    <tr>\n",
       "      <th>13690</th>\n",
       "      <td>VIHLSNLPHSGYSDSAVLK</td>\n",
       "      <td>20980</td>\n",
       "      <td>62</td>\n",
       "      <td>[b3+1:2362, b7+1:1155];[y1+1:6349, y2+1:2771, ...</td>\n",
       "      <td>0.006672</td>\n",
       "      <td>[3789.7265625, 6133.8544921875, 3509.210693359...</td>\n",
       "    </tr>\n",
       "  </tbody>\n",
       "</table>\n",
       "</div>"
      ],
      "text/plain": [
       "                   peptide   scan  minute  \\\n",
       "13690  VIHLSNLPHSGYSDSAVLK  20980      62   \n",
       "\n",
       "                                 Matched Ion Intensities    QValue  \\\n",
       "13690  [b3+1:2362, b7+1:1155];[y1+1:6349, y2+1:2771, ...  0.006672   \n",
       "\n",
       "                                         intensity_array  \n",
       "13690  [3789.7265625, 6133.8544921875, 3509.210693359...  "
      ]
     },
     "execution_count": 395,
     "metadata": {},
     "output_type": "execute_result"
    }
   ],
   "source": [
    "sc"
   ]
  },
  {
   "cell_type": "code",
   "execution_count": null,
   "metadata": {},
   "outputs": [],
   "source": []
  },
  {
   "cell_type": "code",
   "execution_count": null,
   "metadata": {},
   "outputs": [],
   "source": []
  },
  {
   "cell_type": "code",
   "execution_count": null,
   "metadata": {},
   "outputs": [],
   "source": []
  },
  {
   "cell_type": "code",
   "execution_count": null,
   "metadata": {},
   "outputs": [],
   "source": []
  },
  {
   "cell_type": "code",
   "execution_count": null,
   "metadata": {},
   "outputs": [],
   "source": []
  },
  {
   "cell_type": "code",
   "execution_count": null,
   "metadata": {},
   "outputs": [],
   "source": []
  },
  {
   "cell_type": "code",
   "execution_count": 18,
   "metadata": {},
   "outputs": [],
   "source": [
    "# Defining the R script and loading the instance in Python\n",
    "r = robjects.r\n",
    "r['source']('calc_cosine_score.R')\n",
    "SpectrumSimilarity = robjects.globalenv['SpectrumSimilarity']  # Loading the function we have defined in R.\n"
   ]
  },
  {
   "cell_type": "code",
   "execution_count": 25,
   "metadata": {},
   "outputs": [],
   "source": [
    "file1_name = 'Ex_Auto_J3_30umTB_2ngQC_60m_1'   \n",
    "file2_name = 'OR11_20160122_PG_HeLa_CVB3_CT_A'   \n",
    "\n",
    "file1_path = 'data/mzMLs/'\n",
    "file1_path = file1_path+file1_name+\".mzML\"\n",
    "file1 = pyteomics.mzml.MzML(file1_path)\n",
    "\n",
    "file2_path = 'data/mzMLs/'\n",
    "file2_path = file2_path+file2_name+\".mzML\"\n",
    "file2 = pyteomics.mzml.MzML(file2_path)"
   ]
  },
  {
   "cell_type": "code",
   "execution_count": 381,
   "metadata": {},
   "outputs": [
    {
     "data": {
      "text/plain": [
       "0.2304596451424824"
      ]
     },
     "execution_count": 381,
     "metadata": {},
     "output_type": "execute_result"
    }
   ],
   "source": [
    "comp_typo = '2ng good vs bulk good'\n",
    "\n",
    "df1, df2 = get_dfs(str(20980), str(58050), file1, file2)\n",
    "\n",
    "pandas2ri.activate()\n",
    "mins = [df1['mz'].min(), df2['mz'].min()]\n",
    "maxs = [df1['mz'].max(), df2['mz'].max()]\n",
    "sim_score = SpectrumSimilarity(df1, df2, xlim = [min(mins), max(maxs)])\n",
    "sim_score = sim_score[0]\n",
    "sim_score"
   ]
  },
  {
   "cell_type": "code",
   "execution_count": 263,
   "metadata": {},
   "outputs": [],
   "source": [
    "#possible\n",
    "peptide ='QLFEEQAK'\n",
    "spectrum_bulk = get_spec('24293',peptide,mzml_bulk1)\n",
    "spectrum_sc = get_spec('12365',peptide ,mzml_2ng1)\n",
    "\n",
    "\n",
    "peptide ='VKPLQDQNELFGK'\n",
    "spectrum_bulk = get_spec('45710',peptide,mzml_bulk1)\n",
    "spectrum_sc = get_spec('17962',peptide ,mzml_2ng1)\n",
    "\n",
    "peptide ='IAENLGDVQISDK'\n",
    "spectrum_bulk = get_spec('48194',peptide,mzml_bulk1)\n",
    "spectrum_sc = get_spec('17384',peptide ,mzml_2ng1)\n",
    "\n",
    "peptide ='EIEYEVVR'\n",
    "spectrum_bulk = get_spec('37535',peptide,mzml_bulk1)\n",
    "spectrum_sc = get_spec('14882',peptide ,mzml_2ng1)\n",
    "\n",
    "peptide ='TLEVEIEPGVR'\n",
    "spectrum_bulk = get_spec('57791',peptide,mzml_bulk1)\n",
    "spectrum_sc = get_spec('19808',peptide ,mzml_2ng1)\n",
    "\n",
    "peptide ='DNIQGITK'\n",
    "spectrum_bulk = get_spec('13764',peptide,mzml_bulk1)\n",
    "spectrum_sc = get_spec('9195',peptide ,mzml_2ng1)\n",
    "\n",
    "peptide ='HRPELIDYGK'\n",
    "spectrum_bulk = get_spec('20344',peptide,mzml_bulk1)\n",
    "spectrum_sc = get_spec('12684',peptide ,mzml_2ng1)\n",
    "\n",
    "peptide ='GLHQSIEEFR'\n",
    "spectrum_bulk = get_spec('34668',peptide,mzml_bulk1)\n",
    "spectrum_sc = get_spec('15359',peptide ,mzml_2ng1)\n",
    "\n",
    "\n",
    "peptide ='IQFKPDDGISPER'\n",
    "spectrum_bulk = get_spec('38980',peptide,mzml_bulk1)\n",
    "spectrum_sc = get_spec('15850',peptide ,mzml_2ng1)\n",
    "\n",
    "\n",
    "peptide ='YDPTIEDSYRK'\n",
    "spectrum_bulk = get_spec('22005',peptide,mzml_bulk1)\n",
    "spectrum_sc = get_spec('11227',peptide ,mzml_2ng1)\n",
    "\n",
    "peptide ='TQILAASYELHK'\n",
    "spectrum_bulk = get_spec('46335',peptide,mzml_bulk1)\n",
    "spectrum_sc = get_spec('17680',peptide ,mzml_2ng1)\n",
    "\n",
    "peptide ='ATIAGGGVIPHIHK'\n",
    "spectrum_bulk = get_spec('35170',peptide,mzml_bulk1)\n",
    "spectrum_sc = get_spec('16098',peptide ,mzml_2ng1)\n",
    "\n",
    "peptide ='ATIAGGGVIPHIHK'\n",
    "spectrum_bulk = get_spec('35170',peptide,mzml_bulk1)\n",
    "spectrum_sc = get_spec('16098',peptide ,mzml_2ng1)\n",
    "\n",
    "peptide ='TDVDVSLPK'\n",
    "spectrum_bulk = get_spec('38341',peptide,mzml_bulk1)\n",
    "spectrum_sc = get_spec('15741',peptide ,mzml_2ng1)"
   ]
  }
 ],
 "metadata": {
  "kernelspec": {
   "display_name": "Python 3",
   "language": "python",
   "name": "python3"
  },
  "language_info": {
   "codemirror_mode": {
    "name": "ipython",
    "version": 3
   },
   "file_extension": ".py",
   "mimetype": "text/x-python",
   "name": "python",
   "nbconvert_exporter": "python",
   "pygments_lexer": "ipython3",
   "version": "3.8.3"
  }
 },
 "nbformat": 4,
 "nbformat_minor": 4
}
