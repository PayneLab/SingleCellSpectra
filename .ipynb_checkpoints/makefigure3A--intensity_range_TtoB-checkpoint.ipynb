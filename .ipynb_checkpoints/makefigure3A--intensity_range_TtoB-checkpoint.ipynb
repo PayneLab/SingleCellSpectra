{
 "cells": [
  {
   "cell_type": "code",
   "execution_count": 2,
   "metadata": {},
   "outputs": [
    {
     "name": "stderr",
     "output_type": "stream",
     "text": [
      "RDKit WARNING: [15:11:59] Enabling RDKit 2019.09.3 jupyter extensions\n"
     ]
    }
   ],
   "source": [
    "import pandas as pd\n",
    "import data_loader as dl\n",
    "import seaborn as sns\n",
    "import numpy as np\n",
    "import statistics as st\n",
    "import matplotlib.pyplot as plt"
   ]
  },
  {
   "cell_type": "markdown",
   "metadata": {},
   "source": [
    "# Here's the basic flow of this code:\n",
    "- Load data for all files\n",
    "- Filter based on retention time gradient\n",
    "- Calculate intensity range: \n",
    "        mean of top3 annotated peaks / mean of bottom 3 annotated peaks\n",
    "- Separate good and mediocre spectra. \n",
    "        Good <= .01. Mediocre >.02 and <=.2\n",
    "- For each file combine intensity range information that occurs on identical peptide: \n",
    "        For example YYBB might occur more than once and have an intensity range of 6 for one and 9 for the other We'll combine it to be YYBB: 6, 9. Later w'll take the average\n",
    "- Join all replicate files together based on peptide\n",
    "        Outer join based on peptide. So if File 1 had YYBB: 6,9 and file 2 had YYBB: 9 they would get combined to be YYBB: 6,9,9 \n",
    "- Find the mean of all intensity ranges for each peptide. \n",
    "        Continuing with the example from above YYBB: 8\n",
    "        \n",
    "- Find the ratio of bulk mean intensity difference / sc mean intensity difference.\n",
    "- Finally, we plot "
   ]
  },
  {
   "cell_type": "code",
   "execution_count": 3,
   "metadata": {},
   "outputs": [],
   "source": [
    "def get_intensities(row):\n",
    "    intensities = []\n",
    "    line = row[\"Matched Ion Intensities\"].split(\";\")\n",
    "        \n",
    "    for el in line:\n",
    "        el = el.strip('][').split(\",\")\n",
    "        for sub_el in el:\n",
    "            sub_el = sub_el.split(\":\")[1]\n",
    "            intensities.append(sub_el)\n",
    "    return intensities"
   ]
  },
  {
   "cell_type": "code",
   "execution_count": 4,
   "metadata": {},
   "outputs": [],
   "source": [
    "def get_top3(row):\n",
    "    row['ann_intensities'].sort(key=int, reverse=True)\n",
    "\n",
    "    return3 = row['ann_intensities'][:3]\n",
    "    return3 = [float(i) for i in return3]\n",
    "    \n",
    "    return return3"
   ]
  },
  {
   "cell_type": "code",
   "execution_count": 5,
   "metadata": {},
   "outputs": [],
   "source": [
    "def get_bottom3(row):\n",
    "    row['ann_intensities'].sort(key=int, reverse=True)\n",
    "\n",
    "    return3 = row['ann_intensities'][-3:]\n",
    "    return3 = [float(i) for i in return3]\n",
    "        \n",
    "    return return3"
   ]
  },
  {
   "cell_type": "code",
   "execution_count": 6,
   "metadata": {},
   "outputs": [],
   "source": [
    "def calc_intensity_diff(row):\n",
    "    intensity_diff = st.mean(row[\"top3\"])/st.mean(row[\"bottom3\"])\n",
    "    return intensity_diff"
   ]
  },
  {
   "cell_type": "code",
   "execution_count": 7,
   "metadata": {},
   "outputs": [],
   "source": [
    "def get_intensity_diff(df):  \n",
    "    df[\"ann_intensities\"] = df.apply(get_intensities, axis=1)\n",
    "    df[\"top3\"] = df.apply(get_top3, axis=1)\n",
    "    df[\"bottom3\"] = df.apply(get_bottom3, axis=1)\n",
    "    df['intensity_diff'] = df.apply(calc_intensity_diff, axis=1)\n",
    "\n",
    "    return df"
   ]
  },
  {
   "cell_type": "markdown",
   "metadata": {},
   "source": [
    "# Get Data"
   ]
  },
  {
   "cell_type": "code",
   "execution_count": 8,
   "metadata": {},
   "outputs": [],
   "source": [
    "#Read in data\n",
    "bulk_rep1 = dl.load_joined_psm_mzml('bulk_rep1')[['peptide','minute','Matched Ion Intensities','probability']]\n",
    "bulk_rep2 = dl.load_joined_psm_mzml('bulk_rep2')[['peptide','minute','Matched Ion Intensities','probability']]\n",
    "bulk_rep3 = dl.load_joined_psm_mzml('bulk_rep3')[['peptide','minute','Matched Ion Intensities','probability']]\n",
    "\n",
    "rep1_2ng = dl.load_joined_psm_mzml(\"2ng_rep1\")[['peptide','minute','Matched Ion Intensities','probability']]\n",
    "rep2_2ng = dl.load_joined_psm_mzml(\"2ng_rep2\")[['peptide','minute','Matched Ion Intensities','probability']]\n",
    "rep3_2ng = dl.load_joined_psm_mzml(\"2ng_rep3\")[['peptide','minute','Matched Ion Intensities','probability']]\n",
    "rep4_2ng = dl.load_joined_psm_mzml(\"2ng_rep4\")[['peptide','minute','Matched Ion Intensities','probability']]\n",
    "rep5_2ng = dl.load_joined_psm_mzml(\"2ng_rep5\")[['peptide','minute','Matched Ion Intensities','probability']]\n",
    "rep6_2ng = dl.load_joined_psm_mzml(\"2ng_rep6\")[['peptide','minute','Matched Ion Intensities','probability']]\n",
    "\n",
    "rep1_02ng = dl.load_joined_psm_mzml(\"0.2ng_rep1\")[['peptide','minute','Matched Ion Intensities','probability']]\n",
    "rep2_02ng = dl.load_joined_psm_mzml(\"0.2ng_rep2\")[['peptide','minute','Matched Ion Intensities','probability']]\n",
    "rep3_02ng = dl.load_joined_psm_mzml(\"0.2ng_rep3\")[['peptide','minute','Matched Ion Intensities','probability']]\n",
    "rep4_02ng = dl.load_joined_psm_mzml(\"0.2ng_rep4\")[['peptide','minute','Matched Ion Intensities','probability']]\n",
    "rep5_02ng = dl.load_joined_psm_mzml(\"0.2ng_rep5\")[['peptide','minute','Matched Ion Intensities','probability']]\n",
    "rep6_02ng = dl.load_joined_psm_mzml(\"0.2ng_rep6\")[['peptide','minute','Matched Ion Intensities','probability']]"
   ]
  },
  {
   "cell_type": "code",
   "execution_count": 9,
   "metadata": {},
   "outputs": [],
   "source": [
    "#filter based on retention time gradient\n",
    "rep1_2ng = rep1_2ng[(rep1_2ng['minute'] < 95) & (rep1_2ng['minute'] >= 27)]\n",
    "rep2_2ng = rep2_2ng[(rep2_2ng['minute'] < 95) & (rep2_2ng['minute'] >=27)]\n",
    "rep3_2ng = rep3_2ng[(rep3_2ng['minute'] < 93) & (rep3_2ng['minute'] >=32)]\n",
    "rep4_2ng = rep4_2ng[(rep4_2ng['minute'] < 91) & (rep4_2ng['minute'] >=32)]\n",
    "rep5_2ng = rep5_2ng[(rep5_2ng['minute'] < 99) & (rep5_2ng['minute'] >=31)]\n",
    "rep6_2ng = rep6_2ng[(rep6_2ng['minute'] < 98) & (rep6_2ng['minute'] >=31)]\n",
    "\n",
    "rep1_02ng = rep1_02ng[(rep1_02ng['minute'] < 94) & (rep1_02ng['minute'] >=28)]\n",
    "rep2_02ng = rep2_02ng[(rep2_02ng['minute'] < 95) & (rep2_02ng['minute'] >=27)]\n",
    "rep3_02ng = rep3_02ng[(rep3_02ng['minute'] < 98) & (rep3_02ng['minute'] >=32)]\n",
    "rep4_02ng = rep4_02ng[(rep4_02ng['minute'] < 98) & (rep4_02ng['minute'] >=32)]\n",
    "rep5_02ng = rep5_02ng[(rep5_02ng['minute'] < 109) & (rep5_02ng['minute'] >=35)]\n",
    "rep6_02ng = rep6_02ng[(rep6_02ng['minute'] < 109) & (rep6_02ng['minute'] >=35)]"
   ]
  },
  {
   "cell_type": "code",
   "execution_count": 10,
   "metadata": {},
   "outputs": [],
   "source": [
    "#calculate intensities difference\n",
    "bulk_rep1 = get_intensity_diff(bulk_rep1)\n",
    "bulk_rep2 = get_intensity_diff(bulk_rep2)\n",
    "bulk_rep3 = get_intensity_diff(bulk_rep3)\n",
    "\n",
    "rep1_2ng = get_intensity_diff(rep1_2ng)\n",
    "rep2_2ng = get_intensity_diff(rep2_2ng)\n",
    "rep3_2ng = get_intensity_diff(rep3_2ng)\n",
    "rep4_2ng = get_intensity_diff(rep4_2ng)\n",
    "rep5_2ng = get_intensity_diff(rep5_2ng)\n",
    "rep6_2ng = get_intensity_diff(rep6_2ng)\n",
    "\n",
    "rep1_02ng = get_intensity_diff(rep1_02ng)\n",
    "rep2_02ng = get_intensity_diff(rep2_02ng)\n",
    "rep3_02ng = get_intensity_diff(rep3_02ng)\n",
    "rep4_02ng = get_intensity_diff(rep4_02ng)\n",
    "rep5_02ng = get_intensity_diff(rep5_02ng)\n",
    "rep6_02ng = get_intensity_diff(rep6_02ng)"
   ]
  },
  {
   "cell_type": "code",
   "execution_count": 11,
   "metadata": {},
   "outputs": [],
   "source": [
    "#seprate good and medicore spectra\n",
    "bulk_rep1_good = bulk_rep1[bulk_rep1['probability'] <= .01][['peptide','intensity_diff']]\n",
    "bulk_rep2_good = bulk_rep2[bulk_rep2['probability'] <= .01][['peptide','intensity_diff']]\n",
    "bulk_rep3_good = bulk_rep3[bulk_rep3['probability'] <= .01][['peptide','intensity_diff']]\n",
    "\n",
    "rep1_2ng_good = rep1_2ng[rep1_2ng['probability'] <= .01][['peptide','intensity_diff']]\n",
    "rep2_2ng_good = rep2_2ng[rep2_2ng['probability'] <= .01][['peptide','intensity_diff']]\n",
    "rep3_2ng_good = rep3_2ng[rep3_2ng['probability'] <= .01][['peptide','intensity_diff']]\n",
    "rep4_2ng_good = rep4_2ng[rep4_2ng['probability'] <= .01][['peptide','intensity_diff']]\n",
    "rep5_2ng_good = rep5_2ng[rep5_2ng['probability'] <= .01][['peptide','intensity_diff']]\n",
    "rep6_2ng_good = rep6_2ng[rep6_2ng['probability'] <= .01][['peptide','intensity_diff']]\n",
    "\n",
    "rep1_02ng_good = rep1_02ng[rep1_02ng['probability'] <= .01][['peptide','intensity_diff']]\n",
    "rep2_02ng_good = rep2_02ng[rep2_02ng['probability'] <= .01][['peptide','intensity_diff']]\n",
    "rep3_02ng_good = rep3_02ng[rep3_02ng['probability'] <= .01][['peptide','intensity_diff']]\n",
    "rep4_02ng_good = rep4_02ng[rep4_02ng['probability'] <= .01][['peptide','intensity_diff']]\n",
    "rep5_02ng_good = rep5_02ng[rep5_02ng['probability'] <= .01][['peptide','intensity_diff']]\n",
    "rep6_02ng_good = rep6_02ng[rep6_02ng['probability'] <= .01][['peptide','intensity_diff']]\n",
    "\n",
    "rep1_2ng_med = rep1_2ng[(rep1_2ng['probability'] > .01) & (rep1_2ng['probability'] <= .2)][['peptide','intensity_diff']]\n",
    "rep2_2ng_med = rep2_2ng[(rep2_2ng['probability'] > .01) & (rep2_2ng['probability'] <= .2)][['peptide','intensity_diff']]\n",
    "rep3_2ng_med = rep3_2ng[(rep3_2ng['probability'] > .01) & (rep3_2ng['probability'] <= .2)][['peptide','intensity_diff']]\n",
    "rep4_2ng_med = rep4_2ng[(rep4_2ng['probability'] > .01) & (rep4_2ng['probability'] <= .2)][['peptide','intensity_diff']]\n",
    "rep5_2ng_med = rep5_2ng[(rep5_2ng['probability'] > .01) & (rep5_2ng['probability'] <= .2)][['peptide','intensity_diff']]\n",
    "rep6_2ng_med = rep6_2ng[(rep6_2ng['probability'] > .01) & (rep6_2ng['probability'] <= .2)][['peptide','intensity_diff']]\n",
    "\n",
    "rep1_02ng_med = rep1_02ng[(rep1_02ng['probability'] > .01) & (rep1_02ng['probability'] <= .2)][['peptide','intensity_diff']]\n",
    "rep2_02ng_med = rep2_02ng[(rep2_02ng['probability'] > .01) & (rep2_02ng['probability'] <= .2)][['peptide','intensity_diff']]\n",
    "rep3_02ng_med = rep3_02ng[(rep3_02ng['probability'] > .01) & (rep3_02ng['probability'] <= .2)][['peptide','intensity_diff']]\n",
    "rep4_02ng_med = rep4_02ng[(rep4_02ng['probability'] > .01) & (rep4_02ng['probability'] <= .2)][['peptide','intensity_diff']]\n",
    "rep5_02ng_med = rep5_02ng[(rep5_02ng['probability'] > .01) & (rep5_02ng['probability'] <= .2)][['peptide','intensity_diff']]\n",
    "rep6_02ng_med = rep6_02ng[(rep6_02ng['probability'] > .01) & (rep6_02ng['probability'] <= .2)][['peptide','intensity_diff']]\n",
    "\n"
   ]
  },
  {
   "cell_type": "code",
   "execution_count": 12,
   "metadata": {},
   "outputs": [],
   "source": [
    "#for each file get the intensity difference for each time a peptide is seen\n",
    "bulk_rep1_good = bulk_rep1_good.groupby(['peptide'])['intensity_diff'].apply(lambda x: ','.join(x.astype(str))).reset_index()\n",
    "bulk_rep2_good = bulk_rep2_good.groupby(['peptide'])['intensity_diff'].apply(lambda x: ','.join(x.astype(str))).reset_index()\n",
    "bulk_rep3_good = bulk_rep3_good.groupby(['peptide'])['intensity_diff'].apply(lambda x: ','.join(x.astype(str))).reset_index()\n",
    "\n",
    "rep1_2ng_good = rep1_2ng_good.groupby(['peptide'])['intensity_diff'].apply(lambda x: ','.join(x.astype(str))).reset_index()\n",
    "rep2_2ng_good = rep2_2ng_good.groupby(['peptide'])['intensity_diff'].apply(lambda x: ','.join(x.astype(str))).reset_index()\n",
    "rep3_2ng_good = rep3_2ng_good.groupby(['peptide'])['intensity_diff'].apply(lambda x: ','.join(x.astype(str))).reset_index()\n",
    "rep4_2ng_good = rep4_2ng_good.groupby(['peptide'])['intensity_diff'].apply(lambda x: ','.join(x.astype(str))).reset_index()\n",
    "rep5_2ng_good = rep5_2ng_good.groupby(['peptide'])['intensity_diff'].apply(lambda x: ','.join(x.astype(str))).reset_index()\n",
    "rep6_2ng_good = rep6_2ng_good.groupby(['peptide'])['intensity_diff'].apply(lambda x: ','.join(x.astype(str))).reset_index()\n",
    "\n",
    "rep1_2ng_med = rep1_2ng_med.groupby(['peptide'])['intensity_diff'].apply(lambda x: ','.join(x.astype(str))).reset_index()\n",
    "rep2_2ng_med = rep2_2ng_med.groupby(['peptide'])['intensity_diff'].apply(lambda x: ','.join(x.astype(str))).reset_index()\n",
    "rep3_2ng_med = rep3_2ng_med.groupby(['peptide'])['intensity_diff'].apply(lambda x: ','.join(x.astype(str))).reset_index()\n",
    "rep4_2ng_med = rep4_2ng_med.groupby(['peptide'])['intensity_diff'].apply(lambda x: ','.join(x.astype(str))).reset_index()\n",
    "rep5_2ng_med = rep5_2ng_med.groupby(['peptide'])['intensity_diff'].apply(lambda x: ','.join(x.astype(str))).reset_index()\n",
    "rep6_2ng_med = rep6_2ng_med.groupby(['peptide'])['intensity_diff'].apply(lambda x: ','.join(x.astype(str))).reset_index()\n",
    "\n",
    "rep1_02ng_good = rep1_02ng_good.groupby(['peptide'])['intensity_diff'].apply(lambda x: ','.join(x.astype(str))).reset_index()\n",
    "rep2_02ng_good = rep2_02ng_good.groupby(['peptide'])['intensity_diff'].apply(lambda x: ','.join(x.astype(str))).reset_index()\n",
    "rep3_02ng_good = rep3_02ng_good.groupby(['peptide'])['intensity_diff'].apply(lambda x: ','.join(x.astype(str))).reset_index()\n",
    "rep4_02ng_good = rep4_02ng_good.groupby(['peptide'])['intensity_diff'].apply(lambda x: ','.join(x.astype(str))).reset_index()\n",
    "rep5_02ng_good = rep5_02ng_good.groupby(['peptide'])['intensity_diff'].apply(lambda x: ','.join(x.astype(str))).reset_index()\n",
    "rep6_02ng_good = rep6_02ng_good.groupby(['peptide'])['intensity_diff'].apply(lambda x: ','.join(x.astype(str))).reset_index()\n",
    "\n",
    "rep1_02ng_med = rep1_02ng_med.groupby(['peptide'])['intensity_diff'].apply(lambda x: ','.join(x.astype(str))).reset_index()\n",
    "rep2_02ng_med = rep2_02ng_med.groupby(['peptide'])['intensity_diff'].apply(lambda x: ','.join(x.astype(str))).reset_index()\n",
    "rep3_02ng_med = rep3_02ng_med.groupby(['peptide'])['intensity_diff'].apply(lambda x: ','.join(x.astype(str))).reset_index()\n",
    "rep4_02ng_med = rep4_02ng_med.groupby(['peptide'])['intensity_diff'].apply(lambda x: ','.join(x.astype(str))).reset_index()\n",
    "rep5_02ng_med = rep5_02ng_med.groupby(['peptide'])['intensity_diff'].apply(lambda x: ','.join(x.astype(str))).reset_index()\n",
    "rep6_02ng_med = rep6_02ng_med.groupby(['peptide'])['intensity_diff'].apply(lambda x: ','.join(x.astype(str))).reset_index()\n"
   ]
  },
  {
   "cell_type": "code",
   "execution_count": 13,
   "metadata": {},
   "outputs": [],
   "source": [
    "#change index to be peptide\n",
    "bulk_rep1_good = bulk_rep1_good.set_index(\"peptide\")\n",
    "bulk_rep2_good = bulk_rep2_good.set_index(\"peptide\")\n",
    "bulk_rep3_good = bulk_rep3_good.set_index(\"peptide\")\n",
    "\n",
    "rep1_2ng_good = rep1_2ng_good.set_index(\"peptide\")\n",
    "rep2_2ng_good = rep2_2ng_good.set_index(\"peptide\")\n",
    "rep3_2ng_good = rep3_2ng_good.set_index(\"peptide\")\n",
    "rep4_2ng_good = rep4_2ng_good.set_index(\"peptide\")\n",
    "rep5_2ng_good = rep5_2ng_good.set_index(\"peptide\")\n",
    "rep6_2ng_good = rep6_2ng_good.set_index(\"peptide\")\n",
    "\n",
    "rep1_2ng_med = rep1_2ng_med.set_index(\"peptide\")\n",
    "rep2_2ng_med = rep2_2ng_med.set_index(\"peptide\")\n",
    "rep3_2ng_med = rep3_2ng_med.set_index(\"peptide\")\n",
    "rep4_2ng_med = rep4_2ng_med.set_index(\"peptide\")\n",
    "rep5_2ng_med = rep5_2ng_med.set_index(\"peptide\")\n",
    "rep6_2ng_med = rep6_2ng_med.set_index(\"peptide\")\n",
    "\n",
    "rep1_02ng_good = rep1_02ng_good.set_index(\"peptide\")\n",
    "rep2_02ng_good = rep2_02ng_good.set_index(\"peptide\")\n",
    "rep3_02ng_good = rep3_02ng_good.set_index(\"peptide\")\n",
    "rep4_02ng_good = rep4_02ng_good.set_index(\"peptide\")\n",
    "rep5_02ng_good = rep5_02ng_good.set_index(\"peptide\")\n",
    "rep6_02ng_good = rep6_02ng_good.set_index(\"peptide\")\n",
    "\n",
    "rep1_02ng_med = rep1_02ng_med.set_index(\"peptide\")\n",
    "rep2_02ng_med = rep2_02ng_med.set_index(\"peptide\")\n",
    "rep3_02ng_med = rep3_02ng_med.set_index(\"peptide\")\n",
    "rep4_02ng_med = rep4_02ng_med.set_index(\"peptide\")\n",
    "rep5_02ng_med = rep5_02ng_med.set_index(\"peptide\")\n",
    "rep6_02ng_med = rep6_02ng_med.set_index(\"peptide\")"
   ]
  },
  {
   "cell_type": "code",
   "execution_count": 14,
   "metadata": {},
   "outputs": [],
   "source": [
    "#merge\n",
    "#from here on bulk has been filtered for quality scans\n",
    "bulk_allreps = pd.concat([bulk_rep1_good, bulk_rep2_good], join='outer')\n",
    "bulk_allreps = pd.concat([bulk_allreps, bulk_rep3_good], join='outer')\n",
    "\n",
    "allreps_2ng_good = pd.concat([rep1_2ng_good, rep2_2ng_good], join='outer')\n",
    "allreps_2ng_good = pd.concat([allreps_2ng_good, rep3_2ng_good], join='outer')\n",
    "allreps_2ng_good = pd.concat([allreps_2ng_good, rep4_2ng_good], join='outer')\n",
    "allreps_2ng_good = pd.concat([allreps_2ng_good, rep5_2ng_good], join='outer')\n",
    "allreps_2ng_good = pd.concat([allreps_2ng_good, rep6_2ng_good], join='outer')\n",
    "\n",
    "allreps_02ng_good = pd.concat([rep1_02ng_good, rep2_02ng_good], join='outer')\n",
    "allreps_02ng_good = pd.concat([allreps_02ng_good, rep3_02ng_good], join='outer')\n",
    "allreps_02ng_good = pd.concat([allreps_02ng_good, rep4_02ng_good], join='outer')\n",
    "allreps_02ng_good = pd.concat([allreps_02ng_good, rep5_02ng_good], join='outer')\n",
    "allreps_02ng_good = pd.concat([allreps_02ng_good, rep6_02ng_good], join='outer')\n",
    "\n",
    "allreps_2ng_med = pd.concat([rep1_2ng_med, rep2_2ng_med], join='outer')\n",
    "allreps_2ng_med = pd.concat([allreps_2ng_med, rep3_2ng_med], join='outer')\n",
    "allreps_2ng_med = pd.concat([allreps_2ng_med, rep4_2ng_med], join='outer')\n",
    "allreps_2ng_med = pd.concat([allreps_2ng_med, rep5_2ng_med], join='outer')\n",
    "allreps_2ng_med = pd.concat([allreps_2ng_med, rep6_2ng_med], join='outer')\n",
    "\n",
    "allreps_02ng_med = pd.concat([rep1_02ng_med, rep2_02ng_med], join='outer')\n",
    "allreps_02ng_med = pd.concat([allreps_02ng_med, rep3_02ng_med], join='outer')\n",
    "allreps_02ng_med = pd.concat([allreps_02ng_med, rep4_02ng_med], join='outer')\n",
    "allreps_02ng_med = pd.concat([allreps_02ng_med, rep5_02ng_med], join='outer')\n",
    "allreps_02ng_med = pd.concat([allreps_02ng_med, rep6_02ng_med], join='outer')"
   ]
  },
  {
   "cell_type": "code",
   "execution_count": 15,
   "metadata": {},
   "outputs": [],
   "source": [
    "bulk_allreps = bulk_allreps.groupby(['peptide'])['intensity_diff'].apply(lambda x: ','.join(x.astype(str))).reset_index()\n",
    "allreps_2ng_good = allreps_2ng_good.groupby(['peptide'])['intensity_diff'].apply(lambda x: ','.join(x.astype(str))).reset_index()\n",
    "allreps_2ng_med = allreps_2ng_med.groupby(['peptide'])['intensity_diff'].apply(lambda x: ','.join(x.astype(str))).reset_index()\n",
    "allreps_02ng_good = allreps_02ng_good.groupby(['peptide'])['intensity_diff'].apply(lambda x: ','.join(x.astype(str))).reset_index()\n",
    "allreps_02ng_med = allreps_02ng_med.groupby(['peptide'])['intensity_diff'].apply(lambda x: ','.join(x.astype(str))).reset_index()\n"
   ]
  },
  {
   "cell_type": "code",
   "execution_count": 16,
   "metadata": {},
   "outputs": [],
   "source": [
    "def calc_aver_inten_diff(row):\n",
    "    all_counts = row['intensity_diff']\n",
    "    all_counts = all_counts.split(',')\n",
    "    all_counts = list(map(float, all_counts))\n",
    "    count_mean = np.nanmean(all_counts)\n",
    "    return count_mean"
   ]
  },
  {
   "cell_type": "code",
   "execution_count": 17,
   "metadata": {},
   "outputs": [],
   "source": [
    "bulk_allreps['mean_inten_diff'] = bulk_allreps.apply(calc_aver_inten_diff, axis=1)\n",
    "allreps_2ng_good['mean_inten_diff'] = allreps_2ng_good.apply(calc_aver_inten_diff, axis=1)\n",
    "allreps_2ng_med['mean_inten_diff'] = allreps_2ng_med.apply(calc_aver_inten_diff, axis=1)\n",
    "allreps_02ng_good['mean_inten_diff'] = allreps_02ng_good.apply(calc_aver_inten_diff, axis=1)\n",
    "allreps_02ng_med['mean_inten_diff'] = allreps_02ng_med.apply(calc_aver_inten_diff, axis=1)\n"
   ]
  },
  {
   "cell_type": "code",
   "execution_count": 18,
   "metadata": {},
   "outputs": [],
   "source": [
    "bulk_allreps = bulk_allreps.set_index(\"peptide\")\n",
    "allreps_2ng_good = allreps_2ng_good.set_index(\"peptide\")\n",
    "allreps_2ng_med = allreps_2ng_med.set_index(\"peptide\")\n",
    "allreps_02ng_good = allreps_02ng_good.set_index(\"peptide\")\n",
    "allreps_02ng_med = allreps_02ng_med.set_index(\"peptide\")"
   ]
  },
  {
   "cell_type": "code",
   "execution_count": 19,
   "metadata": {},
   "outputs": [],
   "source": [
    "#outer join all together based on peptide\n",
    "bulk_allreps.columns = [str(col) + '_bulk' for col in bulk_allreps.columns]\n",
    "allreps_2ng_good.columns = [str(col) + '_2ng_good' for col in allreps_2ng_good.columns]\n",
    "allreps_2ng_med.columns = [str(col) + '_2ng_med' for col in allreps_2ng_med.columns]\n",
    "allreps_02ng_good.columns = [str(col) + '_0.2ng_good' for col in allreps_02ng_good.columns]\n",
    "allreps_02ng_med.columns = [str(col) + '_0.2ng_med' for col in allreps_02ng_med.columns]\n",
    "\n",
    "megatable = pd.concat([bulk_allreps, allreps_2ng_good], axis=1, join='outer')\n",
    "megatable = pd.concat([megatable, allreps_2ng_med], axis=1, join='outer')\n",
    "megatable = pd.concat([megatable, allreps_02ng_good], axis=1, join='outer')\n",
    "megatable = pd.concat([megatable, allreps_02ng_med], axis=1, join='outer')"
   ]
  },
  {
   "cell_type": "code",
   "execution_count": 20,
   "metadata": {},
   "outputs": [
    {
     "name": "stderr",
     "output_type": "stream",
     "text": [
      "<ipython-input-20-423f0ce44484>:2: SettingWithCopyWarning: \n",
      "A value is trying to be set on a copy of a slice from a DataFrame.\n",
      "Try using .loc[row_indexer,col_indexer] = value instead\n",
      "\n",
      "See the caveats in the documentation: https://pandas.pydata.org/pandas-docs/stable/user_guide/indexing.html#returning-a-view-versus-a-copy\n",
      "  df_2ng_good['2ng quality'] = df_2ng_good['mean_inten_diff_bulk']/df_2ng_good['mean_inten_diff_2ng_good']\n",
      "<ipython-input-20-423f0ce44484>:5: SettingWithCopyWarning: \n",
      "A value is trying to be set on a copy of a slice from a DataFrame.\n",
      "Try using .loc[row_indexer,col_indexer] = value instead\n",
      "\n",
      "See the caveats in the documentation: https://pandas.pydata.org/pandas-docs/stable/user_guide/indexing.html#returning-a-view-versus-a-copy\n",
      "  df_2ng_med['2ng mediocre'] = df_2ng_med['mean_inten_diff_bulk']/df_2ng_med['mean_inten_diff_2ng_med']\n",
      "<ipython-input-20-423f0ce44484>:8: SettingWithCopyWarning: \n",
      "A value is trying to be set on a copy of a slice from a DataFrame.\n",
      "Try using .loc[row_indexer,col_indexer] = value instead\n",
      "\n",
      "See the caveats in the documentation: https://pandas.pydata.org/pandas-docs/stable/user_guide/indexing.html#returning-a-view-versus-a-copy\n",
      "  df_02ng_good['0.2ng quality'] = df_02ng_good['mean_inten_diff_bulk']/df_02ng_good['mean_inten_diff_0.2ng_good']\n",
      "<ipython-input-20-423f0ce44484>:11: SettingWithCopyWarning: \n",
      "A value is trying to be set on a copy of a slice from a DataFrame.\n",
      "Try using .loc[row_indexer,col_indexer] = value instead\n",
      "\n",
      "See the caveats in the documentation: https://pandas.pydata.org/pandas-docs/stable/user_guide/indexing.html#returning-a-view-versus-a-copy\n",
      "  df_02ng_med['0.2ng mediocre'] = df_02ng_med['mean_inten_diff_bulk']/df_02ng_med['mean_inten_diff_0.2ng_med']\n"
     ]
    }
   ],
   "source": [
    "df_2ng_good = megatable[['mean_inten_diff_bulk', 'mean_inten_diff_2ng_good']]\n",
    "df_2ng_good['2ng quality'] = df_2ng_good['mean_inten_diff_bulk']/df_2ng_good['mean_inten_diff_2ng_good']\n",
    "\n",
    "df_2ng_med = megatable[['mean_inten_diff_bulk', 'mean_inten_diff_2ng_med']]\n",
    "df_2ng_med['2ng mediocre'] = df_2ng_med['mean_inten_diff_bulk']/df_2ng_med['mean_inten_diff_2ng_med']\n",
    "\n",
    "df_02ng_good = megatable[['mean_inten_diff_bulk', 'mean_inten_diff_0.2ng_good']]\n",
    "df_02ng_good['0.2ng quality'] = df_02ng_good['mean_inten_diff_bulk']/df_02ng_good['mean_inten_diff_0.2ng_good']\n",
    "\n",
    "df_02ng_med = megatable[['mean_inten_diff_bulk', 'mean_inten_diff_0.2ng_med']]\n",
    "df_02ng_med['0.2ng mediocre'] = df_02ng_med['mean_inten_diff_bulk']/df_02ng_med['mean_inten_diff_0.2ng_med']\n",
    "\n",
    "\n",
    "kde_df = pd.concat([df_2ng_good[['2ng quality']],df_02ng_good[['0.2ng quality']]], axis=1)\n",
    "kde_df = pd.concat([kde_df, df_2ng_med[['2ng mediocre']]], axis=1)\n",
    "kde_df = pd.concat([kde_df, df_02ng_med[['0.2ng mediocre']]], axis=1)"
   ]
  },
  {
   "cell_type": "code",
   "execution_count": 21,
   "metadata": {},
   "outputs": [
    {
     "data": {
      "text/html": [
       "<div>\n",
       "<style scoped>\n",
       "    .dataframe tbody tr th:only-of-type {\n",
       "        vertical-align: middle;\n",
       "    }\n",
       "\n",
       "    .dataframe tbody tr th {\n",
       "        vertical-align: top;\n",
       "    }\n",
       "\n",
       "    .dataframe thead th {\n",
       "        text-align: right;\n",
       "    }\n",
       "</style>\n",
       "<table border=\"1\" class=\"dataframe\">\n",
       "  <thead>\n",
       "    <tr style=\"text-align: right;\">\n",
       "      <th></th>\n",
       "      <th>2ng quality</th>\n",
       "      <th>0.2ng quality</th>\n",
       "      <th>2ng mediocre</th>\n",
       "      <th>0.2ng mediocre</th>\n",
       "    </tr>\n",
       "  </thead>\n",
       "  <tbody>\n",
       "    <tr>\n",
       "      <th>AAAAAAAAAAAAAAAGAGAGAK</th>\n",
       "      <td>NaN</td>\n",
       "      <td>NaN</td>\n",
       "      <td>NaN</td>\n",
       "      <td>NaN</td>\n",
       "    </tr>\n",
       "    <tr>\n",
       "      <th>AAAAAAAAAPAAAATAPTTAATTAATAAQ</th>\n",
       "      <td>4.003357</td>\n",
       "      <td>11.874804</td>\n",
       "      <td>NaN</td>\n",
       "      <td>NaN</td>\n",
       "    </tr>\n",
       "    <tr>\n",
       "      <th>AAAAAAAAAVSR</th>\n",
       "      <td>NaN</td>\n",
       "      <td>NaN</td>\n",
       "      <td>NaN</td>\n",
       "      <td>NaN</td>\n",
       "    </tr>\n",
       "    <tr>\n",
       "      <th>AAAAAAALQAK</th>\n",
       "      <td>0.934764</td>\n",
       "      <td>1.449924</td>\n",
       "      <td>NaN</td>\n",
       "      <td>NaN</td>\n",
       "    </tr>\n",
       "    <tr>\n",
       "      <th>AAAAATVVPPMVGGPPFVGPVGFGPGDR</th>\n",
       "      <td>NaN</td>\n",
       "      <td>NaN</td>\n",
       "      <td>NaN</td>\n",
       "      <td>NaN</td>\n",
       "    </tr>\n",
       "    <tr>\n",
       "      <th>...</th>\n",
       "      <td>...</td>\n",
       "      <td>...</td>\n",
       "      <td>...</td>\n",
       "      <td>...</td>\n",
       "    </tr>\n",
       "    <tr>\n",
       "      <th>VTGSAMVDDEKR</th>\n",
       "      <td>NaN</td>\n",
       "      <td>NaN</td>\n",
       "      <td>NaN</td>\n",
       "      <td>NaN</td>\n",
       "    </tr>\n",
       "    <tr>\n",
       "      <th>WGPRNIRDIK</th>\n",
       "      <td>NaN</td>\n",
       "      <td>NaN</td>\n",
       "      <td>NaN</td>\n",
       "      <td>NaN</td>\n",
       "    </tr>\n",
       "    <tr>\n",
       "      <th>YDDMAAAM+15.995K|YDDMAAAM+15.995K|YDDMASAMK</th>\n",
       "      <td>NaN</td>\n",
       "      <td>NaN</td>\n",
       "      <td>NaN</td>\n",
       "      <td>NaN</td>\n",
       "    </tr>\n",
       "    <tr>\n",
       "      <th>YLAAGLDELK</th>\n",
       "      <td>NaN</td>\n",
       "      <td>NaN</td>\n",
       "      <td>NaN</td>\n",
       "      <td>NaN</td>\n",
       "    </tr>\n",
       "    <tr>\n",
       "      <th>YTGRDGKIEK</th>\n",
       "      <td>NaN</td>\n",
       "      <td>NaN</td>\n",
       "      <td>NaN</td>\n",
       "      <td>NaN</td>\n",
       "    </tr>\n",
       "  </tbody>\n",
       "</table>\n",
       "<p>51299 rows × 4 columns</p>\n",
       "</div>"
      ],
      "text/plain": [
       "                                             2ng quality  0.2ng quality  \\\n",
       "AAAAAAAAAAAAAAAGAGAGAK                               NaN            NaN   \n",
       "AAAAAAAAAPAAAATAPTTAATTAATAAQ                   4.003357      11.874804   \n",
       "AAAAAAAAAVSR                                         NaN            NaN   \n",
       "AAAAAAALQAK                                     0.934764       1.449924   \n",
       "AAAAATVVPPMVGGPPFVGPVGFGPGDR                         NaN            NaN   \n",
       "...                                                  ...            ...   \n",
       "VTGSAMVDDEKR                                         NaN            NaN   \n",
       "WGPRNIRDIK                                           NaN            NaN   \n",
       "YDDMAAAM+15.995K|YDDMAAAM+15.995K|YDDMASAMK          NaN            NaN   \n",
       "YLAAGLDELK                                           NaN            NaN   \n",
       "YTGRDGKIEK                                           NaN            NaN   \n",
       "\n",
       "                                             2ng mediocre  0.2ng mediocre  \n",
       "AAAAAAAAAAAAAAAGAGAGAK                                NaN             NaN  \n",
       "AAAAAAAAAPAAAATAPTTAATTAATAAQ                         NaN             NaN  \n",
       "AAAAAAAAAVSR                                          NaN             NaN  \n",
       "AAAAAAALQAK                                           NaN             NaN  \n",
       "AAAAATVVPPMVGGPPFVGPVGFGPGDR                          NaN             NaN  \n",
       "...                                                   ...             ...  \n",
       "VTGSAMVDDEKR                                          NaN             NaN  \n",
       "WGPRNIRDIK                                            NaN             NaN  \n",
       "YDDMAAAM+15.995K|YDDMAAAM+15.995K|YDDMASAMK           NaN             NaN  \n",
       "YLAAGLDELK                                            NaN             NaN  \n",
       "YTGRDGKIEK                                            NaN             NaN  \n",
       "\n",
       "[51299 rows x 4 columns]"
      ]
     },
     "execution_count": 21,
     "metadata": {},
     "output_type": "execute_result"
    }
   ],
   "source": [
    "kde_df"
   ]
  },
  {
   "cell_type": "code",
   "execution_count": 22,
   "metadata": {},
   "outputs": [
    {
     "data": {
      "text/plain": [
       "12027"
      ]
     },
     "execution_count": 22,
     "metadata": {},
     "output_type": "execute_result"
    }
   ],
   "source": [
    "kde_df['2ng quality'].count()"
   ]
  },
  {
   "cell_type": "code",
   "execution_count": 23,
   "metadata": {},
   "outputs": [
    {
     "data": {
      "text/plain": [
       "5830"
      ]
     },
     "execution_count": 23,
     "metadata": {},
     "output_type": "execute_result"
    }
   ],
   "source": [
    "kde_df['0.2ng quality'].count()"
   ]
  },
  {
   "cell_type": "code",
   "execution_count": 24,
   "metadata": {},
   "outputs": [
    {
     "data": {
      "text/plain": [
       "4813"
      ]
     },
     "execution_count": 24,
     "metadata": {},
     "output_type": "execute_result"
    }
   ],
   "source": [
    "kde_df['2ng mediocre'].count()"
   ]
  },
  {
   "cell_type": "code",
   "execution_count": 25,
   "metadata": {},
   "outputs": [
    {
     "data": {
      "text/plain": [
       "1695"
      ]
     },
     "execution_count": 25,
     "metadata": {},
     "output_type": "execute_result"
    }
   ],
   "source": [
    "kde_df['0.2ng mediocre'].count()"
   ]
  },
  {
   "cell_type": "code",
   "execution_count": 33,
   "metadata": {},
   "outputs": [
    {
     "data": {
      "image/png": "[encoded data removed]",
      "text/plain": [
       "<Figure size 980x420 with 1 Axes>"
      ]
     },
     "metadata": {
      "needs_background": "light"
     },
     "output_type": "display_data"
    }
   ],
   "source": [
    "plt.rcParams[\"figure.dpi\"] = 140\n",
    "ax = kde_df.plot.kde(figsize=(7, 3))\n",
    "# fig = plt.figure(dpi=360)\n",
    "ax.set_xlim(-1, 17)\n",
    "ax.set_title(\"\")\n",
    "# plt.xticks(list(range(-7,12)))\n",
    "plt.xlim(0,16)\n",
    "plt.ylim(0,0.5)\n",
    "plt.xlabel('Bulk Ratio / Single Cell Ratio')\n",
    "fig1 = plt.gcf()\n",
    "\n",
    "#The ratio interpretaion is that a 2 means that the intensity difference is 2 times more extreme in bulk data. \n",
    "#The closer the ratio is to 0 the more the sc intensity difference looks like the bulk intensity difference"
   ]
  },
  {
   "cell_type": "code",
   "execution_count": 36,
   "metadata": {},
   "outputs": [],
   "source": [
    "plt.rcParams[\"figure.dpi\"] = 600\n",
    "fig1.savefig('Figures/figure2A.jpg',bbox_inches='tight')"
   ]
  },
  {
   "cell_type": "markdown",
   "metadata": {},
   "source": [
    "# Get peptides to annotate"
   ]
  },
  {
   "cell_type": "code",
   "execution_count": null,
   "metadata": {},
   "outputs": [],
   "source": [
    "stop"
   ]
  },
  {
   "cell_type": "code",
   "execution_count": 28,
   "metadata": {},
   "outputs": [],
   "source": [
    "# bulk_rep1 = dl.load_joined_psm_mzml('bulk_rep1')[['scan','peptide','minute','Matched Ion Intensities','probability']]\n",
    "# rep3_2ng = dl.load_joined_psm_mzml(\"2ng_rep3\")[['scan','peptide','minute','Matched Ion Intensities','probability']]\n",
    "rep6_2ng = dl.load_joined_psm_mzml(\"2ng_rep6\")[['scan','peptide','minute','Matched Ion Intensities','probability']]\n",
    "\n",
    "\n",
    "\n",
    "# bulk_rep1 = get_intensity_diff(bulk_rep1)\n",
    "# rep3_2ng = get_intensity_diff(rep3_2ng)\n",
    "rep6_2ng = get_intensity_diff(rep6_2ng)\n",
    "\n"
   ]
  },
  {
   "cell_type": "code",
   "execution_count": null,
   "metadata": {},
   "outputs": [],
   "source": [
    "bulk_rep1[bulk_rep1['scan']==108797]"
   ]
  },
  {
   "cell_type": "code",
   "execution_count": null,
   "metadata": {},
   "outputs": [],
   "source": [
    "np.mean([1876.0, 1836.0, 1556.0])"
   ]
  },
  {
   "cell_type": "code",
   "execution_count": null,
   "metadata": {},
   "outputs": [],
   "source": [
    "rep6_2ng[rep6_2ng['scan']==29708]"
   ]
  },
  {
   "cell_type": "code",
   "execution_count": null,
   "metadata": {},
   "outputs": [],
   "source": [
    "rep6_2ng[rep6_2ng['scan']==29744]"
   ]
  },
  {
   "cell_type": "code",
   "execution_count": null,
   "metadata": {},
   "outputs": [],
   "source": [
    "26.769107/4.911883"
   ]
  },
  {
   "cell_type": "code",
   "execution_count": null,
   "metadata": {},
   "outputs": [],
   "source": [
    "26.769107/1.612946"
   ]
  },
  {
   "cell_type": "code",
   "execution_count": null,
   "metadata": {},
   "outputs": [],
   "source": []
  },
  {
   "cell_type": "code",
   "execution_count": null,
   "metadata": {},
   "outputs": [],
   "source": [
    "bulk_ann = bulk_df[bulk_df['probability']<=.01]\n",
    "\n",
    "sc_ann = sc2ng_df[sc2ng_df['probability']<=.01]\n",
    "sc_ann = sc_ann[(sc_ann['minute'] >= lower_limit) & (sc_ann['minute'] <=upper_limit)] #filter based on gradient\n",
    "\n",
    "\n",
    "\n",
    "join_ann = join_df(sc_ann, bulk_ann)\n"
   ]
  },
  {
   "cell_type": "code",
   "execution_count": null,
   "metadata": {},
   "outputs": [],
   "source": [
    "join_ann[['scan_df1', 'peptide_df1','intensity_diff_df1','intensity_diff_df2','scan_df2', 'peptide_df2']].head(70)"
   ]
  },
  {
   "cell_type": "code",
   "execution_count": null,
   "metadata": {},
   "outputs": [],
   "source": [
    "47.625366 / 4.474423"
   ]
  },
  {
   "cell_type": "code",
   "execution_count": null,
   "metadata": {},
   "outputs": [],
   "source": [
    "47.625366 / 1.621349"
   ]
  },
  {
   "cell_type": "code",
   "execution_count": null,
   "metadata": {},
   "outputs": [],
   "source": []
  }
 ],
 "metadata": {
  "kernelspec": {
   "display_name": "Python 3",
   "language": "python",
   "name": "python3"
  },
  "language_info": {
   "codemirror_mode": {
    "name": "ipython",
    "version": 3
   },
   "file_extension": ".py",
   "mimetype": "text/x-python",
   "name": "python",
   "nbconvert_exporter": "python",
   "pygments_lexer": "ipython3",
   "version": "3.8.3"
  }
 },
 "nbformat": 4,
 "nbformat_minor": 4
}
