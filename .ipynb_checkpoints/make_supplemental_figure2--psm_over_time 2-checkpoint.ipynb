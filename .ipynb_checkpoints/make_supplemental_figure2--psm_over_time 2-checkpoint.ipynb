{
 "cells": [
  {
   "cell_type": "code",
   "execution_count": 1,
   "metadata": {},
   "outputs": [
    {
     "name": "stderr",
     "output_type": "stream",
     "text": [
      "RDKit WARNING: [08:15:57] Enabling RDKit 2019.09.3 jupyter extensions\n"
     ]
    }
   ],
   "source": [
    "import pandas as pd\n",
    "import data_loader as dl\n",
    "import pyteomics.mzml\n",
    "import seaborn as sns\n",
    "import matplotlib.pyplot as plt"
   ]
  },
  {
   "cell_type": "code",
   "execution_count": 3,
   "metadata": {},
   "outputs": [
    {
     "data": {
      "text/html": [
       "<div>\n",
       "<style scoped>\n",
       "    .dataframe tbody tr th:only-of-type {\n",
       "        vertical-align: middle;\n",
       "    }\n",
       "\n",
       "    .dataframe tbody tr th {\n",
       "        vertical-align: top;\n",
       "    }\n",
       "\n",
       "    .dataframe thead th {\n",
       "        text-align: right;\n",
       "    }\n",
       "</style>\n",
       "<table border=\"1\" class=\"dataframe\">\n",
       "  <thead>\n",
       "    <tr style=\"text-align: right;\">\n",
       "      <th></th>\n",
       "      <th>minute</th>\n",
       "      <th>counts</th>\n",
       "    </tr>\n",
       "  </thead>\n",
       "  <tbody>\n",
       "    <tr>\n",
       "      <th>70</th>\n",
       "      <td>26</td>\n",
       "      <td>5</td>\n",
       "    </tr>\n",
       "    <tr>\n",
       "      <th>44</th>\n",
       "      <td>27</td>\n",
       "      <td>188</td>\n",
       "    </tr>\n",
       "    <tr>\n",
       "      <th>6</th>\n",
       "      <td>28</td>\n",
       "      <td>245</td>\n",
       "    </tr>\n",
       "    <tr>\n",
       "      <th>12</th>\n",
       "      <td>29</td>\n",
       "      <td>237</td>\n",
       "    </tr>\n",
       "    <tr>\n",
       "      <th>18</th>\n",
       "      <td>30</td>\n",
       "      <td>236</td>\n",
       "    </tr>\n",
       "    <tr>\n",
       "      <th>...</th>\n",
       "      <td>...</td>\n",
       "      <td>...</td>\n",
       "    </tr>\n",
       "    <tr>\n",
       "      <th>69</th>\n",
       "      <td>96</td>\n",
       "      <td>6</td>\n",
       "    </tr>\n",
       "    <tr>\n",
       "      <th>71</th>\n",
       "      <td>97</td>\n",
       "      <td>4</td>\n",
       "    </tr>\n",
       "    <tr>\n",
       "      <th>73</th>\n",
       "      <td>99</td>\n",
       "      <td>1</td>\n",
       "    </tr>\n",
       "    <tr>\n",
       "      <th>74</th>\n",
       "      <td>104</td>\n",
       "      <td>1</td>\n",
       "    </tr>\n",
       "    <tr>\n",
       "      <th>72</th>\n",
       "      <td>105</td>\n",
       "      <td>2</td>\n",
       "    </tr>\n",
       "  </tbody>\n",
       "</table>\n",
       "<p>75 rows × 2 columns</p>\n",
       "</div>"
      ],
      "text/plain": [
       "    minute  counts\n",
       "70      26       5\n",
       "44      27     188\n",
       "6       28     245\n",
       "12      29     237\n",
       "18      30     236\n",
       "..     ...     ...\n",
       "69      96       6\n",
       "71      97       4\n",
       "73      99       1\n",
       "74     104       1\n",
       "72     105       2\n",
       "\n",
       "[75 rows x 2 columns]"
      ]
     },
     "execution_count": 3,
     "metadata": {},
     "output_type": "execute_result"
    }
   ],
   "source": [
    "#Read in psm\n",
    "mm_df = dl.load_joined_psm_mzml('2ng_rep1')\n",
    "mm_df = mm_df.sort_values(\"minute\")\n",
    "\n",
    "#MM scan below 1% cutoff\n",
    "mm_df = mm_df[mm_df['QValue'] <=.01]\n",
    "mm_df = mm_df.sort_values('minute')\n",
    "line_df_ms2 = mm_df['minute']\n",
    "line_df_ms2 = line_df_ms2.value_counts().rename_axis('minute').reset_index(name='counts')\n",
    "line_df = line_df_ms2.sort_values(\"minute\")\n",
    "line_df\n"
   ]
  },
  {
   "cell_type": "code",
   "execution_count": null,
   "metadata": {},
   "outputs": [],
   "source": [
    "a4_dims = (30, 8.27) #dimensions for bigger plot\n",
    "fig, ax = plt.subplots(figsize=a4_dims)\n",
    "for i in range(1,len(dfs)):\n",
    "    sns.lineplot(data=all_2ng, x=\"minute\", y=all_2ng.iloc[:, i])\n",
    "\n",
    " \n",
    "ax.legend(['rep1','rep2','rep3','rep4','rep5','rep6'],fontsize='20')\n",
    "plt.rcParams['xtick.labelsize']=20\n",
    "plt.rcParams['ytick.labelsize']=20\n",
    "# plt.title('All acquired ms2 spectra ',fontsize='20')\n",
    "plt.ylabel('Number of PSMs', fontsize=30)\n",
    "plt.xlabel('Minute', fontsize=30)\n",
    "plt.ylim(0,700)\n",
    "# plt.savefig('Figures/supplemental_figure2B.png', dpi=600)\n",
    "plt.show()"
   ]
  },
  {
   "cell_type": "code",
   "execution_count": 11,
   "metadata": {},
   "outputs": [],
   "source": [
    "def get_data_for_one(file_name):\n",
    "    mm_df = dl.load_joined_psm_mzml(file_name)\n",
    "    #MM scan below 1% cutoff\n",
    "#     mm_df = mm_df[mm_df['QValue'] <=.01]\n",
    "#     mm_df = mm_df.sort_values('minute')\n",
    "    mm_df = mm_df['minute']\n",
    "    #count psms per minute\n",
    "    mm_df = mm_df.value_counts().rename_axis('minute').reset_index(name='counts')\n",
    "    line_df = mm_df.sort_values(\"minute\")\n",
    "    \n",
    "    return (line_df)"
   ]
  },
  {
   "cell_type": "code",
   "execution_count": 12,
   "metadata": {},
   "outputs": [],
   "source": [
    "df1 = get_data_for_one('2ng_rep1')\n",
    "df2 = get_data_for_one('2ng_rep2')\n",
    "df3 = get_data_for_one('2ng_rep3')\n",
    "df4 = get_data_for_one('2ng_rep4')\n",
    "df5 = get_data_for_one('2ng_rep5')\n",
    "df6 = get_data_for_one('2ng_rep6')\n"
   ]
  },
  {
   "cell_type": "code",
   "execution_count": 13,
   "metadata": {},
   "outputs": [
    {
     "name": "stderr",
     "output_type": "stream",
     "text": [
      "<ipython-input-13-ed63330e0ad5>:5: FutureWarning: Passing 'suffixes' which cause duplicate columns {'counts_x'} in the result is deprecated and will raise a MergeError in a future version.\n",
      "  all_2ng = functools.reduce(lambda left,right: pd.merge(left,right,on='minute',how='outer'),dfs)\n"
     ]
    },
    {
     "data": {
      "text/html": [
       "<div>\n",
       "<style scoped>\n",
       "    .dataframe tbody tr th:only-of-type {\n",
       "        vertical-align: middle;\n",
       "    }\n",
       "\n",
       "    .dataframe tbody tr th {\n",
       "        vertical-align: top;\n",
       "    }\n",
       "\n",
       "    .dataframe thead th {\n",
       "        text-align: right;\n",
       "    }\n",
       "</style>\n",
       "<table border=\"1\" class=\"dataframe\">\n",
       "  <thead>\n",
       "    <tr style=\"text-align: right;\">\n",
       "      <th></th>\n",
       "      <th>minute</th>\n",
       "      <th>counts_x</th>\n",
       "      <th>counts_y</th>\n",
       "      <th>counts_x</th>\n",
       "      <th>counts_y</th>\n",
       "      <th>counts_x</th>\n",
       "      <th>counts_y</th>\n",
       "    </tr>\n",
       "  </thead>\n",
       "  <tbody>\n",
       "    <tr>\n",
       "      <th>76</th>\n",
       "      <td>24</td>\n",
       "      <td>NaN</td>\n",
       "      <td>1.0</td>\n",
       "      <td>NaN</td>\n",
       "      <td>NaN</td>\n",
       "      <td>NaN</td>\n",
       "      <td>NaN</td>\n",
       "    </tr>\n",
       "    <tr>\n",
       "      <th>0</th>\n",
       "      <td>26</td>\n",
       "      <td>8.0</td>\n",
       "      <td>NaN</td>\n",
       "      <td>NaN</td>\n",
       "      <td>NaN</td>\n",
       "      <td>NaN</td>\n",
       "      <td>NaN</td>\n",
       "    </tr>\n",
       "    <tr>\n",
       "      <th>1</th>\n",
       "      <td>27</td>\n",
       "      <td>233.0</td>\n",
       "      <td>190.0</td>\n",
       "      <td>NaN</td>\n",
       "      <td>NaN</td>\n",
       "      <td>NaN</td>\n",
       "      <td>NaN</td>\n",
       "    </tr>\n",
       "    <tr>\n",
       "      <th>2</th>\n",
       "      <td>28</td>\n",
       "      <td>316.0</td>\n",
       "      <td>335.0</td>\n",
       "      <td>NaN</td>\n",
       "      <td>NaN</td>\n",
       "      <td>NaN</td>\n",
       "      <td>NaN</td>\n",
       "    </tr>\n",
       "    <tr>\n",
       "      <th>3</th>\n",
       "      <td>29</td>\n",
       "      <td>328.0</td>\n",
       "      <td>333.0</td>\n",
       "      <td>NaN</td>\n",
       "      <td>NaN</td>\n",
       "      <td>NaN</td>\n",
       "      <td>NaN</td>\n",
       "    </tr>\n",
       "    <tr>\n",
       "      <th>...</th>\n",
       "      <td>...</td>\n",
       "      <td>...</td>\n",
       "      <td>...</td>\n",
       "      <td>...</td>\n",
       "      <td>...</td>\n",
       "      <td>...</td>\n",
       "      <td>...</td>\n",
       "    </tr>\n",
       "    <tr>\n",
       "      <th>90</th>\n",
       "      <td>113</td>\n",
       "      <td>NaN</td>\n",
       "      <td>NaN</td>\n",
       "      <td>NaN</td>\n",
       "      <td>1.0</td>\n",
       "      <td>NaN</td>\n",
       "      <td>NaN</td>\n",
       "    </tr>\n",
       "    <tr>\n",
       "      <th>84</th>\n",
       "      <td>124</td>\n",
       "      <td>NaN</td>\n",
       "      <td>NaN</td>\n",
       "      <td>3.0</td>\n",
       "      <td>NaN</td>\n",
       "      <td>NaN</td>\n",
       "      <td>NaN</td>\n",
       "    </tr>\n",
       "    <tr>\n",
       "      <th>85</th>\n",
       "      <td>126</td>\n",
       "      <td>NaN</td>\n",
       "      <td>NaN</td>\n",
       "      <td>2.0</td>\n",
       "      <td>1.0</td>\n",
       "      <td>NaN</td>\n",
       "      <td>NaN</td>\n",
       "    </tr>\n",
       "    <tr>\n",
       "      <th>86</th>\n",
       "      <td>127</td>\n",
       "      <td>NaN</td>\n",
       "      <td>NaN</td>\n",
       "      <td>2.0</td>\n",
       "      <td>NaN</td>\n",
       "      <td>NaN</td>\n",
       "      <td>NaN</td>\n",
       "    </tr>\n",
       "    <tr>\n",
       "      <th>87</th>\n",
       "      <td>139</td>\n",
       "      <td>NaN</td>\n",
       "      <td>NaN</td>\n",
       "      <td>1.0</td>\n",
       "      <td>NaN</td>\n",
       "      <td>NaN</td>\n",
       "      <td>NaN</td>\n",
       "    </tr>\n",
       "  </tbody>\n",
       "</table>\n",
       "<p>93 rows × 7 columns</p>\n",
       "</div>"
      ],
      "text/plain": [
       "    minute  counts_x  counts_y  counts_x  counts_y  counts_x  counts_y\n",
       "76      24       NaN       1.0       NaN       NaN       NaN       NaN\n",
       "0       26       8.0       NaN       NaN       NaN       NaN       NaN\n",
       "1       27     233.0     190.0       NaN       NaN       NaN       NaN\n",
       "2       28     316.0     335.0       NaN       NaN       NaN       NaN\n",
       "3       29     328.0     333.0       NaN       NaN       NaN       NaN\n",
       "..     ...       ...       ...       ...       ...       ...       ...\n",
       "90     113       NaN       NaN       NaN       1.0       NaN       NaN\n",
       "84     124       NaN       NaN       3.0       NaN       NaN       NaN\n",
       "85     126       NaN       NaN       2.0       1.0       NaN       NaN\n",
       "86     127       NaN       NaN       2.0       NaN       NaN       NaN\n",
       "87     139       NaN       NaN       1.0       NaN       NaN       NaN\n",
       "\n",
       "[93 rows x 7 columns]"
      ]
     },
     "execution_count": 13,
     "metadata": {},
     "output_type": "execute_result"
    }
   ],
   "source": [
    "import functools\n",
    "\n",
    "dfs = [df1,df2,df3,df4,df5, df6]\n",
    "\n",
    "all_2ng = functools.reduce(lambda left,right: pd.merge(left,right,on='minute',how='outer'),dfs)\n",
    "all_2ng.sort_values('minute')"
   ]
  },
  {
   "cell_type": "code",
   "execution_count": 14,
   "metadata": {},
   "outputs": [
    {
     "data": {
      "image/png": "[encoded data removed]",
      "text/plain": [
       "<Figure size 2160x595.44 with 1 Axes>"
      ]
     },
     "metadata": {
      "needs_background": "light"
     },
     "output_type": "display_data"
    }
   ],
   "source": [
    "a4_dims = (30, 8.27) #dimensions for bigger plot\n",
    "fig, ax = plt.subplots(figsize=a4_dims)\n",
    "for i in range(1,len(dfs)):\n",
    "    sns.lineplot(data=all_2ng, x=\"minute\", y=all_2ng.iloc[:, i])\n",
    "\n",
    " \n",
    "ax.legend(['rep1','rep2','rep3','rep4','rep5','rep6'],fontsize='20')\n",
    "plt.rcParams['xtick.labelsize']=20\n",
    "plt.rcParams['ytick.labelsize']=20\n",
    "# plt.title('All acquired ms2 spectra ',fontsize='20')\n",
    "plt.ylabel('Number of PSMs', fontsize=30)\n",
    "plt.xlabel('Minute', fontsize=30)\n",
    "plt.ylim(0,700)\n",
    "# plt.savefig('Figures/supplemental_figure2B.png', dpi=600)\n",
    "plt.show()"
   ]
  },
  {
   "cell_type": "code",
   "execution_count": 10,
   "metadata": {},
   "outputs": [
    {
     "ename": "NameError",
     "evalue": "name 'stop' is not defined",
     "output_type": "error",
     "traceback": [
      "\u001b[0;31m---------------------------------------------------------------------------\u001b[0m",
      "\u001b[0;31mNameError\u001b[0m                                 Traceback (most recent call last)",
      "\u001b[0;32m<ipython-input-10-4f76a9dad686>\u001b[0m in \u001b[0;36m<module>\u001b[0;34m\u001b[0m\n\u001b[0;32m----> 1\u001b[0;31m \u001b[0mstop\u001b[0m\u001b[0;34m\u001b[0m\u001b[0;34m\u001b[0m\u001b[0m\n\u001b[0m",
      "\u001b[0;31mNameError\u001b[0m: name 'stop' is not defined"
     ]
    }
   ],
   "source": [
    "stop"
   ]
  },
  {
   "cell_type": "code",
   "execution_count": null,
   "metadata": {
    "scrolled": true
   },
   "outputs": [],
   "source": [
    "all_2ng"
   ]
  },
  {
   "cell_type": "code",
   "execution_count": null,
   "metadata": {},
   "outputs": [],
   "source": [
    "a4_dims = (30, 8.27) #dimensions for bigger plot\n",
    "fig, ax = plt.subplots(figsize=a4_dims)\n",
    "sns.lineplot(data=all_2ng, x=\"minute\", y=\"ms2_1\")\n",
    "sns.lineplot(data=all_2ng, x=\"minute\", y=\"ms2_2\")\n",
    "sns.lineplot(data=all_2ng, x=\"minute\", y=\"ms2_3\")\n",
    "sns.lineplot(data=all_2ng, x=\"minute\", y=\"ms2_4\")\n",
    "sns.lineplot(data=all_2ng, x=\"minute\", y=\"ms2_5\")\n",
    "sns.lineplot(data=all_2ng, x=\"minute\", y=\"ms2_6\")\n",
    "ax.legend(['rep1','rep2','rep3','rep4','rep5','rep6'],fontsize='20')\n",
    "plt.rcParams['xtick.labelsize']=20\n",
    "plt.rcParams['ytick.labelsize']=20\n",
    "# plt.title('All acquired ms2 spectra ',fontsize='20')\n",
    "plt.ylabel('Number of PSMs', fontsize=30)\n",
    "plt.xlabel('Minute', fontsize=30)\n",
    "plt.ylim(0,700)\n",
    "plt.savefig('Figures/supplemental_figure2B.png', dpi=600)\n",
    "plt.show()"
   ]
  },
  {
   "cell_type": "code",
   "execution_count": null,
   "metadata": {},
   "outputs": [],
   "source": [
    "def get_data_for_all_files(list_of_file_names):\n",
    "    \n",
    "    result = get_data_for_one(list_of_file_names[0])\n",
    "    df2 = get_data_for_one(list_of_file_names[1])\n",
    "    df3 = get_data_for_one(list_of_file_names[2])\n",
    "    df4 = get_data_for_one(list_of_file_names[3])\n",
    "    df5 = get_data_for_one(list_of_file_names[4])\n",
    "    df6 = get_data_for_one(list_of_file_names[5])\n",
    "\n",
    "    counter = 1\n",
    "    result = pd.merge(result, df2, on='minute', how='left').fillna(method='ffill')\n",
    "    result = result.rename({'ms1_x': 'ms1_'+str(1), 'ms2_x': 'ms2_'+str(1), '1_percent_FDR_x': '1_percent_FDR_'+str(1),\n",
    "                           'ms1_y': 'ms1_'+str(2), 'ms2_y': 'ms2_'+str(2), '1_percent_FDR_y': '1_percent_FDR_'+str(2)}, axis=1)\n",
    "    counter = 3\n",
    "    result = pd.merge(result, df3, on='minute', how='left').fillna(method='ffill')\n",
    "    result = result.rename({'ms1': 'ms1_'+str(counter), 'ms2': 'ms2_'+str(counter), '1_percent_FDR': '1_percent_FDR_'+str(counter)}, axis=1)\n",
    "\n",
    "    counter = 4\n",
    "    result = pd.merge(result, df4, on='minute', how='left').fillna(method='ffill')\n",
    "    result = result.rename({'ms1': 'ms1_'+str(counter), 'ms2': 'ms2_'+str(counter), '1_percent_FDR': '1_percent_FDR_'+str(counter)}, axis=1)\n",
    "\n",
    "    counter = 5\n",
    "    result = pd.merge(result, df5, on='minute', how='left').fillna(method='ffill')\n",
    "    result = result.rename({'ms1': 'ms1_'+str(counter), 'ms2': 'ms2_'+str(counter), '1_percent_FDR': '1_percent_FDR_'+str(counter)}, axis=1)\n",
    "\n",
    "    counter = 6\n",
    "    result = pd.merge(result, df6, on='minute', how='left').fillna(method='ffill')\n",
    "    result = result.rename({'ms1': 'ms1_'+str(counter), 'ms2': 'ms2_'+str(counter), '1_percent_FDR': '1_percent_FDR_'+str(counter)}, axis=1)\n",
    "\n",
    "    result = result.sort_values(\"minute\")\n",
    "\n",
    "    return(result)\n"
   ]
  },
  {
   "cell_type": "code",
   "execution_count": null,
   "metadata": {},
   "outputs": [],
   "source": [
    "def get_data_for_all_files_bulk(list_of_file_names):\n",
    "    \n",
    "    result = get_data_for_one(list_of_file_names[0])\n",
    "    df2 = get_data_for_one(list_of_file_names[1])\n",
    "    df3 = get_data_for_one(list_of_file_names[2])\n",
    "\n",
    "    counter = 1\n",
    "    result = pd.merge(result, df2, on='minute', how='left').fillna(method='ffill')\n",
    "    result = result.rename({'ms1_x': 'ms1_'+str(1), 'ms2_x': 'ms2_'+str(1), '1_percent_FDR_x': '1_percent_FDR_'+str(1),\n",
    "                           'ms1_y': 'ms1_'+str(2), 'ms2_y': 'ms2_'+str(2), '1_percent_FDR_y': '1_percent_FDR_'+str(2)}, axis=1)\n",
    "    counter = 3\n",
    "    result = pd.merge(result, df3, on='minute', how='left').fillna(method='ffill')\n",
    "    result = result.rename({'ms1': 'ms1_'+str(counter), 'ms2': 'ms2_'+str(counter), '1_percent_FDR': '1_percent_FDR_'+str(counter)}, axis=1)\n",
    "\n",
    "    result = result.sort_values(\"minute\")\n",
    "\n",
    "    return(result)"
   ]
  },
  {
   "cell_type": "code",
   "execution_count": null,
   "metadata": {},
   "outputs": [],
   "source": [
    "def plot_psm_over_time(df,title):\n",
    "    a4_dims = (30, 8.27) #dimensions for bigger plot\n",
    "    fig, ax = plt.subplots(figsize=a4_dims)\n",
    "    sns.lineplot(data=df, x=\"minute\", y=\"ms1\")\n",
    "    sns.lineplot(data=df, x=\"minute\", y=\"ms2\")\n",
    "    sns.lineplot(data=df, x=\"minute\", y=\"1_percent_FDR\")\n",
    "    ax.legend(['ms1','ms2','1% cutoff'],fontsize='15')\n",
    "    plt.rcParams['xtick.labelsize']=20\n",
    "    plt.rcParams['ytick.labelsize']=20\n",
    "    plt.title(title,fontsize='15')\n",
    "#     plt.ylim(0,400)\n",
    "    plt.show()"
   ]
  },
  {
   "cell_type": "code",
   "execution_count": null,
   "metadata": {},
   "outputs": [],
   "source": []
  },
  {
   "cell_type": "markdown",
   "metadata": {},
   "source": [
    "# Bulk data"
   ]
  },
  {
   "cell_type": "code",
   "execution_count": null,
   "metadata": {},
   "outputs": [],
   "source": [
    "list_of_file_names = ['bulk_rep1', 'bulk_rep2','bulk_rep3']\n",
    "all_bulk = get_data_for_all_files_bulk(list_of_file_names)"
   ]
  },
  {
   "cell_type": "code",
   "execution_count": null,
   "metadata": {},
   "outputs": [],
   "source": [
    "a4_dims = (30, 8.27) #dimensions for bigger plot\n",
    "fig, ax = plt.subplots(figsize=a4_dims)\n",
    "sns.lineplot(data=all_bulk, x=\"minute\", y=\"ms2_1\")\n",
    "sns.lineplot(data=all_bulk, x=\"minute\", y=\"ms2_2\")\n",
    "sns.lineplot(data=all_bulk, x=\"minute\", y=\"ms2_3\")\n",
    "ax.legend(['rep1','rep2','rep3'],fontsize='20')\n",
    "plt.rcParams['xtick.labelsize']=20\n",
    "plt.rcParams['ytick.labelsize']=20\n",
    "# plt.title('All acquired ms2 spectra ',fontsize='20')\n",
    "plt.ylabel('Number of PSMs', fontsize=30)\n",
    "plt.xlabel('Minute', fontsize=30)\n",
    "plt.savefig('Figures/supplemental_figure2A.png', dpi=600)\n",
    "plt.ylim(0,700)\n",
    "plt.show()"
   ]
  },
  {
   "cell_type": "code",
   "execution_count": null,
   "metadata": {},
   "outputs": [],
   "source": [
    "a4_dims = (30, 8.27) #dimensions for bigger plot\n",
    "fig, ax = plt.subplots(figsize=a4_dims)\n",
    "sns.lineplot(data=all_bulk, x=\"minute\", y=\"1_percent_FDR_1\")\n",
    "sns.lineplot(data=all_bulk, x=\"minute\", y=\"1_percent_FDR_2\")\n",
    "sns.lineplot(data=all_bulk, x=\"minute\", y=\"1_percent_FDR_3\")\n",
    "ax.legend(['2ng_rep1','2ng_rep2','2ng_rep3'],fontsize='15')\n",
    "plt.rcParams['xtick.labelsize']=20\n",
    "plt.rcParams['ytick.labelsize']=20\n",
    "plt.title('ms2 specrtra within 1% cutoff',fontsize='20')\n",
    "plt.ylim(0,700)\n",
    "plt.show()"
   ]
  },
  {
   "cell_type": "markdown",
   "metadata": {},
   "source": [
    "# 2ng data"
   ]
  },
  {
   "cell_type": "code",
   "execution_count": null,
   "metadata": {},
   "outputs": [],
   "source": [
    "list_of_file_names = ['2ng_rep1', '2ng_rep2','2ng_rep3','2ng_rep4','2ng_rep5','2ng_rep6']\n",
    "all_2ng = get_data_for_all_files(list_of_file_names)"
   ]
  },
  {
   "cell_type": "code",
   "execution_count": null,
   "metadata": {},
   "outputs": [],
   "source": [
    "a4_dims = (30, 8.27) #dimensions for bigger plot\n",
    "fig, ax = plt.subplots(figsize=a4_dims)\n",
    "sns.lineplot(data=all_2ng, x=\"minute\", y=\"ms2_1\")\n",
    "sns.lineplot(data=all_2ng, x=\"minute\", y=\"ms2_2\")\n",
    "sns.lineplot(data=all_2ng, x=\"minute\", y=\"ms2_3\")\n",
    "sns.lineplot(data=all_2ng, x=\"minute\", y=\"ms2_4\")\n",
    "sns.lineplot(data=all_2ng, x=\"minute\", y=\"ms2_5\")\n",
    "sns.lineplot(data=all_2ng, x=\"minute\", y=\"ms2_6\")\n",
    "ax.legend(['rep1','rep2','rep3','rep4','rep5','rep6'],fontsize='20')\n",
    "plt.rcParams['xtick.labelsize']=20\n",
    "plt.rcParams['ytick.labelsize']=20\n",
    "# plt.title('All acquired ms2 spectra ',fontsize='20')\n",
    "plt.ylabel('Number of PSMs', fontsize=30)\n",
    "plt.xlabel('Minute', fontsize=30)\n",
    "plt.ylim(0,700)\n",
    "plt.savefig('Figures/supplemental_figure2B.png', dpi=600)\n",
    "plt.show()"
   ]
  },
  {
   "cell_type": "code",
   "execution_count": null,
   "metadata": {},
   "outputs": [],
   "source": [
    "a4_dims = (30, 8.27) #dimensions for bigger plot\n",
    "fig, ax = plt.subplots(figsize=a4_dims)\n",
    "sns.lineplot(data=all_2ng, x=\"minute\", y=\"1_percent_FDR_1\")\n",
    "sns.lineplot(data=all_2ng, x=\"minute\", y=\"1_percent_FDR_2\")\n",
    "sns.lineplot(data=all_2ng, x=\"minute\", y=\"1_percent_FDR_3\")\n",
    "sns.lineplot(data=all_2ng, x=\"minute\", y=\"1_percent_FDR_4\")\n",
    "sns.lineplot(data=all_2ng, x=\"minute\", y=\"1_percent_FDR_5\")\n",
    "sns.lineplot(data=all_2ng, x=\"minute\", y=\"1_percent_FDR_6\")\n",
    "ax.legend(['2ng_rep1','2ng_rep2','2ng_rep3','2ng_rep4','2ng_rep5','2ng_rep6'],fontsize='15')\n",
    "plt.rcParams['xtick.labelsize']=20\n",
    "plt.rcParams['ytick.labelsize']=20\n",
    "plt.title('ms2 specrtra within 1% cutoff',fontsize='20')\n",
    "plt.ylim(0,400)\n",
    "plt.show()"
   ]
  },
  {
   "cell_type": "markdown",
   "metadata": {},
   "source": [
    "# 0.2ng data"
   ]
  },
  {
   "cell_type": "code",
   "execution_count": null,
   "metadata": {},
   "outputs": [],
   "source": [
    "list_of_file_names = ['0.2ng_rep1','0.2ng_rep2','0.2ng_rep3','0.2ng_rep4','0.2ng_rep5','0.2ng_rep6']\n",
    "all_02ng = get_data_for_all_files(list_of_file_names)"
   ]
  },
  {
   "cell_type": "code",
   "execution_count": null,
   "metadata": {},
   "outputs": [],
   "source": [
    "a4_dims = (30, 8.27) #dimensions for bigger plot\n",
    "fig, ax = plt.subplots(figsize=a4_dims)\n",
    "sns.lineplot(data=all_02ng, x=\"minute\", y=\"ms2_1\")\n",
    "sns.lineplot(data=all_02ng, x=\"minute\", y=\"ms2_2\")\n",
    "sns.lineplot(data=all_02ng, x=\"minute\", y=\"ms2_3\")\n",
    "sns.lineplot(data=all_02ng, x=\"minute\", y=\"ms2_4\")\n",
    "sns.lineplot(data=all_02ng, x=\"minute\", y=\"ms2_5\")\n",
    "sns.lineplot(data=all_02ng, x=\"minute\", y=\"ms2_6\")\n",
    "ax.legend(['rep1','rep2','rep3','rep4','rep5','rep6'],fontsize='20')\n",
    "plt.rcParams['xtick.labelsize']=20\n",
    "plt.rcParams['ytick.labelsize']=20\n",
    "# plt.title('All acquired ms2 spectra ',fontsize='20')\n",
    "plt.ylabel('Number of PSMs', fontsize=30)\n",
    "plt.xlabel('Minute', fontsize=30)\n",
    "plt.ylim(0,700)\n",
    "plt.savefig('Figures/supplemental_figure2C.png', dpi=600)\n",
    "plt.show()"
   ]
  },
  {
   "cell_type": "code",
   "execution_count": null,
   "metadata": {},
   "outputs": [],
   "source": [
    "a4_dims = (30, 8.27) #dimensions for bigger plot\n",
    "fig, ax = plt.subplots(figsize=a4_dims)\n",
    "sns.lineplot(data=all_02ng, x=\"minute\", y=\"1_percent_FDR_1\")\n",
    "sns.lineplot(data=all_02ng, x=\"minute\", y=\"1_percent_FDR_2\")\n",
    "sns.lineplot(data=all_02ng, x=\"minute\", y=\"1_percent_FDR_3\")\n",
    "sns.lineplot(data=all_02ng, x=\"minute\", y=\"1_percent_FDR_4\")\n",
    "sns.lineplot(data=all_02ng, x=\"minute\", y=\"1_percent_FDR_5\")\n",
    "sns.lineplot(data=all_02ng, x=\"minute\", y=\"1_percent_FDR_6\")\n",
    "ax.legend(['0.2ng_rep1','0.2ng_rep2','0.2ng_rep3','0.2ng_rep4','0.2ng_rep5','0.2ng_rep6'],fontsize='15')\n",
    "plt.rcParams['xtick.labelsize']=20\n",
    "plt.rcParams['ytick.labelsize']=20\n",
    "plt.title('ms2 specrtra within 1% cutoff',fontsize='20')\n",
    "plt.ylim(0,400)\n",
    "plt.show()"
   ]
  },
  {
   "cell_type": "markdown",
   "metadata": {},
   "source": [
    "# SC data"
   ]
  },
  {
   "cell_type": "code",
   "execution_count": null,
   "metadata": {},
   "outputs": [],
   "source": [
    "list_of_file_names = ['sc_rep1', 'sc_rep2','sc_rep3','sc_rep4','sc_rep5']\n",
    "all_sc = get_data_for_all_files_bulk(list_of_file_names)"
   ]
  },
  {
   "cell_type": "code",
   "execution_count": null,
   "metadata": {},
   "outputs": [],
   "source": []
  },
  {
   "cell_type": "markdown",
   "metadata": {},
   "source": [
    "# Find the filter min and max for each file"
   ]
  },
  {
   "cell_type": "code",
   "execution_count": null,
   "metadata": {},
   "outputs": [],
   "source": [
    "#for the 2ng replicates at what minute do we start getting a lot of scans (300 range)\n",
    "all_2ng[['minute','ms2_1']].loc[26:27] #for rep1 at minute 27 scan count (for ms2 spectera)  jumps from 174 to 385 385\n",
    "all_2ng[['minute','ms2_2']].loc[25:27] #rep2 jumps at #27\n",
    "all_2ng[['minute','ms2_3']].loc[30:32] #rep3 jumps at 32\n",
    "all_2ng[['minute','ms2_4']].loc[30:32] #rep4 jumps at 32\n",
    "all_2ng[['minute','ms2_5']].loc[30:31] #rep5 jumps at 31\n",
    "all_2ng[['minute','ms2_6']].loc[30:31] #rep6 jumps at 31"
   ]
  },
  {
   "cell_type": "code",
   "execution_count": null,
   "metadata": {},
   "outputs": [],
   "source": [
    "#for the 2ng replicates at what minute do we stop getting a lot of scans (below 200 scans)\n",
    "all_2ng[['minute','ms2_1']].loc[95:96] #for rep1 at minute 96 scan count (for ms2 spectera)  \n",
    "all_2ng[['minute','ms2_2']].loc[95:96] #rep2 jumps at 26\n",
    "all_2ng[['minute','ms2_3']].loc[92:93] #rep3 jumps at 93\n",
    "all_2ng[['minute','ms2_4']].loc[90:91] #rep4 jumps at 91\n",
    "all_2ng[['minute','ms2_5']].loc[98:99] #rep5 jumps at 99\n",
    "all_2ng[['minute','ms2_6']].loc[97:98] #rep6 jumps at 98"
   ]
  },
  {
   "cell_type": "code",
   "execution_count": null,
   "metadata": {},
   "outputs": [],
   "source": [
    "#for the 0.2ng replicates at what minute do we start getting a lot of scans (200 range)\n",
    "all_02ng[['minute','ms2_1']].loc[27:28] #for rep1 at minute 28 scan count (for ms2 spectera)\n",
    "all_02ng[['minute','ms2_2']].loc[26:27] #rep2 jumps at 27\n",
    "all_02ng[['minute','ms2_3']].loc[31:32] #rep3 jumps at 32\n",
    "all_02ng[['minute','ms2_4']].loc[31:32] #rep4 jumps at 32\n",
    "all_02ng[['minute','ms2_5']].loc[34:35] #rep5 jumps at 35\n",
    "all_02ng[['minute','ms2_6']].loc[34:35] #rep6 jumps at 35\n"
   ]
  },
  {
   "cell_type": "code",
   "execution_count": null,
   "metadata": {},
   "outputs": [],
   "source": [
    "#for the 0.2ng replicates at what minute do we stop getting a lot of scans (below 100 scans)\n",
    "all_02ng[['minute','ms2_1']].loc[93:94] #for rep1 at minute 94 scan count (for ms2 spectera)  \n",
    "all_02ng[['minute','ms2_2']].loc[94:95] #rep2 jumps at 95\n",
    "all_02ng[['minute','ms2_3']].loc[97:98] #rep3 jumps at 98\n",
    "all_02ng[['minute','ms2_4']].loc[97:98] #rep4 jumps at 98\n",
    "all_02ng[['minute','ms2_5']].loc[108:109] #rep5 jumps at 109\n",
    "all_02ng[['minute','ms2_6']].loc[108:109] #rep6 jumps at 98"
   ]
  },
  {
   "cell_type": "markdown",
   "metadata": {},
   "source": [
    "# 2ng"
   ]
  },
  {
   "cell_type": "code",
   "execution_count": null,
   "metadata": {},
   "outputs": [],
   "source": [
    "df = get_data_for_one(\"2ng_rep1\")\n",
    "plot_psm_over_time(df, 'Ex_Auto_J3_30umTB_2ngQC_60m_1')"
   ]
  },
  {
   "cell_type": "code",
   "execution_count": null,
   "metadata": {},
   "outputs": [],
   "source": [
    "line_df = get_data_for_one(\"2ng_rep2\")\n",
    "plot_psm_over_time(line_df, 'Ex_Auto_J3_30umTB_2ngQC_60m_2')"
   ]
  },
  {
   "cell_type": "code",
   "execution_count": null,
   "metadata": {},
   "outputs": [],
   "source": [
    "line_df = get_data_for_one(\"2ng_rep3\")\n",
    "plot_psm_over_time(line_df, 'Ex_Auto_K13_30umTA_2ngQC_60m_1')"
   ]
  },
  {
   "cell_type": "code",
   "execution_count": null,
   "metadata": {},
   "outputs": [],
   "source": [
    "line_df = get_data_for_one(\"2ng_rep4\")\n",
    "plot_psm_over_time(line_df, 'Ex_Auto_K13_30umTA_2ngQC_60m_2')"
   ]
  },
  {
   "cell_type": "code",
   "execution_count": null,
   "metadata": {},
   "outputs": [],
   "source": [
    "line_df = get_data_for_one(\"2ng_rep5\")\n",
    "plot_psm_over_time(line_df, 'Ex_Auto_W17_30umTB_2ngQC_60m_1')"
   ]
  },
  {
   "cell_type": "code",
   "execution_count": null,
   "metadata": {},
   "outputs": [],
   "source": [
    "line_df = get_data_for_one(\"2ng_rep6\")\n",
    "plot_psm_over_time(line_df, 'Ex_Auto_W17_30umTB_2ngQC_60m_2')"
   ]
  },
  {
   "cell_type": "markdown",
   "metadata": {},
   "source": [
    "# 0.2ng"
   ]
  },
  {
   "cell_type": "code",
   "execution_count": null,
   "metadata": {},
   "outputs": [],
   "source": [
    "line_df = get_data_for_one(\"0.2ng_rep1\")\n",
    "plot_psm_over_time(line_df, 'Ex_Auto_J3_30umTB_02ngQC_60m_1')"
   ]
  },
  {
   "cell_type": "code",
   "execution_count": null,
   "metadata": {},
   "outputs": [],
   "source": [
    "line_df = get_data_for_one(\"0.2ng_rep2\")\n",
    "plot_psm_over_time(line_df, 'Ex_Auto_J3_30umTB_02ngQC_60m_2')"
   ]
  },
  {
   "cell_type": "code",
   "execution_count": null,
   "metadata": {},
   "outputs": [],
   "source": [
    "line_df = get_data_for_one(\"0.2ng_rep3\")\n",
    "plot_psm_over_time(line_df, 'Ex_Auto_K13_30umTA_02ngQC_60m_1')"
   ]
  },
  {
   "cell_type": "code",
   "execution_count": null,
   "metadata": {},
   "outputs": [],
   "source": [
    "line_df = get_data_for_one(\"0.2ng_rep4\")\n",
    "plot_psm_over_time(line_df, 'Ex_Auto_K13_30umTA_02ngQC_60m_2')"
   ]
  },
  {
   "cell_type": "code",
   "execution_count": null,
   "metadata": {},
   "outputs": [],
   "source": [
    "line_df = get_data_for_one(\"0.2ng_rep5\")\n",
    "plot_psm_over_time(line_df, 'Ex_Auto_W17_30umTA_02ngQC_60m_3')"
   ]
  },
  {
   "cell_type": "code",
   "execution_count": null,
   "metadata": {},
   "outputs": [],
   "source": [
    "line_df = get_data_for_one(\"0.2ng_rep6\")\n",
    "plot_psm_over_time(line_df, 'Ex_Auto_W17_30umTA_02ngQC_60m_4')"
   ]
  },
  {
   "cell_type": "markdown",
   "metadata": {},
   "source": [
    "## Spot checking so that we know it's working correctly"
   ]
  },
  {
   "cell_type": "code",
   "execution_count": null,
   "metadata": {},
   "outputs": [],
   "source": [
    "#Read in mzml \n",
    "mzml_df = dl.load_parsed_mzml('.2ng_rep5')\n",
    "ms1 = mzml_df[mzml_df[\"ms_level\"]==1]\n",
    "ms2 = mzml_df[mzml_df[\"ms_level\"]==2]\n",
    "\n",
    "#Read in psm\n",
    "mm_df = dl.load_joined_psm_mzml('.2ng_rep5')\n",
    "mm_df= mm_df.sort_values(\"minute\")\n",
    "\n",
    "#MM scan below 1% cutoff\n",
    "mm_df_cut = mm_df[mm_df['probability'] <=.01]"
   ]
  },
  {
   "cell_type": "code",
   "execution_count": null,
   "metadata": {},
   "outputs": [],
   "source": [
    "len(ms1[ms1['minute']==50])"
   ]
  },
  {
   "cell_type": "code",
   "execution_count": null,
   "metadata": {},
   "outputs": [],
   "source": [
    "len(ms2[ms2['minute']==50])"
   ]
  },
  {
   "cell_type": "code",
   "execution_count": null,
   "metadata": {},
   "outputs": [],
   "source": [
    "len(mm_df_cut[mm_df_cut['minute']==50])"
   ]
  },
  {
   "cell_type": "code",
   "execution_count": null,
   "metadata": {},
   "outputs": [],
   "source": [
    "#Read in mzml \n",
    "mzml_df = dl.load_parsed_mzml('.2ng_rep5')\n",
    "ms1 = mzml_df[mzml_df[\"ms_level\"]==1]\n",
    "ms2 = mzml_df[mzml_df[\"ms_level\"]==2]\n",
    "\n",
    "#Read in psm\n",
    "mm_df = dl.load_joined_psm_mzml('.2ng_rep5')\n",
    "mm_df= mm_df.sort_values(\"minute\")\n",
    "\n",
    "#MM scan below 1% cutoff\n",
    "mm_df_cut = mm_df[mm_df['probability'] <=.01]\n",
    "\n",
    " #make df with all types\n",
    "line_df_ms1 = ms1['minute']\n",
    "line_df_ms1 = line_df_ms1.value_counts().rename_axis('minute').reset_index(name='counts') #since you're look at # of scans per minute, we just need to counts rows\n",
    "\n",
    "line_df_ms2 = ms2['minute']\n",
    "line_df_ms2 = line_df_ms2.value_counts().rename_axis('minute').reset_index(name='counts')\n",
    "\n",
    "line_df_mm_cut = mm_df_cut['minute']\n",
    "line_df_mm_cut = line_df_mm_cut.value_counts().rename_axis('minute').reset_index(name='counts')\n",
    "\n",
    "line_df = pd.merge(line_df_ms1, line_df_ms2, on='minute', how='left').fillna(method='ffill')\n",
    "line_df = line_df.rename({'counts_x': 'ms1', 'counts_y': 'ms2'}, axis=1)\n",
    "line_df = pd.merge(line_df, line_df_mm_cut, on='minute', how='left').fillna(method='ffill')\n",
    "line_df = line_df.rename({'counts': '1_percent_FDR'}, axis=1)\n",
    "\n",
    "#get order for minutes\n",
    "my_order = [range(0,136)]\n",
    "line_df = line_df.sort_values(\"minute\")\n",
    "\n",
    "line_df"
   ]
  },
  {
   "cell_type": "code",
   "execution_count": null,
   "metadata": {},
   "outputs": [],
   "source": [
    "line_df[line_df['minute']==50]"
   ]
  },
  {
   "cell_type": "code",
   "execution_count": null,
   "metadata": {},
   "outputs": [],
   "source": [
    "line_df = get_data_for_one(\".2ng_rep5\")\n",
    "line_df[line_df['minute']==50]"
   ]
  }
 ],
 "metadata": {
  "kernelspec": {
   "display_name": "Python 3",
   "language": "python",
   "name": "python3"
  },
  "language_info": {
   "codemirror_mode": {
    "name": "ipython",
    "version": 3
   },
   "file_extension": ".py",
   "mimetype": "text/x-python",
   "name": "python",
   "nbconvert_exporter": "python",
   "pygments_lexer": "ipython3",
   "version": "3.8.3"
  }
 },
 "nbformat": 4,
 "nbformat_minor": 4
}
