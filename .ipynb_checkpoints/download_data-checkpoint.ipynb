{
 "cells": [
  {
   "cell_type": "code",
   "execution_count": 1,
   "metadata": {},
   "outputs": [
    {
     "name": "stderr",
     "output_type": "stream",
     "text": [
      "RDKit WARNING: [12:17:58] Enabling RDKit 2019.09.3 jupyter extensions\n"
     ]
    }
   ],
   "source": [
    "import pandas as pd\n",
    "import data_loader as dl\n",
    "import pyteomics.mzml\n",
    "import spectrum_utils.spectrum as sus"
   ]
  },
  {
   "cell_type": "markdown",
   "metadata": {},
   "source": [
    "# Before joining we must make sure that the psms and mzmls are downloaded\n",
    "After joining the dl.download_joined_psm_mzml() will available to use"
   ]
  },
  {
   "cell_type": "code",
   "execution_count": null,
   "metadata": {},
   "outputs": [],
   "source": []
  },
  {
   "cell_type": "code",
   "execution_count": null,
   "metadata": {},
   "outputs": [],
   "source": []
  },
  {
   "cell_type": "code",
   "execution_count": null,
   "metadata": {},
   "outputs": [],
   "source": []
  },
  {
   "cell_type": "code",
   "execution_count": null,
   "metadata": {},
   "outputs": [],
   "source": []
  },
  {
   "cell_type": "code",
   "execution_count": 2,
   "metadata": {},
   "outputs": [
    {
     "ename": "AttributeError",
     "evalue": "module 'data_loader' has no attribute 'download_psm'",
     "output_type": "error",
     "traceback": [
      "\u001b[0;31m---------------------------------------------------------------------------\u001b[0m",
      "\u001b[0;31mAttributeError\u001b[0m                            Traceback (most recent call last)",
      "\u001b[0;32m<ipython-input-2-5c528c857241>\u001b[0m in \u001b[0;36m<module>\u001b[0;34m\u001b[0m\n\u001b[1;32m      1\u001b[0m \u001b[0;31m#make sure everything is downloaded\u001b[0m\u001b[0;34m\u001b[0m\u001b[0;34m\u001b[0m\u001b[0;34m\u001b[0m\u001b[0m\n\u001b[1;32m      2\u001b[0m \u001b[0mdl\u001b[0m\u001b[0;34m.\u001b[0m\u001b[0mdownload_mzml\u001b[0m\u001b[0;34m(\u001b[0m\u001b[0;34m)\u001b[0m\u001b[0;34m\u001b[0m\u001b[0;34m\u001b[0m\u001b[0m\n\u001b[0;32m----> 3\u001b[0;31m \u001b[0mdl\u001b[0m\u001b[0;34m.\u001b[0m\u001b[0mdownload_psm\u001b[0m\u001b[0;34m(\u001b[0m\u001b[0;34m)\u001b[0m\u001b[0;34m\u001b[0m\u001b[0;34m\u001b[0m\u001b[0m\n\u001b[0m",
      "\u001b[0;31mAttributeError\u001b[0m: module 'data_loader' has no attribute 'download_psm'"
     ]
    }
   ],
   "source": [
    "#make sure everything is downloaded\n",
    "dl.download_mzml()\n"
   ]
  },
  {
   "cell_type": "code",
   "execution_count": 3,
   "metadata": {},
   "outputs": [],
   "source": [
    "dl.download_parsed_psm()"
   ]
  },
  {
   "cell_type": "code",
   "execution_count": 5,
   "metadata": {},
   "outputs": [],
   "source": [
    "dl.download_joined_psm_mzml()"
   ]
  },
  {
   "cell_type": "code",
   "execution_count": null,
   "metadata": {},
   "outputs": [],
   "source": [
    "stop"
   ]
  },
  {
   "cell_type": "code",
   "execution_count": null,
   "metadata": {},
   "outputs": [],
   "source": [
    "dl.download_parsed_psm()"
   ]
  },
  {
   "cell_type": "code",
   "execution_count": null,
   "metadata": {},
   "outputs": [],
   "source": [
    "df = dl.load_psm('bulk_rep1')"
   ]
  },
  {
   "cell_type": "code",
   "execution_count": null,
   "metadata": {},
   "outputs": [],
   "source": [
    "stop"
   ]
  },
  {
   "cell_type": "code",
   "execution_count": null,
   "metadata": {},
   "outputs": [],
   "source": [
    "df[[df.columns[31]]]"
   ]
  },
  {
   "cell_type": "code",
   "execution_count": null,
   "metadata": {},
   "outputs": [],
   "source": [
    "df.columns[32]"
   ]
  },
  {
   "cell_type": "code",
   "execution_count": null,
   "metadata": {},
   "outputs": [],
   "source": [
    "#make sure everything is downloaded\n",
    "dl.download_mzml()\n",
    "dl.download_psm()"
   ]
  },
  {
   "cell_type": "code",
   "execution_count": null,
   "metadata": {},
   "outputs": [],
   "source": [
    "def filter_data(df):\n",
    "    df = df.sort_values(\"probability\")\n",
    "    df = df.drop_duplicates(subset=[\"scan\"], keep=\"first\") #keep highest scoring\n",
    "    df = df.sort_values(\"probability\")\n",
    "    \n",
    "    df = df.filter((['decoy', 'scan', 'peptide','probability', \n",
    "                                 \"Matched Ion Series\", 'Matched Ion Intensities', 'Matched Ion Counts', \n",
    "                     'Matched Ion Mass Diff (Ppm)', 'Mass Diff (ppm)']))\n",
    "\n",
    "    return df"
   ]
  },
  {
   "cell_type": "code",
   "execution_count": null,
   "metadata": {},
   "outputs": [],
   "source": [
    "def join_psm_mzml(file_name):\n",
    "    #get and filter psm file\n",
    "    df_mm = dl.load_psm(file_name)\n",
    "    df_mm = filter_data(df_mm) \n",
    "    \n",
    "    #get and parse mzml\n",
    "    df_mz = dl.load_parsed_mzml(file_name)\n",
    "    #join the two together\n",
    "    joined = pd.merge(df_mm, df_mz, on=\"scan\").sort_values(\"scan\")\n",
    "    return(joined)"
   ]
  },
  {
   "cell_type": "code",
   "execution_count": null,
   "metadata": {},
   "outputs": [],
   "source": [
    "#join the 2ng data\n",
    "j3_rep1 = join_psm_mzml(\"2ng_rep1\")\n",
    "j3_rep2 = join_psm_mzml(\"2ng_rep2\")\n",
    "\n",
    "k13_rep1 = join_psm_mzml(\"2ng_rep3\")\n",
    "k13_rep2 = join_psm_mzml(\"2ng_rep4\")\n",
    "\n",
    "w17_rep1 = join_psm_mzml(\"2ng_rep5\")\n",
    "w17_rep2 = join_psm_mzml(\"2ng_rep6\")\n",
    "\n",
    "\n",
    "j3_rep1.to_csv(\"data/joined_psm_and_mzml/2ng_rep1.csv\", sep=\"\\t\")\n",
    "j3_rep2.to_csv(\"data/joined_psm_and_mzml/2ng_rep2.csv\", sep=\"\\t\")\n",
    "\n",
    "k13_rep1.to_csv(\"data/joined_psm_and_mzml/2ng_rep3.csv\", sep=\"\\t\")\n",
    "k13_rep2.to_csv(\"data/joined_psm_and_mzml/2ng_rep4.csv\", sep=\"\\t\")\n",
    "\n",
    "w17_rep1.to_csv(\"data/joined_psm_and_mzml/2ng_rep5.csv\", sep=\"\\t\")\n",
    "w17_rep2.to_csv(\"data/joined_psm_and_mzml/2ng_rep6.csv\", sep=\"\\t\")"
   ]
  },
  {
   "cell_type": "code",
   "execution_count": null,
   "metadata": {},
   "outputs": [],
   "source": [
    "# join 0.2ng data\n",
    "j3_rep1 = join_psm_mzml(\"0.2ng_rep1\")\n",
    "j3_rep2 = join_psm_mzml(\"0.2ng_rep2\") \n",
    "\n",
    "k13_rep1 = join_psm_mzml(\"0.2ng_rep3\")\n",
    "k13_rep2 = join_psm_mzml(\"0.2ng_rep4\")\n",
    "\n",
    "w17_rep1 = join_psm_mzml(\"0.2ng_rep5\")\n",
    "w17_rep2 = join_psm_mzml(\"0.2ng_rep6\")\n",
    "\n",
    "j3_rep1.to_csv(\"data/joined_psm_and_mzml/0.2ng_rep1.csv\", sep=\"\\t\")\n",
    "j3_rep2.to_csv(\"data/joined_psm_and_mzml/0.2ng_rep2.csv\", sep=\"\\t\")\n",
    "\n",
    "k13_rep1.to_csv(\"data/joined_psm_and_mzml/0.2ng_rep3.csv\", sep=\"\\t\")\n",
    "k13_rep2.to_csv(\"data/joined_psm_and_mzml/0.2ng_rep4.csv\", sep=\"\\t\")\n",
    "\n",
    "w17_rep1.to_csv(\"data/joined_psm_and_mzml/0.2ng_rep5.csv\", sep=\"\\t\")\n",
    "w17_rep2.to_csv(\"data/joined_psm_and_mzml/0.2ng_rep6.csv\", sep=\"\\t\")"
   ]
  },
  {
   "cell_type": "code",
   "execution_count": null,
   "metadata": {},
   "outputs": [],
   "source": [
    "#bulk data\n",
    "bulk_rep1 = join_psm_mzml(\"bulk_rep1\")\n",
    "bulk_rep2 = join_psm_mzml(\"bulk_rep2\") \n",
    "bulk_rep3 = join_psm_mzml(\"bulk_rep3\")\n",
    "\n",
    "bulk_rep1.to_csv(\"data/joined_psm_and_mzml/bulk_rep1.csv\", sep=\"\\t\")\n",
    "bulk_rep2.to_csv(\"data/joined_psm_and_mzml/bulk_rep2.csv\", sep=\"\\t\")\n",
    "bulk_rep3.to_csv(\"data/joined_psm_and_mzml/bulk_rep3.csv\", sep=\"\\t\")\n"
   ]
  },
  {
   "cell_type": "code",
   "execution_count": null,
   "metadata": {},
   "outputs": [],
   "source": []
  }
 ],
 "metadata": {
  "kernelspec": {
   "display_name": "Python 3",
   "language": "python",
   "name": "python3"
  },
  "language_info": {
   "codemirror_mode": {
    "name": "ipython",
    "version": 3
   },
   "file_extension": ".py",
   "mimetype": "text/x-python",
   "name": "python",
   "nbconvert_exporter": "python",
   "pygments_lexer": "ipython3",
   "version": "3.8.3"
  }
 },
 "nbformat": 4,
 "nbformat_minor": 4
}
