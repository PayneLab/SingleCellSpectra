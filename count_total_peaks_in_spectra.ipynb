{
 "cells": [
  {
   "cell_type": "code",
   "execution_count": 1,
   "metadata": {},
   "outputs": [
    {
     "name": "stderr",
     "output_type": "stream",
     "text": [
      "RDKit WARNING: [07:32:14] Enabling RDKit 2019.09.3 jupyter extensions\n"
     ]
    }
   ],
   "source": [
    "import pandas as pd\n",
    "import data_loader as dl\n",
    "import re\n",
    "import math\n",
    "import ast"
   ]
  },
  {
   "cell_type": "code",
   "execution_count": 2,
   "metadata": {},
   "outputs": [],
   "source": [
    "#Read in data\n",
    "bulk_rep1 = dl.load_joined_psm_mzml('bulk_rep1')\n",
    "bulk_rep2 = dl.load_joined_psm_mzml('bulk_rep2')\n",
    "bulk_rep3 = dl.load_joined_psm_mzml('bulk_rep3')\n",
    "\n",
    "rep1_2ng = dl.load_joined_psm_mzml(\"2ng_rep1\")\n",
    "rep2_2ng = dl.load_joined_psm_mzml(\"2ng_rep2\")\n",
    "rep3_2ng = dl.load_joined_psm_mzml(\"2ng_rep3\")\n",
    "rep4_2ng = dl.load_joined_psm_mzml(\"2ng_rep4\")\n",
    "rep5_2ng = dl.load_joined_psm_mzml(\"2ng_rep5\")\n",
    "rep6_2ng = dl.load_joined_psm_mzml(\"2ng_rep6\")\n",
    "\n",
    "rep1_02ng = dl.load_joined_psm_mzml(\"0.2ng_rep1\")\n",
    "rep2_02ng = dl.load_joined_psm_mzml(\"0.2ng_rep2\")\n",
    "rep3_02ng = dl.load_joined_psm_mzml(\"0.2ng_rep3\")\n",
    "rep4_02ng = dl.load_joined_psm_mzml(\"0.2ng_rep4\")\n",
    "rep5_02ng = dl.load_joined_psm_mzml(\"0.2ng_rep5\")\n",
    "rep6_02ng = dl.load_joined_psm_mzml(\"0.2ng_rep6\")\n",
    "\n",
    "rep1_sc = dl.load_joined_psm_mzml(\"sc_rep1\")\n",
    "rep2_sc = dl.load_joined_psm_mzml(\"sc_rep2\")\n",
    "rep3_sc = dl.load_joined_psm_mzml(\"sc_rep3\")\n",
    "rep4_sc = dl.load_joined_psm_mzml(\"sc_rep4\")\n",
    "rep5_sc = dl.load_joined_psm_mzml(\"sc_rep5\")"
   ]
  },
  {
   "cell_type": "code",
   "execution_count": 3,
   "metadata": {},
   "outputs": [],
   "source": [
    "#filter based on retention time gradient\n",
    "rep1_2ng = rep1_2ng[(rep1_2ng['minute'] < 95) & (rep1_2ng['minute'] >= 27)]\n",
    "rep2_2ng = rep2_2ng[(rep2_2ng['minute'] < 95) & (rep2_2ng['minute'] >=27)]\n",
    "rep3_2ng = rep3_2ng[(rep3_2ng['minute'] < 93) & (rep3_2ng['minute'] >=32)]\n",
    "rep4_2ng = rep4_2ng[(rep4_2ng['minute'] < 91) & (rep4_2ng['minute'] >=32)]\n",
    "rep5_2ng = rep5_2ng[(rep5_2ng['minute'] < 99) & (rep5_2ng['minute'] >=31)]\n",
    "rep6_2ng = rep6_2ng[(rep6_2ng['minute'] < 98) & (rep6_2ng['minute'] >=31)]\n",
    "\n",
    "rep1_02ng = rep1_02ng[(rep1_02ng['minute'] < 94) & (rep1_02ng['minute'] >=28)]\n",
    "rep2_02ng = rep2_02ng[(rep2_02ng['minute'] < 95) & (rep2_02ng['minute'] >=27)]\n",
    "rep3_02ng = rep3_02ng[(rep3_02ng['minute'] < 98) & (rep3_02ng['minute'] >=32)]\n",
    "rep4_02ng = rep4_02ng[(rep4_02ng['minute'] < 98) & (rep4_02ng['minute'] >=32)]\n",
    "rep5_02ng = rep5_02ng[(rep5_02ng['minute'] < 109) & (rep5_02ng['minute'] >=35)]\n",
    "rep6_02ng = rep6_02ng[(rep6_02ng['minute'] < 109) & (rep6_02ng['minute'] >=35)]"
   ]
  },
  {
   "cell_type": "code",
   "execution_count": 4,
   "metadata": {},
   "outputs": [],
   "source": [
    "def count_total_peaks(row):\n",
    "    return len(ast.literal_eval(row['intensity_array']))"
   ]
  },
  {
   "cell_type": "code",
   "execution_count": 7,
   "metadata": {},
   "outputs": [],
   "source": [
    "def peak_count_wrapper(df):\n",
    "    df['total_peak_count'] = df.apply(count_total_peaks,axis=1)\n",
    "\n",
    "    #seprate good and medicore spectra\n",
    "    df_good = df[df['QValue'] <= .01]\n",
    "    df_med = df[(df['QValue'] > .01) & (df['QValue'] <= .2)]\n",
    "\n",
    "    return [df_good, df_med]\n",
    "    "
   ]
  },
  {
   "cell_type": "code",
   "execution_count": 8,
   "metadata": {},
   "outputs": [],
   "source": [
    "rep1_sc_totalpeak_good, rep1_sc_totalpeak_med = peak_count_wrapper(rep1_sc)\n",
    "rep2_sc_totalpeak_good, rep2_sc_totalpeak_med = peak_count_wrapper(rep2_sc)\n",
    "rep3_sc_totalpeak_good, rep3_sc_totalpeak_med = peak_count_wrapper(rep3_sc)\n",
    "rep4_sc_totalpeak_good, rep4_sc_totalpeak_med = peak_count_wrapper(rep4_sc)\n",
    "rep5_sc_totalpeak_good, rep5_sc_totalpeak_med = peak_count_wrapper(rep5_sc)\n",
    "\n",
    "rep1_02ng_totalpeak_good, rep1_02ng_totalpeak_med = peak_count_wrapper(rep1_02ng)\n",
    "rep2_02ng_totalpeak_good, rep2_02ng_totalpeak_med = peak_count_wrapper(rep2_02ng)\n",
    "rep3_02ng_totalpeak_good, rep3_02ng_totalpeak_med = peak_count_wrapper(rep3_02ng)\n",
    "rep4_02ng_totalpeak_good, rep4_02ng_totalpeak_med = peak_count_wrapper(rep4_02ng)\n",
    "rep5_02ng_totalpeak_good, rep5_02ng_totalpeak_med = peak_count_wrapper(rep5_02ng)\n",
    "rep6_02ng_totalpeak_good, rep6_02ng_totalpeak_med = peak_count_wrapper(rep6_02ng)\n",
    "\n",
    "rep1_2ng_totalpeak_good, rep1_2ng_totalpeak_med = peak_count_wrapper(rep1_2ng)\n",
    "rep2_2ng_totalpeak_good, rep2_2ng_totalpeak_med = peak_count_wrapper(rep2_2ng)\n",
    "rep3_2ng_totalpeak_good, rep3_2ng_totalpeak_med = peak_count_wrapper(rep3_2ng)\n",
    "rep4_2ng_totalpeak_good, rep4_2ng_totalpeak_med = peak_count_wrapper(rep4_2ng)\n",
    "rep5_2ng_totalpeak_good, rep5_2ng_totalpeak_med = peak_count_wrapper(rep5_2ng)\n",
    "rep6_2ng_totalpeak_good, rep6_2ng_totalpeak_med = peak_count_wrapper(rep6_2ng)\n",
    "\n",
    "bulkrep1_totalpeak_good, bulkrep1_totalpeak_med = peak_count_wrapper(bulk_rep1)\n",
    "bulkrep2_totalpeak_good, bulkrep2_totalpeak_med = peak_count_wrapper(bulk_rep2)\n",
    "bulkrep3_totalpeak_good, bulkrep3_totalpeak_med = peak_count_wrapper(bulk_rep3)"
   ]
  },
  {
   "cell_type": "code",
   "execution_count": 9,
   "metadata": {},
   "outputs": [],
   "source": [
    "allsc_good = pd.concat([rep1_sc_totalpeak_good,rep2_sc_totalpeak_good,rep3_sc_totalpeak_good,\n",
    "                        rep4_sc_totalpeak_good,rep5_sc_totalpeak_good])\n",
    "allsc_med = pd.concat([rep1_sc_totalpeak_med,rep2_sc_totalpeak_med,rep3_sc_totalpeak_med,\n",
    "                        rep4_sc_totalpeak_med,rep5_sc_totalpeak_med])\n",
    "\n",
    "all02ng_good = pd.concat([rep1_02ng_totalpeak_good,rep2_02ng_totalpeak_good,rep3_02ng_totalpeak_good,\n",
    "                        rep4_02ng_totalpeak_good,rep5_02ng_totalpeak_good,rep6_02ng_totalpeak_good])\n",
    "all02ng_med = pd.concat([rep1_02ng_totalpeak_med,rep2_02ng_totalpeak_med,rep3_02ng_totalpeak_med,\n",
    "                        rep4_02ng_totalpeak_med,rep5_02ng_totalpeak_med,rep6_02ng_totalpeak_med])\n",
    "\n",
    "all2ng_good = pd.concat([rep1_2ng_totalpeak_good,rep2_2ng_totalpeak_good,rep3_2ng_totalpeak_good,\n",
    "                        rep4_2ng_totalpeak_good,rep5_2ng_totalpeak_good,rep6_2ng_totalpeak_good])\n",
    "all2ng_med = pd.concat([rep1_2ng_totalpeak_med,rep2_2ng_totalpeak_med,rep3_2ng_totalpeak_med,\n",
    "                        rep4_2ng_totalpeak_med,rep5_2ng_totalpeak_med,rep6_2ng_totalpeak_med])\n",
    "\n",
    "all_bulk_good = pd.concat([bulkrep1_totalpeak_good,bulkrep2_totalpeak_good,bulkrep3_totalpeak_good])\n",
    "all_bulk_med = pd.concat([bulkrep1_totalpeak_med,bulkrep2_totalpeak_med,bulkrep3_totalpeak_med])\n"
   ]
  },
  {
   "cell_type": "markdown",
   "metadata": {},
   "source": [
    "# Calculations used in manuscript"
   ]
  },
  {
   "cell_type": "code",
   "execution_count": 11,
   "metadata": {},
   "outputs": [
    {
     "data": {
      "text/plain": [
       "682.1705667062511"
      ]
     },
     "execution_count": 11,
     "metadata": {},
     "output_type": "execute_result"
    }
   ],
   "source": [
    "all_bulk_good['total_peak_count'].mean()"
   ]
  },
  {
   "cell_type": "code",
   "execution_count": 12,
   "metadata": {},
   "outputs": [
    {
     "data": {
      "text/plain": [
       "104.2308310852874"
      ]
     },
     "execution_count": 12,
     "metadata": {},
     "output_type": "execute_result"
    }
   ],
   "source": [
    "all2ng_good['total_peak_count'].mean()"
   ]
  },
  {
   "cell_type": "code",
   "execution_count": 13,
   "metadata": {},
   "outputs": [
    {
     "data": {
      "text/plain": [
       "86.89328717639975"
      ]
     },
     "execution_count": 13,
     "metadata": {},
     "output_type": "execute_result"
    }
   ],
   "source": [
    "all02ng_good['total_peak_count'].mean()"
   ]
  },
  {
   "cell_type": "code",
   "execution_count": 14,
   "metadata": {},
   "outputs": [
    {
     "data": {
      "text/plain": [
       "98.36699329551315"
      ]
     },
     "execution_count": 14,
     "metadata": {},
     "output_type": "execute_result"
    }
   ],
   "source": [
    "allsc_good['total_peak_count'].mean()"
   ]
  },
  {
   "cell_type": "markdown",
   "metadata": {},
   "source": [
    "# Data exploration"
   ]
  },
  {
   "cell_type": "code",
   "execution_count": 8,
   "metadata": {},
   "outputs": [
    {
     "data": {
      "text/plain": [
       "<matplotlib.axes._subplots.AxesSubplot at 0x187ef09d0>"
      ]
     },
     "execution_count": 8,
     "metadata": {},
     "output_type": "execute_result"
    },
    {
     "data": {
      "image/png": "[encoded data removed]",
      "text/plain": [
       "<Figure size 432x288 with 1 Axes>"
      ]
     },
     "metadata": {
      "needs_background": "light"
     },
     "output_type": "display_data"
    }
   ],
   "source": [
    "all_bulk_good['total_peak_count'].hist(bins=100)"
   ]
  },
  {
   "cell_type": "code",
   "execution_count": 12,
   "metadata": {},
   "outputs": [
    {
     "data": {
      "text/plain": [
       "<matplotlib.axes._subplots.AxesSubplot at 0x16cc8d1c0>"
      ]
     },
     "execution_count": 12,
     "metadata": {},
     "output_type": "execute_result"
    },
    {
     "data": {
      "image/png": "[encoded data removed]",
      "text/plain": [
       "<Figure size 432x288 with 1 Axes>"
      ]
     },
     "metadata": {
      "needs_background": "light"
     },
     "output_type": "display_data"
    }
   ],
   "source": [
    "all2ng_good['total_peak_count'].hist(bins=100)"
   ]
  },
  {
   "cell_type": "code",
   "execution_count": 13,
   "metadata": {},
   "outputs": [
    {
     "data": {
      "text/plain": [
       "<matplotlib.axes._subplots.AxesSubplot at 0x16cec39a0>"
      ]
     },
     "execution_count": 13,
     "metadata": {},
     "output_type": "execute_result"
    },
    {
     "data": {
      "image/png": "[encoded data removed]",
      "text/plain": [
       "<Figure size 432x288 with 1 Axes>"
      ]
     },
     "metadata": {
      "needs_background": "light"
     },
     "output_type": "display_data"
    }
   ],
   "source": [
    "all02ng_good['total_peak_count'].hist(bins=100)"
   ]
  },
  {
   "cell_type": "code",
   "execution_count": null,
   "metadata": {},
   "outputs": [],
   "source": [
    "print('Bulk 90% of spectra have this many peaks:')\n",
    "len(all_bulk_good[all_bulk_good['total_peak_count'] >= .5])/len(all_bulk_good)"
   ]
  },
  {
   "cell_type": "code",
   "execution_count": 17,
   "metadata": {},
   "outputs": [
    {
     "data": {
      "text/plain": [
       "127     682\n",
       "133     681\n",
       "122     679\n",
       "118     668\n",
       "124     661\n",
       "       ... \n",
       "4413      1\n",
       "4313      1\n",
       "4218      1\n",
       "4185      1\n",
       "3348      1\n",
       "Name: total_peak_count, Length: 4745, dtype: int64"
      ]
     },
     "execution_count": 17,
     "metadata": {},
     "output_type": "execute_result"
    }
   ],
   "source": [
    "all_bulk_good['total_peak_count'].value_counts()"
   ]
  },
  {
   "cell_type": "code",
   "execution_count": 18,
   "metadata": {},
   "outputs": [
    {
     "data": {
      "text/plain": [
       "62     720\n",
       "47     719\n",
       "52     715\n",
       "53     713\n",
       "54     708\n",
       "      ... \n",
       "433      1\n",
       "442      1\n",
       "471      1\n",
       "452      1\n",
       "487      1\n",
       "Name: total_peak_count, Length: 442, dtype: int64"
      ]
     },
     "execution_count": 18,
     "metadata": {},
     "output_type": "execute_result"
    }
   ],
   "source": [
    "all2ng_good['total_peak_count'].value_counts()"
   ]
  },
  {
   "cell_type": "code",
   "execution_count": 19,
   "metadata": {},
   "outputs": [
    {
     "data": {
      "text/plain": [
       "65     512\n",
       "68     506\n",
       "69     504\n",
       "61     500\n",
       "58     483\n",
       "      ... \n",
       "332      1\n",
       "300      1\n",
       "357      1\n",
       "378      1\n",
       "543      1\n",
       "Name: total_peak_count, Length: 329, dtype: int64"
      ]
     },
     "execution_count": 19,
     "metadata": {},
     "output_type": "execute_result"
    }
   ],
   "source": [
    "all02ng_good['total_peak_count'].value_counts()"
   ]
  },
  {
   "cell_type": "code",
   "execution_count": 40,
   "metadata": {},
   "outputs": [
    {
     "data": {
      "text/plain": [
       "0.8005418422636966"
      ]
     },
     "execution_count": 40,
     "metadata": {},
     "output_type": "execute_result"
    }
   ],
   "source": [
    "(len(all02ng_good[all02ng_good['total_peak_count'] <= 111]))/(len(all02ng_good['total_peak_count']))"
   ]
  },
  {
   "cell_type": "code",
   "execution_count": 43,
   "metadata": {},
   "outputs": [
    {
     "data": {
      "text/plain": [
       "0.8072084457356298"
      ]
     },
     "execution_count": 43,
     "metadata": {},
     "output_type": "execute_result"
    }
   ],
   "source": [
    "(len(all2ng_good[all2ng_good['total_peak_count'] <= 149]))/(len(all2ng_good['total_peak_count']))"
   ]
  },
  {
   "cell_type": "code",
   "execution_count": 49,
   "metadata": {},
   "outputs": [
    {
     "data": {
      "text/plain": [
       "0.8014678684758697"
      ]
     },
     "execution_count": 49,
     "metadata": {},
     "output_type": "execute_result"
    }
   ],
   "source": [
    "(len(all_bulk_good[all_bulk_good['total_peak_count'] <= 1200]))/(len(all_bulk_good['total_peak_count']))"
   ]
  },
  {
   "cell_type": "code",
   "execution_count": null,
   "metadata": {},
   "outputs": [],
   "source": []
  },
  {
   "cell_type": "code",
   "execution_count": 57,
   "metadata": {},
   "outputs": [
    {
     "data": {
      "text/plain": [
       "0.9275361613487259"
      ]
     },
     "execution_count": 57,
     "metadata": {},
     "output_type": "execute_result"
    }
   ],
   "source": [
    "(len(all_bulk_good[all_bulk_good['total_peak_count'] >= 100]))/(len(all_bulk_good['total_peak_count']))"
   ]
  },
  {
   "cell_type": "code",
   "execution_count": 62,
   "metadata": {},
   "outputs": [
    {
     "data": {
      "text/plain": [
       "0.9077220377671716"
      ]
     },
     "execution_count": 62,
     "metadata": {},
     "output_type": "execute_result"
    }
   ],
   "source": [
    "(len(all2ng_good[all2ng_good['total_peak_count'] >= 40]))/(len(all2ng_good['total_peak_count']))"
   ]
  },
  {
   "cell_type": "code",
   "execution_count": 79,
   "metadata": {},
   "outputs": [
    {
     "data": {
      "text/plain": [
       "0.910565924142083"
      ]
     },
     "execution_count": 79,
     "metadata": {},
     "output_type": "execute_result"
    }
   ],
   "source": [
    "(len(all02ng_good[all02ng_good['total_peak_count'] >= 48]))/(len(all02ng_good['total_peak_count']))"
   ]
  },
  {
   "cell_type": "code",
   "execution_count": null,
   "metadata": {},
   "outputs": [],
   "source": []
  },
  {
   "cell_type": "code",
   "execution_count": 9,
   "metadata": {},
   "outputs": [
    {
     "data": {
      "text/plain": [
       "682.1705667062511"
      ]
     },
     "execution_count": 9,
     "metadata": {},
     "output_type": "execute_result"
    }
   ],
   "source": [
    "all_bulk_good['total_peak_count'].mean()"
   ]
  },
  {
   "cell_type": "code",
   "execution_count": 83,
   "metadata": {},
   "outputs": [
    {
     "data": {
      "text/plain": [
       "289.0"
      ]
     },
     "execution_count": 83,
     "metadata": {},
     "output_type": "execute_result"
    }
   ],
   "source": [
    "all_bulk_good['total_peak_count'].median()"
   ]
  },
  {
   "cell_type": "code",
   "execution_count": 81,
   "metadata": {},
   "outputs": [
    {
     "data": {
      "text/plain": [
       "104.2308310852874"
      ]
     },
     "execution_count": 81,
     "metadata": {},
     "output_type": "execute_result"
    }
   ],
   "source": [
    "all2ng_good['total_peak_count'].mean()"
   ]
  },
  {
   "cell_type": "code",
   "execution_count": 84,
   "metadata": {},
   "outputs": [
    {
     "data": {
      "text/plain": [
       "88.0"
      ]
     },
     "execution_count": 84,
     "metadata": {},
     "output_type": "execute_result"
    }
   ],
   "source": [
    "all2ng_good['total_peak_count'].median()"
   ]
  },
  {
   "cell_type": "code",
   "execution_count": 82,
   "metadata": {},
   "outputs": [
    {
     "data": {
      "text/plain": [
       "86.89328717639975"
      ]
     },
     "execution_count": 82,
     "metadata": {},
     "output_type": "execute_result"
    }
   ],
   "source": [
    "all02ng_good['total_peak_count'].mean()"
   ]
  },
  {
   "cell_type": "code",
   "execution_count": 85,
   "metadata": {},
   "outputs": [
    {
     "data": {
      "text/plain": [
       "78.0"
      ]
     },
     "execution_count": 85,
     "metadata": {},
     "output_type": "execute_result"
    }
   ],
   "source": [
    "all02ng_good['total_peak_count'].median()"
   ]
  },
  {
   "cell_type": "code",
   "execution_count": 25,
   "metadata": {},
   "outputs": [
    {
     "data": {
      "text/plain": [
       "<matplotlib.axes._subplots.AxesSubplot at 0x16d5d28e0>"
      ]
     },
     "execution_count": 25,
     "metadata": {},
     "output_type": "execute_result"
    },
    {
     "data": {
      "image/png": "[encoded data removed]",
      "text/plain": [
       "<Figure size 432x288 with 1 Axes>"
      ]
     },
     "metadata": {
      "needs_background": "light"
     },
     "output_type": "display_data"
    }
   ],
   "source": [
    "all02ng_good['total_peak_count'].hist(cumulative=True, density=1, bins=100)"
   ]
  },
  {
   "cell_type": "code",
   "execution_count": 26,
   "metadata": {},
   "outputs": [
    {
     "data": {
      "text/plain": [
       "<matplotlib.axes._subplots.AxesSubplot at 0x16d763c10>"
      ]
     },
     "execution_count": 26,
     "metadata": {},
     "output_type": "execute_result"
    },
    {
     "data": {
      "image/png": "[encoded data removed]",
      "text/plain": [
       "<Figure size 432x288 with 1 Axes>"
      ]
     },
     "metadata": {
      "needs_background": "light"
     },
     "output_type": "display_data"
    }
   ],
   "source": [
    "all2ng_good['total_peak_count'].hist(cumulative=True, density=1, bins=100)"
   ]
  },
  {
   "cell_type": "code",
   "execution_count": 27,
   "metadata": {},
   "outputs": [
    {
     "data": {
      "text/plain": [
       "<matplotlib.axes._subplots.AxesSubplot at 0x16daba7f0>"
      ]
     },
     "execution_count": 27,
     "metadata": {},
     "output_type": "execute_result"
    },
    {
     "data": {
      "image/png": "[encoded data removed]",
      "text/plain": [
       "<Figure size 432x288 with 1 Axes>"
      ]
     },
     "metadata": {
      "needs_background": "light"
     },
     "output_type": "display_data"
    }
   ],
   "source": [
    "all_bulk_good['total_peak_count'].hist(cumulative=True, density=1, bins=100)"
   ]
  },
  {
   "cell_type": "code",
   "execution_count": 22,
   "metadata": {},
   "outputs": [
    {
     "data": {
      "image/png": "[encoded data removed]",
      "text/plain": [
       "<Figure size 432x288 with 1 Axes>"
      ]
     },
     "metadata": {
      "needs_background": "light"
     },
     "output_type": "display_data"
    }
   ],
   "source": [
    "import matplotlib.pyplot as plt\n",
    "\n",
    "import numpy as np\n",
    "\n",
    "def ecdf(a):\n",
    "    x, counts = np.unique(a, return_counts=True)\n",
    "    cusum = np.cumsum(counts)\n",
    "    return x, cusum / cusum[-1]\n",
    "\n",
    "def plot_ecdf(a):\n",
    "    x, y = ecdf(a)\n",
    "    x = np.insert(x, 0, x[0])\n",
    "    y = np.insert(y, 0, 0.)\n",
    "    plt.plot(x, y, drawstyle='steps-post')\n",
    "    plt.grid(True)\n",
    "    \n",
    "plot_ecdf(all_bulk_good['total_peak_count'])"
   ]
  },
  {
   "cell_type": "code",
   "execution_count": 13,
   "metadata": {},
   "outputs": [
    {
     "data": {
      "text/plain": [
       "682.1705667062511"
      ]
     },
     "execution_count": 13,
     "metadata": {},
     "output_type": "execute_result"
    }
   ],
   "source": [
    "all_bulk_good['total_peak_count'].mean()"
   ]
  },
  {
   "cell_type": "code",
   "execution_count": 26,
   "metadata": {},
   "outputs": [
    {
     "data": {
      "text/plain": [
       "13.434714894776802"
      ]
     },
     "execution_count": 26,
     "metadata": {},
     "output_type": "execute_result"
    }
   ],
   "source": [
    "all_bulk_good['Matched Ion Counts'].mean()"
   ]
  },
  {
   "cell_type": "code",
   "execution_count": 27,
   "metadata": {},
   "outputs": [
    {
     "data": {
      "text/plain": [
       "104.2308310852874"
      ]
     },
     "execution_count": 27,
     "metadata": {},
     "output_type": "execute_result"
    }
   ],
   "source": [
    "all2ng_good['total_peak_count'].mean()"
   ]
  },
  {
   "cell_type": "code",
   "execution_count": 29,
   "metadata": {},
   "outputs": [
    {
     "data": {
      "text/plain": [
       "10.610603859721934"
      ]
     },
     "execution_count": 29,
     "metadata": {},
     "output_type": "execute_result"
    }
   ],
   "source": [
    "all2ng_good['Matched Ion Counts'].mean()"
   ]
  }
 ],
 "metadata": {
  "kernelspec": {
   "display_name": "Python 3",
   "language": "python",
   "name": "python3"
  },
  "language_info": {
   "codemirror_mode": {
    "name": "ipython",
    "version": 3
   },
   "file_extension": ".py",
   "mimetype": "text/x-python",
   "name": "python",
   "nbconvert_exporter": "python",
   "pygments_lexer": "ipython3",
   "version": "3.8.3"
  }
 },
 "nbformat": 4,
 "nbformat_minor": 4
}
