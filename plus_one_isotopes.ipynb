{
 "cells": [
  {
   "cell_type": "code",
   "execution_count": 15,
   "metadata": {},
   "outputs": [],
   "source": [
    "import pandas as pd\n",
    "import data_loader as dl\n",
    "import re\n",
    "import math\n",
    "import ast\n"
   ]
  },
  {
   "cell_type": "code",
   "execution_count": 2,
   "metadata": {},
   "outputs": [],
   "source": [
    "#A good algrm that looks at shape will look for isotopes. WHat % of y peaks come with a +1 isotope?"
   ]
  },
  {
   "cell_type": "code",
   "execution_count": 3,
   "metadata": {},
   "outputs": [
    {
     "name": "stderr",
     "output_type": "stream",
     "text": [
      "/opt/anaconda3/lib/python3.8/site-packages/IPython/core/interactiveshell.py:3263: DtypeWarning: Columns (12,20,21,22,23,24) have mixed types.Specify dtype option on import or set low_memory=False.\n",
      "  if (await self.run_code(code, result,  async_=asy)):\n",
      "/opt/anaconda3/lib/python3.8/site-packages/IPython/core/interactiveshell.py:3263: DtypeWarning: Columns (12,20,21) have mixed types.Specify dtype option on import or set low_memory=False.\n",
      "  if (await self.run_code(code, result,  async_=asy)):\n",
      "/opt/anaconda3/lib/python3.8/site-packages/IPython/core/interactiveshell.py:3263: DtypeWarning: Columns (12,22,23,24) have mixed types.Specify dtype option on import or set low_memory=False.\n",
      "  if (await self.run_code(code, result,  async_=asy)):\n",
      "/opt/anaconda3/lib/python3.8/site-packages/IPython/core/interactiveshell.py:3263: DtypeWarning: Columns (21,22,23,24) have mixed types.Specify dtype option on import or set low_memory=False.\n",
      "  if (await self.run_code(code, result,  async_=asy)):\n",
      "/opt/anaconda3/lib/python3.8/site-packages/IPython/core/interactiveshell.py:3263: DtypeWarning: Columns (12,21) have mixed types.Specify dtype option on import or set low_memory=False.\n",
      "  if (await self.run_code(code, result,  async_=asy)):\n"
     ]
    }
   ],
   "source": [
    "#Read in data\n",
    "bulk_rep1 = dl.load_joined_psm_mzml('bulk_rep1')\n",
    "bulk_rep2 = dl.load_joined_psm_mzml('bulk_rep2')\n",
    "bulk_rep3 = dl.load_joined_psm_mzml('bulk_rep3')\n",
    "\n",
    "rep1_2ng = dl.load_joined_psm_mzml(\"2ng_rep1\")\n",
    "rep2_2ng = dl.load_joined_psm_mzml(\"2ng_rep2\")\n",
    "rep3_2ng = dl.load_joined_psm_mzml(\"2ng_rep3\")\n",
    "rep4_2ng = dl.load_joined_psm_mzml(\"2ng_rep4\")\n",
    "rep5_2ng = dl.load_joined_psm_mzml(\"2ng_rep5\")\n",
    "rep6_2ng = dl.load_joined_psm_mzml(\"2ng_rep6\")\n",
    "\n",
    "rep1_02ng = dl.load_joined_psm_mzml(\"0.2ng_rep1\")\n",
    "rep2_02ng = dl.load_joined_psm_mzml(\"0.2ng_rep2\")\n",
    "rep3_02ng = dl.load_joined_psm_mzml(\"0.2ng_rep3\")\n",
    "rep4_02ng = dl.load_joined_psm_mzml(\"0.2ng_rep4\")\n",
    "rep5_02ng = dl.load_joined_psm_mzml(\"0.2ng_rep5\")\n",
    "rep6_02ng = dl.load_joined_psm_mzml(\"0.2ng_rep6\")"
   ]
  },
  {
   "cell_type": "code",
   "execution_count": 4,
   "metadata": {},
   "outputs": [],
   "source": [
    "#filter based on retention time gradient\n",
    "rep1_2ng = rep1_2ng[(rep1_2ng['minute'] < 95) & (rep1_2ng['minute'] >= 27)]\n",
    "rep2_2ng = rep2_2ng[(rep2_2ng['minute'] < 95) & (rep2_2ng['minute'] >=27)]\n",
    "rep3_2ng = rep3_2ng[(rep3_2ng['minute'] < 93) & (rep3_2ng['minute'] >=32)]\n",
    "rep4_2ng = rep4_2ng[(rep4_2ng['minute'] < 91) & (rep4_2ng['minute'] >=32)]\n",
    "rep5_2ng = rep5_2ng[(rep5_2ng['minute'] < 99) & (rep5_2ng['minute'] >=31)]\n",
    "rep6_2ng = rep6_2ng[(rep6_2ng['minute'] < 98) & (rep6_2ng['minute'] >=31)]\n",
    "\n",
    "rep1_02ng = rep1_02ng[(rep1_02ng['minute'] < 94) & (rep1_02ng['minute'] >=28)]\n",
    "rep2_02ng = rep2_02ng[(rep2_02ng['minute'] < 95) & (rep2_02ng['minute'] >=27)]\n",
    "rep3_02ng = rep3_02ng[(rep3_02ng['minute'] < 98) & (rep3_02ng['minute'] >=32)]\n",
    "rep4_02ng = rep4_02ng[(rep4_02ng['minute'] < 98) & (rep4_02ng['minute'] >=32)]\n",
    "rep5_02ng = rep5_02ng[(rep5_02ng['minute'] < 109) & (rep5_02ng['minute'] >=35)]\n",
    "rep6_02ng = rep6_02ng[(rep6_02ng['minute'] < 109) & (rep6_02ng['minute'] >=35)]"
   ]
  },
  {
   "cell_type": "code",
   "execution_count": 5,
   "metadata": {},
   "outputs": [],
   "source": [
    "rep1_2ng[\"minute_zeroed\"] = rep1_2ng['minute'] - 27\n",
    "rep2_2ng[\"minute_zeroed\"] = rep2_2ng['minute'] - 27\n",
    "rep3_2ng[\"minute_zeroed\"] = rep3_2ng['minute'] - 32\n",
    "rep4_2ng[\"minute_zeroed\"] = rep4_2ng['minute'] - 32\n",
    "rep5_2ng[\"minute_zeroed\"] = rep5_2ng['minute'] - 31\n",
    "rep6_2ng[\"minute_zeroed\"] = rep6_2ng['minute'] - 31\n",
    "\n",
    "rep1_02ng[\"minute_zeroed\"] = rep1_02ng['minute'] - 28\n",
    "rep2_02ng[\"minute_zeroed\"] = rep2_02ng['minute'] - 27\n",
    "rep3_02ng[\"minute_zeroed\"] = rep3_02ng['minute'] - 32\n",
    "rep4_02ng[\"minute_zeroed\"] = rep4_02ng['minute'] - 32\n",
    "rep5_02ng[\"minute_zeroed\"] = rep5_02ng['minute'] - 35\n",
    "rep6_02ng[\"minute_zeroed\"] = rep6_02ng['minute'] - 35"
   ]
  },
  {
   "cell_type": "code",
   "execution_count": 6,
   "metadata": {},
   "outputs": [],
   "source": [
    "#get a list of m/z for the y peaks\n",
    "def get_y_mz(row):\n",
    "    line = row['Matched Ion Mass-To-Charge Ratios']\n",
    "    line = line.split(';')  \n",
    "    if len(line) == 2:\n",
    "        if 'y' in line[1]:\n",
    "            y_peaks = line[1]\n",
    "        else: #if there are no y peaks:\n",
    "            return 'NAN'\n",
    "            \n",
    "    elif len(line) == 1:\n",
    "        if 'y' in line[0]:\n",
    "            y_peaks = line[0]\n",
    "        else: #if there are no y peaks:\n",
    "            return 'NAN'\n",
    "    \n",
    "    else: #if there are no y peaks:\n",
    "        return 'NAN'\n",
    "    \n",
    "    \n",
    "    y_mz = []\n",
    "    el = y_peaks.strip('][').split(\",\")\n",
    "    for sub_el in el:\n",
    "        sub_el = sub_el.split(\":\")[1]\n",
    "        y_mz.append(sub_el)\n",
    "\n",
    "    return y_mz\n"
   ]
  },
  {
   "cell_type": "code",
   "execution_count": 19,
   "metadata": {},
   "outputs": [],
   "source": [
    "def count_plus1_isotopes(row):\n",
    "    plusone_count = 0\n",
    "    allmz = row['mz_array']\n",
    "    allmz = ast.literal_eval(allmz)\n",
    "    if row['y_mz'] == 'NAN': return 'NAN'\n",
    "    for ypeak in row['y_mz']:\n",
    "            ypeak = float(ypeak)\n",
    "            plusone = ypeak + 1.0034\n",
    "            plusone_tol_max = plusone+.01\n",
    "            plusone_tol_min = plusone-.01\n",
    "            for test_mz in allmz:  \n",
    "                if plusone_tol_min <= test_mz <= plusone_tol_max:\n",
    "                    plusone_count +=1\n",
    "    return plusone_count"
   ]
  },
  {
   "cell_type": "code",
   "execution_count": 20,
   "metadata": {},
   "outputs": [],
   "source": [
    "def get_plus_one_wrapper(df):\n",
    "    mz = df[['Matched Ion Mass-To-Charge Ratios','mz_array', 'scan','probability']]\n",
    "    mz = mz.set_index(\"scan\")\n",
    "    mz['y_mz'] = mz.apply(get_y_mz, axis=1)\n",
    "    mz['plusone_count'] = mz.apply(count_plus1_isotopes, axis=1)\n",
    "    mz['count_all_y'] = mz.apply(lambda row: len(row['y_mz']), axis=1)\n",
    "    mz = mz[mz['plusone_count'] != 'NAN'] #filter out rows that didn't have any y peaks\n",
    "    mz['percent_with_plusone'] = mz['plusone_count']/mz['count_all_y'] #percent of peak in spectra that have a plus one\n",
    "    \n",
    "    #seprate good and medicore spectra\n",
    "    df_good = mz[mz['probability'] <= .01][['percent_with_plusone']]\n",
    "    df_med = mz[(mz['probability'] > .01) & (mz['probability'] <= .2)][['percent_with_plusone']]\n",
    "\n",
    "    return [df_good, df_med]\n",
    "    "
   ]
  },
  {
   "cell_type": "code",
   "execution_count": 21,
   "metadata": {},
   "outputs": [
    {
     "name": "stderr",
     "output_type": "stream",
     "text": [
      "/opt/anaconda3/lib/python3.8/site-packages/pandas/core/ops/array_ops.py:253: FutureWarning: elementwise comparison failed; returning scalar instead, but in the future will perform elementwise comparison\n",
      "  res_values = method(rvalues)\n"
     ]
    }
   ],
   "source": [
    "rep1_02ng_plusone_good, rep1_02ng_plusone_med = get_plus_one_wrapper(rep1_02ng)\n",
    "rep2_02ng_plusone_good, rep2_02ng_plusone_med = get_plus_one_wrapper(rep2_02ng)\n",
    "rep3_02ng_plusone_good, rep3_02ng_plusone_med = get_plus_one_wrapper(rep3_02ng)\n",
    "rep4_02ng_plusone_good, rep4_02ng_plusone_med = get_plus_one_wrapper(rep4_02ng)\n",
    "rep5_02ng_plusone_good, rep5_02ng_plusone_med = get_plus_one_wrapper(rep5_02ng)\n",
    "rep6_02ng_plusone_good, rep6_02ng_plusone_med = get_plus_one_wrapper(rep6_02ng)\n",
    "\n",
    "rep1_2ng_plusone_good, rep1_2ng_plusone_med = get_plus_one_wrapper(rep1_2ng)\n",
    "rep2_2ng_plusone_good, rep2_2ng_plusone_med = get_plus_one_wrapper(rep2_2ng)\n",
    "rep3_2ng_plusone_good, rep3_2ng_plusone_med = get_plus_one_wrapper(rep3_2ng)\n",
    "rep4_2ng_plusone_good, rep4_2ng_plusone_med = get_plus_one_wrapper(rep4_2ng)\n",
    "rep5_2ng_plusone_good, rep5_2ng_plusone_med = get_plus_one_wrapper(rep5_2ng)\n",
    "rep6_2ng_plusone_good, rep6_2ng_plusone_med = get_plus_one_wrapper(rep6_2ng)\n",
    "\n",
    "bulkrep1_plusone_good, bulkrep1_plusone_med = get_plus_one_wrapper(bulk_rep1)\n",
    "bulkrep2_plusone_good, bulkrep2_plusone_med = get_plus_one_wrapper(bulk_rep2)\n",
    "bulkrep3_plusone_good, bulkrep3_plusone_med = get_plus_one_wrapper(bulk_rep3)"
   ]
  },
  {
   "cell_type": "code",
   "execution_count": 22,
   "metadata": {},
   "outputs": [],
   "source": [
    "all02ng_good = pd.concat([rep1_02ng_plusone_good,rep2_02ng_plusone_good,rep3_02ng_plusone_good,\n",
    "                        rep4_02ng_plusone_good,rep5_02ng_plusone_good,rep6_02ng_plusone_good])\n",
    "all02ng_med = pd.concat([rep1_02ng_plusone_med,rep2_02ng_plusone_med,rep3_02ng_plusone_med,\n",
    "                        rep4_02ng_plusone_med,rep5_02ng_plusone_med,rep6_02ng_plusone_med])\n",
    "\n",
    "all2ng_good = pd.concat([rep1_2ng_plusone_good,rep2_2ng_plusone_good,rep3_2ng_plusone_good,\n",
    "                        rep4_2ng_plusone_good,rep5_2ng_plusone_good,rep6_2ng_plusone_good])\n",
    "all2ng_med = pd.concat([rep1_2ng_plusone_med,rep2_2ng_plusone_med,rep3_2ng_plusone_med,\n",
    "                        rep4_2ng_plusone_med,rep5_2ng_plusone_med,rep6_2ng_plusone_med])\n",
    "\n",
    "all_bulk_good = pd.concat([bulkrep1_plusone_good,bulkrep2_plusone_good,bulkrep3_plusone_good])\n",
    "all_bulk_med = pd.concat([bulkrep1_plusone_med,bulkrep2_plusone_med,bulkrep3_plusone_med])\n"
   ]
  },
  {
   "cell_type": "code",
   "execution_count": 24,
   "metadata": {},
   "outputs": [
    {
     "name": "stdout",
     "output_type": "stream",
     "text": [
      "Bulk percent PSMs that have at least 50% of all y ions observed with a +1 isotopic peak\n"
     ]
    },
    {
     "data": {
      "text/plain": [
       "0.6693192382009238"
      ]
     },
     "execution_count": 24,
     "metadata": {},
     "output_type": "execute_result"
    }
   ],
   "source": [
    "print('Bulk percent PSMs that have at least 50% of all y ions observed with a +1 isotopic peak')\n",
    "len(all_bulk_good[all_bulk_good['percent_with_plusone'] >= .5])/len(all_bulk_good)"
   ]
  },
  {
   "cell_type": "code",
   "execution_count": 25,
   "metadata": {
    "scrolled": true
   },
   "outputs": [
    {
     "name": "stdout",
     "output_type": "stream",
     "text": [
      "2ng good percent PSMs that have at least 50% of all y ions observed with a +1 isotopic peak\n"
     ]
    },
    {
     "data": {
      "text/plain": [
       "0.5127619838140693"
      ]
     },
     "execution_count": 25,
     "metadata": {},
     "output_type": "execute_result"
    }
   ],
   "source": [
    "print('2ng good percent PSMs that have at least 50% of all y ions observed with a +1 isotopic peak')\n",
    "len(all2ng_good[all2ng_good['percent_with_plusone'] >= .5])/len(all2ng_good)"
   ]
  },
  {
   "cell_type": "code",
   "execution_count": 26,
   "metadata": {},
   "outputs": [
    {
     "name": "stdout",
     "output_type": "stream",
     "text": [
      "2ng mediocre percent PSMs that have at least 50% of all y ions observed with a +1 isotopic peak\n"
     ]
    },
    {
     "data": {
      "text/plain": [
       "0.32067351659583626"
      ]
     },
     "execution_count": 26,
     "metadata": {},
     "output_type": "execute_result"
    }
   ],
   "source": [
    "print('2ng mediocre percent PSMs that have at least 50% of all y ions observed with a +1 isotopic peak')\n",
    "len(all2ng_med[all2ng_med['percent_with_plusone'] >= .5])/len(all2ng_med)"
   ]
  },
  {
   "cell_type": "code",
   "execution_count": 27,
   "metadata": {},
   "outputs": [
    {
     "name": "stdout",
     "output_type": "stream",
     "text": [
      "2ng quality 20% or fewer of the y ions\n"
     ]
    },
    {
     "data": {
      "text/plain": [
       "0.15822784810126583"
      ]
     },
     "execution_count": 27,
     "metadata": {},
     "output_type": "execute_result"
    }
   ],
   "source": [
    "print('2ng quality 20% or fewer of the y ions')\n",
    "len(all2ng_good[all2ng_good['percent_with_plusone'] <= .2])/len(all2ng_good)"
   ]
  },
  {
   "cell_type": "code",
   "execution_count": 28,
   "metadata": {},
   "outputs": [
    {
     "name": "stdout",
     "output_type": "stream",
     "text": [
      "2ng mediocre 20% or fewer of the y ions\n"
     ]
    },
    {
     "data": {
      "text/plain": [
       "0.41465382753241165"
      ]
     },
     "execution_count": 28,
     "metadata": {},
     "output_type": "execute_result"
    }
   ],
   "source": [
    "print('2ng mediocre 20% or fewer of the y ions')\n",
    "len(all2ng_med[all2ng_med['percent_with_plusone'] <= .2])/len(all2ng_med)"
   ]
  },
  {
   "cell_type": "code",
   "execution_count": null,
   "metadata": {},
   "outputs": [],
   "source": []
  },
  {
   "cell_type": "markdown",
   "metadata": {},
   "source": [
    "# not in paper"
   ]
  },
  {
   "cell_type": "code",
   "execution_count": 29,
   "metadata": {},
   "outputs": [
    {
     "name": "stdout",
     "output_type": "stream",
     "text": [
      "0.2ng good percent PSMs that have at least 50% of all y ions observed with a +1 isotopic peak\n"
     ]
    },
    {
     "data": {
      "text/plain": [
       "0.39798314268512947"
      ]
     },
     "execution_count": 29,
     "metadata": {},
     "output_type": "execute_result"
    }
   ],
   "source": [
    "print('0.2ng good percent PSMs that have at least 50% of all y ions observed with a +1 isotopic peak')\n",
    "len(all02ng_good[all02ng_good['percent_with_plusone'] >= .5])/len(all02ng_good)"
   ]
  },
  {
   "cell_type": "code",
   "execution_count": 30,
   "metadata": {},
   "outputs": [
    {
     "name": "stdout",
     "output_type": "stream",
     "text": [
      "0.2ng mediocre percent PSMs that have at least 50% of all y ions observed with a +1 isotopic peak\n"
     ]
    },
    {
     "data": {
      "text/plain": [
       "0.25934579439252337"
      ]
     },
     "execution_count": 30,
     "metadata": {},
     "output_type": "execute_result"
    }
   ],
   "source": [
    "print('0.2ng mediocre percent PSMs that have at least 50% of all y ions observed with a +1 isotopic peak')\n",
    "len(all02ng_med[all02ng_med['percent_with_plusone'] >= .5])/len(all02ng_med)"
   ]
  },
  {
   "cell_type": "code",
   "execution_count": 31,
   "metadata": {},
   "outputs": [
    {
     "name": "stdout",
     "output_type": "stream",
     "text": [
      "0.2ng quality 20% or fewer of the y ions\n"
     ]
    },
    {
     "data": {
      "text/plain": [
       "0.21270319084888623"
      ]
     },
     "execution_count": 31,
     "metadata": {},
     "output_type": "execute_result"
    }
   ],
   "source": [
    "print('0.2ng quality 20% or fewer of the y ions')\n",
    "len(all02ng_good[all02ng_good['percent_with_plusone'] <= .2])/len(all02ng_good)"
   ]
  },
  {
   "cell_type": "code",
   "execution_count": 32,
   "metadata": {},
   "outputs": [
    {
     "name": "stdout",
     "output_type": "stream",
     "text": [
      "0.2ng mediocre 20% or fewer of the y ions\n"
     ]
    },
    {
     "data": {
      "text/plain": [
       "0.443500424808836"
      ]
     },
     "execution_count": 32,
     "metadata": {},
     "output_type": "execute_result"
    }
   ],
   "source": [
    "print('0.2ng mediocre 20% or fewer of the y ions')\n",
    "len(all02ng_med[all02ng_med['percent_with_plusone'] <= .2])/len(all02ng_med)"
   ]
  },
  {
   "cell_type": "code",
   "execution_count": null,
   "metadata": {},
   "outputs": [],
   "source": []
  },
  {
   "cell_type": "code",
   "execution_count": 33,
   "metadata": {},
   "outputs": [
    {
     "name": "stdout",
     "output_type": "stream",
     "text": [
      "Bulk mediocre percent PSMs that have at least 50% of all y ions observed with a +1 isotopic peak\n"
     ]
    },
    {
     "data": {
      "text/plain": [
       "0.42766967499608743"
      ]
     },
     "execution_count": 33,
     "metadata": {},
     "output_type": "execute_result"
    }
   ],
   "source": [
    "print('Bulk mediocre percent PSMs that have at least 50% of all y ions observed with a +1 isotopic peak')\n",
    "len(all_bulk_med[all_bulk_med['percent_with_plusone'] >= .5])/len(all_bulk_med)"
   ]
  },
  {
   "cell_type": "code",
   "execution_count": 34,
   "metadata": {},
   "outputs": [
    {
     "name": "stdout",
     "output_type": "stream",
     "text": [
      "Bulk quality 20% or fewer of the y ions\n"
     ]
    },
    {
     "data": {
      "text/plain": [
       "0.10860941979256404"
      ]
     },
     "execution_count": 34,
     "metadata": {},
     "output_type": "execute_result"
    }
   ],
   "source": [
    "print('Bulk quality 20% or fewer of the y ions')\n",
    "len(all_bulk_good[all_bulk_good['percent_with_plusone'] <= .2])/len(all_bulk_good)"
   ]
  },
  {
   "cell_type": "code",
   "execution_count": 35,
   "metadata": {},
   "outputs": [
    {
     "name": "stdout",
     "output_type": "stream",
     "text": [
      "Bulk mediocre 20% or fewer of the y ions\n"
     ]
    },
    {
     "data": {
      "text/plain": [
       "0.36326012485436554"
      ]
     },
     "execution_count": 35,
     "metadata": {},
     "output_type": "execute_result"
    }
   ],
   "source": [
    "print('Bulk mediocre 20% or fewer of the y ions')\n",
    "len(all_bulk_med[all_bulk_med['percent_with_plusone'] <= .2])/len(all_bulk_med)"
   ]
  },
  {
   "cell_type": "code",
   "execution_count": null,
   "metadata": {},
   "outputs": [],
   "source": []
  }
 ],
 "metadata": {
  "kernelspec": {
   "display_name": "Python 3",
   "language": "python",
   "name": "python3"
  },
  "language_info": {
   "codemirror_mode": {
    "name": "ipython",
    "version": 3
   },
   "file_extension": ".py",
   "mimetype": "text/x-python",
   "name": "python",
   "nbconvert_exporter": "python",
   "pygments_lexer": "ipython3",
   "version": "3.8.3"
  }
 },
 "nbformat": 4,
 "nbformat_minor": 4
}
