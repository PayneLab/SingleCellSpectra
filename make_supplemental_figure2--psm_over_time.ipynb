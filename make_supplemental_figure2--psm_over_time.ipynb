{
 "cells": [
  {
   "cell_type": "code",
   "execution_count": 1,
   "metadata": {},
   "outputs": [
    {
     "name": "stderr",
     "output_type": "stream",
     "text": [
      "RDKit WARNING: [07:52:43] Enabling RDKit 2019.09.3 jupyter extensions\n"
     ]
    }
   ],
   "source": [
    "import pandas as pd\n",
    "import data_loader as dl\n",
    "import pyteomics.mzml\n",
    "import seaborn as sns\n",
    "import matplotlib.pyplot as plt"
   ]
  },
  {
   "cell_type": "code",
   "execution_count": 2,
   "metadata": {},
   "outputs": [],
   "source": [
    "def get_data_for_one(file_name):\n",
    "    #Read in mzml \n",
    "    mzml_df = dl.load_mzml(file_name)\n",
    "    ms1 = mzml_df[mzml_df[\"ms_level\"]==1]\n",
    "    ms2 = mzml_df[mzml_df[\"ms_level\"]==2]\n",
    "    \n",
    "    #Read in psm\n",
    "    mm_df = dl.load_joined_psm_mzml(file_name)\n",
    "    mm_df= mm_df.sort_values(\"minute\")\n",
    "    \n",
    "    #MM scan below 1% cutoff\n",
    "    mm_df_cut = mm_df[mm_df['QValue'] <=.01]\n",
    "    \n",
    "     #make df with all types\n",
    "    line_df_ms1 = ms1['minute']\n",
    "    line_df_ms1 = line_df_ms1.value_counts().rename_axis('minute').reset_index(name='counts')\n",
    "\n",
    "    line_df_ms2 = ms2['minute']\n",
    "    line_df_ms2 = line_df_ms2.value_counts().rename_axis('minute').reset_index(name='counts')\n",
    "\n",
    "    line_df_mm_cut = mm_df_cut['minute']\n",
    "    line_df_mm_cut = line_df_mm_cut.value_counts().rename_axis('minute').reset_index(name='counts')\n",
    "\n",
    "    line_df = pd.merge(line_df_ms1, line_df_ms2, on='minute', how='left').fillna(method='ffill')\n",
    "    line_df = line_df.rename({'counts_x': 'ms1', 'counts_y': 'ms2'}, axis=1)\n",
    "    line_df = pd.merge(line_df, line_df_mm_cut, on='minute', how='left').fillna(method='ffill')\n",
    "    line_df = line_df.rename({'counts': '1_percent_FDR'}, axis=1)\n",
    "\n",
    "    #get order for minutes\n",
    "    line_df = line_df.sort_values(\"minute\")\n",
    "\n",
    "    return (line_df)"
   ]
  },
  {
   "cell_type": "code",
   "execution_count": 3,
   "metadata": {},
   "outputs": [],
   "source": [
    "def get_data_for_all_files(list_of_file_names):\n",
    "    \n",
    "    result = get_data_for_one(list_of_file_names[0])\n",
    "    df2 = get_data_for_one(list_of_file_names[1])\n",
    "    df3 = get_data_for_one(list_of_file_names[2])\n",
    "    df4 = get_data_for_one(list_of_file_names[3])\n",
    "    df5 = get_data_for_one(list_of_file_names[4])\n",
    "    df6 = get_data_for_one(list_of_file_names[5])\n",
    "\n",
    "    counter = 1\n",
    "    result = pd.merge(result, df2, on='minute', how='left').fillna(method='ffill')\n",
    "    result = result.rename({'ms1_x': 'ms1_'+str(1), 'ms2_x': 'ms2_'+str(1), '1_percent_FDR_x': '1_percent_FDR_'+str(1),\n",
    "                           'ms1_y': 'ms1_'+str(2), 'ms2_y': 'ms2_'+str(2), '1_percent_FDR_y': '1_percent_FDR_'+str(2)}, axis=1)\n",
    "    counter = 3\n",
    "    result = pd.merge(result, df3, on='minute', how='left').fillna(method='ffill')\n",
    "    result = result.rename({'ms1': 'ms1_'+str(counter), 'ms2': 'ms2_'+str(counter), '1_percent_FDR': '1_percent_FDR_'+str(counter)}, axis=1)\n",
    "\n",
    "    counter = 4\n",
    "    result = pd.merge(result, df4, on='minute', how='left').fillna(method='ffill')\n",
    "    result = result.rename({'ms1': 'ms1_'+str(counter), 'ms2': 'ms2_'+str(counter), '1_percent_FDR': '1_percent_FDR_'+str(counter)}, axis=1)\n",
    "\n",
    "    counter = 5\n",
    "    result = pd.merge(result, df5, on='minute', how='left').fillna(method='ffill')\n",
    "    result = result.rename({'ms1': 'ms1_'+str(counter), 'ms2': 'ms2_'+str(counter), '1_percent_FDR': '1_percent_FDR_'+str(counter)}, axis=1)\n",
    "\n",
    "    counter = 6\n",
    "    result = pd.merge(result, df6, on='minute', how='left').fillna(method='ffill')\n",
    "    result = result.rename({'ms1': 'ms1_'+str(counter), 'ms2': 'ms2_'+str(counter), '1_percent_FDR': '1_percent_FDR_'+str(counter)}, axis=1)\n",
    "\n",
    "    result = result.sort_values(\"minute\")\n",
    "\n",
    "    return(result)\n"
   ]
  },
  {
   "cell_type": "code",
   "execution_count": 4,
   "metadata": {},
   "outputs": [],
   "source": [
    "def get_data_for_all_files_bulk(list_of_file_names):\n",
    "    \n",
    "    result = get_data_for_one(list_of_file_names[0])\n",
    "    df2 = get_data_for_one(list_of_file_names[1])\n",
    "    df3 = get_data_for_one(list_of_file_names[2])\n",
    "\n",
    "    counter = 1\n",
    "    result = pd.merge(result, df2, on='minute', how='left').fillna(method='ffill')\n",
    "    result = result.rename({'ms1_x': 'ms1_'+str(1), 'ms2_x': 'ms2_'+str(1), '1_percent_FDR_x': '1_percent_FDR_'+str(1),\n",
    "                           'ms1_y': 'ms1_'+str(2), 'ms2_y': 'ms2_'+str(2), '1_percent_FDR_y': '1_percent_FDR_'+str(2)}, axis=1)\n",
    "    counter = 3\n",
    "    result = pd.merge(result, df3, on='minute', how='left').fillna(method='ffill')\n",
    "    result = result.rename({'ms1': 'ms1_'+str(counter), 'ms2': 'ms2_'+str(counter), '1_percent_FDR': '1_percent_FDR_'+str(counter)}, axis=1)\n",
    "\n",
    "    result = result.sort_values(\"minute\")\n",
    "\n",
    "    return(result)"
   ]
  },
  {
   "cell_type": "code",
   "execution_count": 5,
   "metadata": {},
   "outputs": [],
   "source": [
    "def plot_psm_over_time(df,title):\n",
    "    a4_dims = (30, 8.27) #dimensions for bigger plot\n",
    "    fig, ax = plt.subplots(figsize=a4_dims)\n",
    "    sns.lineplot(data=df, x=\"minute\", y=\"ms1\")\n",
    "    sns.lineplot(data=df, x=\"minute\", y=\"ms2\")\n",
    "    sns.lineplot(data=df, x=\"minute\", y=\"1_percent_FDR\")\n",
    "    ax.legend(['ms1','ms2','1% cutoff'],fontsize='15')\n",
    "    plt.rcParams['xtick.labelsize']=20\n",
    "    plt.rcParams['ytick.labelsize']=20\n",
    "    plt.title(title,fontsize='15')\n",
    "#     plt.ylim(0,400)\n",
    "    plt.show()"
   ]
  },
  {
   "cell_type": "markdown",
   "metadata": {},
   "source": [
    "# Bulk data"
   ]
  },
  {
   "cell_type": "code",
   "execution_count": 6,
   "metadata": {},
   "outputs": [
    {
     "ename": "AttributeError",
     "evalue": "module 'data_loader' has no attribute 'load_mzml'",
     "output_type": "error",
     "traceback": [
      "\u001b[0;31m---------------------------------------------------------------------------\u001b[0m",
      "\u001b[0;31mAttributeError\u001b[0m                            Traceback (most recent call last)",
      "\u001b[0;32m<ipython-input-6-58708af7c478>\u001b[0m in \u001b[0;36m<module>\u001b[0;34m\u001b[0m\n\u001b[1;32m      1\u001b[0m \u001b[0mlist_of_file_names\u001b[0m \u001b[0;34m=\u001b[0m \u001b[0;34m[\u001b[0m\u001b[0;34m'bulk_rep1'\u001b[0m\u001b[0;34m,\u001b[0m \u001b[0;34m'bulk_rep2'\u001b[0m\u001b[0;34m,\u001b[0m\u001b[0;34m'bulk_rep3'\u001b[0m\u001b[0;34m]\u001b[0m\u001b[0;34m\u001b[0m\u001b[0;34m\u001b[0m\u001b[0m\n\u001b[0;32m----> 2\u001b[0;31m \u001b[0mall_bulk\u001b[0m \u001b[0;34m=\u001b[0m \u001b[0mget_data_for_all_files_bulk\u001b[0m\u001b[0;34m(\u001b[0m\u001b[0mlist_of_file_names\u001b[0m\u001b[0;34m)\u001b[0m\u001b[0;34m\u001b[0m\u001b[0;34m\u001b[0m\u001b[0m\n\u001b[0m",
      "\u001b[0;32m<ipython-input-4-bae1b18da4a9>\u001b[0m in \u001b[0;36mget_data_for_all_files_bulk\u001b[0;34m(list_of_file_names)\u001b[0m\n\u001b[1;32m      1\u001b[0m \u001b[0;32mdef\u001b[0m \u001b[0mget_data_for_all_files_bulk\u001b[0m\u001b[0;34m(\u001b[0m\u001b[0mlist_of_file_names\u001b[0m\u001b[0;34m)\u001b[0m\u001b[0;34m:\u001b[0m\u001b[0;34m\u001b[0m\u001b[0;34m\u001b[0m\u001b[0m\n\u001b[1;32m      2\u001b[0m \u001b[0;34m\u001b[0m\u001b[0m\n\u001b[0;32m----> 3\u001b[0;31m     \u001b[0mresult\u001b[0m \u001b[0;34m=\u001b[0m \u001b[0mget_data_for_one\u001b[0m\u001b[0;34m(\u001b[0m\u001b[0mlist_of_file_names\u001b[0m\u001b[0;34m[\u001b[0m\u001b[0;36m0\u001b[0m\u001b[0;34m]\u001b[0m\u001b[0;34m)\u001b[0m\u001b[0;34m\u001b[0m\u001b[0;34m\u001b[0m\u001b[0m\n\u001b[0m\u001b[1;32m      4\u001b[0m     \u001b[0mdf2\u001b[0m \u001b[0;34m=\u001b[0m \u001b[0mget_data_for_one\u001b[0m\u001b[0;34m(\u001b[0m\u001b[0mlist_of_file_names\u001b[0m\u001b[0;34m[\u001b[0m\u001b[0;36m1\u001b[0m\u001b[0;34m]\u001b[0m\u001b[0;34m)\u001b[0m\u001b[0;34m\u001b[0m\u001b[0;34m\u001b[0m\u001b[0m\n\u001b[1;32m      5\u001b[0m     \u001b[0mdf3\u001b[0m \u001b[0;34m=\u001b[0m \u001b[0mget_data_for_one\u001b[0m\u001b[0;34m(\u001b[0m\u001b[0mlist_of_file_names\u001b[0m\u001b[0;34m[\u001b[0m\u001b[0;36m2\u001b[0m\u001b[0;34m]\u001b[0m\u001b[0;34m)\u001b[0m\u001b[0;34m\u001b[0m\u001b[0;34m\u001b[0m\u001b[0m\n",
      "\u001b[0;32m<ipython-input-2-e982e5e8aaad>\u001b[0m in \u001b[0;36mget_data_for_one\u001b[0;34m(file_name)\u001b[0m\n\u001b[1;32m      1\u001b[0m \u001b[0;32mdef\u001b[0m \u001b[0mget_data_for_one\u001b[0m\u001b[0;34m(\u001b[0m\u001b[0mfile_name\u001b[0m\u001b[0;34m)\u001b[0m\u001b[0;34m:\u001b[0m\u001b[0;34m\u001b[0m\u001b[0;34m\u001b[0m\u001b[0m\n\u001b[1;32m      2\u001b[0m     \u001b[0;31m#Read in mzml\u001b[0m\u001b[0;34m\u001b[0m\u001b[0;34m\u001b[0m\u001b[0;34m\u001b[0m\u001b[0m\n\u001b[0;32m----> 3\u001b[0;31m     \u001b[0mmzml_df\u001b[0m \u001b[0;34m=\u001b[0m \u001b[0mdl\u001b[0m\u001b[0;34m.\u001b[0m\u001b[0mload_mzml\u001b[0m\u001b[0;34m(\u001b[0m\u001b[0mfile_name\u001b[0m\u001b[0;34m)\u001b[0m\u001b[0;34m\u001b[0m\u001b[0;34m\u001b[0m\u001b[0m\n\u001b[0m\u001b[1;32m      4\u001b[0m     \u001b[0mms1\u001b[0m \u001b[0;34m=\u001b[0m \u001b[0mmzml_df\u001b[0m\u001b[0;34m[\u001b[0m\u001b[0mmzml_df\u001b[0m\u001b[0;34m[\u001b[0m\u001b[0;34m\"ms_level\"\u001b[0m\u001b[0;34m]\u001b[0m\u001b[0;34m==\u001b[0m\u001b[0;36m1\u001b[0m\u001b[0;34m]\u001b[0m\u001b[0;34m\u001b[0m\u001b[0;34m\u001b[0m\u001b[0m\n\u001b[1;32m      5\u001b[0m     \u001b[0mms2\u001b[0m \u001b[0;34m=\u001b[0m \u001b[0mmzml_df\u001b[0m\u001b[0;34m[\u001b[0m\u001b[0mmzml_df\u001b[0m\u001b[0;34m[\u001b[0m\u001b[0;34m\"ms_level\"\u001b[0m\u001b[0;34m]\u001b[0m\u001b[0;34m==\u001b[0m\u001b[0;36m2\u001b[0m\u001b[0;34m]\u001b[0m\u001b[0;34m\u001b[0m\u001b[0;34m\u001b[0m\u001b[0m\n",
      "\u001b[0;31mAttributeError\u001b[0m: module 'data_loader' has no attribute 'load_mzml'"
     ]
    }
   ],
   "source": [
    "list_of_file_names = ['bulk_rep1', 'bulk_rep2','bulk_rep3']\n",
    "all_bulk = get_data_for_all_files_bulk(list_of_file_names)"
   ]
  },
  {
   "cell_type": "code",
   "execution_count": null,
   "metadata": {},
   "outputs": [],
   "source": [
    "a4_dims = (30, 8.27) #dimensions for bigger plot\n",
    "fig, ax = plt.subplots(figsize=a4_dims)\n",
    "sns.lineplot(data=all_bulk, x=\"minute\", y=\"ms2_1\")\n",
    "sns.lineplot(data=all_bulk, x=\"minute\", y=\"ms2_2\")\n",
    "sns.lineplot(data=all_bulk, x=\"minute\", y=\"ms2_3\")\n",
    "ax.legend(['rep1','rep2','rep3'],fontsize='20')\n",
    "plt.rcParams['xtick.labelsize']=20\n",
    "plt.rcParams['ytick.labelsize']=20\n",
    "# plt.title('All acquired ms2 spectra ',fontsize='20')\n",
    "plt.ylabel('Number of PSMs', fontsize=30)\n",
    "plt.xlabel('Minute', fontsize=30)\n",
    "plt.savefig('Figures/supplemental_figure2A.png', dpi=600)\n",
    "plt.ylim(0,700)\n",
    "plt.show()"
   ]
  },
  {
   "cell_type": "markdown",
   "metadata": {},
   "source": [
    "# 2ng data"
   ]
  },
  {
   "cell_type": "code",
   "execution_count": null,
   "metadata": {},
   "outputs": [],
   "source": [
    "list_of_file_names = ['2ng_rep1', '2ng_rep2','2ng_rep3','2ng_rep4','2ng_rep5','2ng_rep6']\n",
    "all_2ng = get_data_for_all_files(list_of_file_names)"
   ]
  },
  {
   "cell_type": "code",
   "execution_count": null,
   "metadata": {},
   "outputs": [],
   "source": [
    "a4_dims = (30, 8.27) #dimensions for bigger plot\n",
    "fig, ax = plt.subplots(figsize=a4_dims)\n",
    "sns.lineplot(data=all_2ng, x=\"minute\", y=\"ms2_1\")\n",
    "sns.lineplot(data=all_2ng, x=\"minute\", y=\"ms2_2\")\n",
    "sns.lineplot(data=all_2ng, x=\"minute\", y=\"ms2_3\")\n",
    "sns.lineplot(data=all_2ng, x=\"minute\", y=\"ms2_4\")\n",
    "sns.lineplot(data=all_2ng, x=\"minute\", y=\"ms2_5\")\n",
    "sns.lineplot(data=all_2ng, x=\"minute\", y=\"ms2_6\")\n",
    "ax.legend(['rep1','rep2','rep3','rep4','rep5','rep6'],fontsize='20')\n",
    "plt.rcParams['xtick.labelsize']=20\n",
    "plt.rcParams['ytick.labelsize']=20\n",
    "# plt.title('All acquired ms2 spectra ',fontsize='20')\n",
    "plt.ylabel('Number of PSMs', fontsize=30)\n",
    "plt.xlabel('Minute', fontsize=30)\n",
    "plt.ylim(0,700)\n",
    "plt.savefig('Figures/supplemental_figure2B.png', dpi=600)\n",
    "plt.show()"
   ]
  },
  {
   "cell_type": "markdown",
   "metadata": {},
   "source": [
    "# 0.2ng data"
   ]
  },
  {
   "cell_type": "code",
   "execution_count": null,
   "metadata": {},
   "outputs": [],
   "source": [
    "list_of_file_names = ['0.2ng_rep1','0.2ng_rep2','0.2ng_rep3','0.2ng_rep4','0.2ng_rep5','0.2ng_rep6']\n",
    "all_02ng = get_data_for_all_files(list_of_file_names)"
   ]
  },
  {
   "cell_type": "code",
   "execution_count": null,
   "metadata": {},
   "outputs": [],
   "source": [
    "a4_dims = (30, 8.27) #dimensions for bigger plot\n",
    "fig, ax = plt.subplots(figsize=a4_dims)\n",
    "sns.lineplot(data=all_02ng, x=\"minute\", y=\"ms2_1\")\n",
    "sns.lineplot(data=all_02ng, x=\"minute\", y=\"ms2_2\")\n",
    "sns.lineplot(data=all_02ng, x=\"minute\", y=\"ms2_3\")\n",
    "sns.lineplot(data=all_02ng, x=\"minute\", y=\"ms2_4\")\n",
    "sns.lineplot(data=all_02ng, x=\"minute\", y=\"ms2_5\")\n",
    "sns.lineplot(data=all_02ng, x=\"minute\", y=\"ms2_6\")\n",
    "ax.legend(['rep1','rep2','rep3','rep4','rep5','rep6'],fontsize='20')\n",
    "plt.rcParams['xtick.labelsize']=20\n",
    "plt.rcParams['ytick.labelsize']=20\n",
    "# plt.title('All acquired ms2 spectra ',fontsize='20')\n",
    "plt.ylabel('Number of PSMs', fontsize=30)\n",
    "plt.xlabel('Minute', fontsize=30)\n",
    "plt.ylim(0,700)\n",
    "plt.savefig('Figures/supplemental_figure2C.png', dpi=600)\n",
    "plt.show()"
   ]
  }
 ],
 "metadata": {
  "kernelspec": {
   "display_name": "Python 3",
   "language": "python",
   "name": "python3"
  },
  "language_info": {
   "codemirror_mode": {
    "name": "ipython",
    "version": 3
   },
   "file_extension": ".py",
   "mimetype": "text/x-python",
   "name": "python",
   "nbconvert_exporter": "python",
   "pygments_lexer": "ipython3",
   "version": "3.8.3"
  }
 },
 "nbformat": 4,
 "nbformat_minor": 4
}
