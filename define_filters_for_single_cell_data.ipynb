{
 "cells": [
  {
   "cell_type": "code",
   "execution_count": 1,
   "metadata": {},
   "outputs": [
    {
     "name": "stderr",
     "output_type": "stream",
     "text": [
      "RDKit WARNING: [07:52:57] Enabling RDKit 2019.09.3 jupyter extensions\n"
     ]
    }
   ],
   "source": [
    "import pandas as pd\n",
    "import data_loader as dl\n",
    "import pyteomics.mzml\n",
    "import seaborn as sns\n",
    "import matplotlib.pyplot as plt"
   ]
  },
  {
   "cell_type": "code",
   "execution_count": 2,
   "metadata": {},
   "outputs": [],
   "source": [
    "def get_data_for_one(file_name):\n",
    "    #Read in mzml \n",
    "    mzml_df = dl.load_mzml(file_name)\n",
    "    ms1 = mzml_df[mzml_df[\"ms_level\"]==1]\n",
    "    ms2 = mzml_df[mzml_df[\"ms_level\"]==2]\n",
    "    \n",
    "    #Read in psm\n",
    "    mm_df = dl.load_joined_psm_mzml(file_name)\n",
    "    mm_df= mm_df.sort_values(\"minute\")\n",
    "    \n",
    "    #MM scan below 1% cutoff\n",
    "    mm_df_cut = mm_df[mm_df['QValue'] <=.01]\n",
    "    \n",
    "     #make df with all types\n",
    "    line_df_ms1 = ms1['minute']\n",
    "    line_df_ms1 = line_df_ms1.value_counts().rename_axis('minute').reset_index(name='counts')\n",
    "\n",
    "    line_df_ms2 = ms2['minute']\n",
    "    line_df_ms2 = line_df_ms2.value_counts().rename_axis('minute').reset_index(name='counts')\n",
    "\n",
    "    line_df_mm_cut = mm_df_cut['minute']\n",
    "    line_df_mm_cut = line_df_mm_cut.value_counts().rename_axis('minute').reset_index(name='counts')\n",
    "\n",
    "    line_df = pd.merge(line_df_ms1, line_df_ms2, on='minute', how='left').fillna(method='ffill')\n",
    "    line_df = line_df.rename({'counts_x': 'ms1', 'counts_y': 'ms2'}, axis=1)\n",
    "    line_df = pd.merge(line_df, line_df_mm_cut, on='minute', how='left').fillna(method='ffill')\n",
    "    line_df = line_df.rename({'counts': '1_percent_FDR'}, axis=1)\n",
    "\n",
    "    #get order for minutes\n",
    "    line_df = line_df.sort_values(\"minute\")\n",
    "\n",
    "    return (line_df)"
   ]
  },
  {
   "cell_type": "code",
   "execution_count": 3,
   "metadata": {},
   "outputs": [],
   "source": [
    "def get_data_for_all_files(list_of_file_names):\n",
    "    \n",
    "    result = get_data_for_one(list_of_file_names[0])\n",
    "    df2 = get_data_for_one(list_of_file_names[1])\n",
    "    df3 = get_data_for_one(list_of_file_names[2])\n",
    "    df4 = get_data_for_one(list_of_file_names[3])\n",
    "    df5 = get_data_for_one(list_of_file_names[4])\n",
    "    df6 = get_data_for_one(list_of_file_names[5])\n",
    "\n",
    "    counter = 1\n",
    "    result = pd.merge(result, df2, on='minute', how='left').fillna(method='ffill')\n",
    "    result = result.rename({'ms1_x': 'ms1_'+str(1), 'ms2_x': 'ms2_'+str(1), '1_percent_FDR_x': '1_percent_FDR_'+str(1),\n",
    "                           'ms1_y': 'ms1_'+str(2), 'ms2_y': 'ms2_'+str(2), '1_percent_FDR_y': '1_percent_FDR_'+str(2)}, axis=1)\n",
    "    counter = 3\n",
    "    result = pd.merge(result, df3, on='minute', how='left').fillna(method='ffill')\n",
    "    result = result.rename({'ms1': 'ms1_'+str(counter), 'ms2': 'ms2_'+str(counter), '1_percent_FDR': '1_percent_FDR_'+str(counter)}, axis=1)\n",
    "\n",
    "    counter = 4\n",
    "    result = pd.merge(result, df4, on='minute', how='left').fillna(method='ffill')\n",
    "    result = result.rename({'ms1': 'ms1_'+str(counter), 'ms2': 'ms2_'+str(counter), '1_percent_FDR': '1_percent_FDR_'+str(counter)}, axis=1)\n",
    "\n",
    "    counter = 5\n",
    "    result = pd.merge(result, df5, on='minute', how='left').fillna(method='ffill')\n",
    "    result = result.rename({'ms1': 'ms1_'+str(counter), 'ms2': 'ms2_'+str(counter), '1_percent_FDR': '1_percent_FDR_'+str(counter)}, axis=1)\n",
    "\n",
    "    counter = 6\n",
    "    result = pd.merge(result, df6, on='minute', how='left').fillna(method='ffill')\n",
    "    result = result.rename({'ms1': 'ms1_'+str(counter), 'ms2': 'ms2_'+str(counter), '1_percent_FDR': '1_percent_FDR_'+str(counter)}, axis=1)\n",
    "\n",
    "    result = result.sort_values(\"minute\")\n",
    "\n",
    "    return(result)\n"
   ]
  },
  {
   "cell_type": "code",
   "execution_count": 4,
   "metadata": {},
   "outputs": [],
   "source": [
    "def get_data_for_all_files_bulk(list_of_file_names):\n",
    "    \n",
    "    result = get_data_for_one(list_of_file_names[0])\n",
    "    df2 = get_data_for_one(list_of_file_names[1])\n",
    "    df3 = get_data_for_one(list_of_file_names[2])\n",
    "\n",
    "    counter = 1\n",
    "    result = pd.merge(result, df2, on='minute', how='left').fillna(method='ffill')\n",
    "    result = result.rename({'ms1_x': 'ms1_'+str(1), 'ms2_x': 'ms2_'+str(1), '1_percent_FDR_x': '1_percent_FDR_'+str(1),\n",
    "                           'ms1_y': 'ms1_'+str(2), 'ms2_y': 'ms2_'+str(2), '1_percent_FDR_y': '1_percent_FDR_'+str(2)}, axis=1)\n",
    "    counter = 3\n",
    "    result = pd.merge(result, df3, on='minute', how='left').fillna(method='ffill')\n",
    "    result = result.rename({'ms1': 'ms1_'+str(counter), 'ms2': 'ms2_'+str(counter), '1_percent_FDR': '1_percent_FDR_'+str(counter)}, axis=1)\n",
    "\n",
    "    result = result.sort_values(\"minute\")\n",
    "\n",
    "    return(result)"
   ]
  },
  {
   "cell_type": "code",
   "execution_count": 5,
   "metadata": {},
   "outputs": [],
   "source": [
    "def plot_psm_over_time(df,title):\n",
    "    a4_dims = (30, 8.27) #dimensions for bigger plot\n",
    "    fig, ax = plt.subplots(figsize=a4_dims)\n",
    "    sns.lineplot(data=df, x=\"minute\", y=\"ms1\")\n",
    "    sns.lineplot(data=df, x=\"minute\", y=\"ms2\")\n",
    "    sns.lineplot(data=df, x=\"minute\", y=\"1_percent_FDR\")\n",
    "    ax.legend(['ms1','ms2','1% cutoff'],fontsize='15')\n",
    "    plt.rcParams['xtick.labelsize']=20\n",
    "    plt.rcParams['ytick.labelsize']=20\n",
    "    plt.title(title,fontsize='15')\n",
    "#     plt.ylim(0,400)\n",
    "    plt.show()"
   ]
  },
  {
   "cell_type": "markdown",
   "metadata": {},
   "source": [
    "# Bulk data"
   ]
  },
  {
   "cell_type": "code",
   "execution_count": 6,
   "metadata": {},
   "outputs": [],
   "source": [
    "list_of_file_names = ['bulk_rep1', 'bulk_rep2','bulk_rep3']\n",
    "all_bulk = get_data_for_all_files_bulk(list_of_file_names)"
   ]
  },
  {
   "cell_type": "markdown",
   "metadata": {},
   "source": [
    "# 2ng data"
   ]
  },
  {
   "cell_type": "code",
   "execution_count": 8,
   "metadata": {},
   "outputs": [],
   "source": [
    "list_of_file_names = ['2ng_rep1', '2ng_rep2','2ng_rep3','2ng_rep4','2ng_rep5','2ng_rep6']\n",
    "all_2ng = get_data_for_all_files(list_of_file_names)"
   ]
  },
  {
   "cell_type": "markdown",
   "metadata": {},
   "source": [
    "# 0.2ng data"
   ]
  },
  {
   "cell_type": "code",
   "execution_count": 10,
   "metadata": {},
   "outputs": [],
   "source": [
    "list_of_file_names = ['0.2ng_rep1','0.2ng_rep2','0.2ng_rep3','0.2ng_rep4','0.2ng_rep5','0.2ng_rep6']\n",
    "all_02ng = get_data_for_all_files(list_of_file_names)"
   ]
  },
  {
   "cell_type": "markdown",
   "metadata": {},
   "source": [
    "# Find the filter min and max for each file"
   ]
  },
  {
   "cell_type": "code",
   "execution_count": 42,
   "metadata": {},
   "outputs": [
    {
     "data": {
      "text/html": [
       "<div>\n",
       "<style scoped>\n",
       "    .dataframe tbody tr th:only-of-type {\n",
       "        vertical-align: middle;\n",
       "    }\n",
       "\n",
       "    .dataframe tbody tr th {\n",
       "        vertical-align: top;\n",
       "    }\n",
       "\n",
       "    .dataframe thead th {\n",
       "        text-align: right;\n",
       "    }\n",
       "</style>\n",
       "<table border=\"1\" class=\"dataframe\">\n",
       "  <thead>\n",
       "    <tr style=\"text-align: right;\">\n",
       "      <th></th>\n",
       "      <th>minute</th>\n",
       "      <th>ms2_6</th>\n",
       "    </tr>\n",
       "  </thead>\n",
       "  <tbody>\n",
       "    <tr>\n",
       "      <th>30</th>\n",
       "      <td>30</td>\n",
       "      <td>66.0</td>\n",
       "    </tr>\n",
       "    <tr>\n",
       "      <th>31</th>\n",
       "      <td>31</td>\n",
       "      <td>332.0</td>\n",
       "    </tr>\n",
       "  </tbody>\n",
       "</table>\n",
       "</div>"
      ],
      "text/plain": [
       "    minute  ms2_6\n",
       "30      30   66.0\n",
       "31      31  332.0"
      ]
     },
     "execution_count": 42,
     "metadata": {},
     "output_type": "execute_result"
    }
   ],
   "source": [
    "#for the 2ng replicates at what minute do we start getting a lot of scans (300 range)\n",
    "all_2ng[['minute','ms2_1']].loc[26:27] #for rep1 at minute 27 scan count (for ms2 spectera)  jumps from 174 to 385 385\n",
    "all_2ng[['minute','ms2_2']].loc[25:27] #rep2 jumps at #27\n",
    "all_2ng[['minute','ms2_3']].loc[30:32] #rep3 jumps at 32\n",
    "all_2ng[['minute','ms2_4']].loc[30:32] #rep4 jumps at 32\n",
    "all_2ng[['minute','ms2_5']].loc[30:31] #rep5 jumps at 31\n",
    "all_2ng[['minute','ms2_6']].loc[30:31] #rep6 jumps at 31"
   ]
  },
  {
   "cell_type": "code",
   "execution_count": 59,
   "metadata": {},
   "outputs": [
    {
     "data": {
      "text/html": [
       "<div>\n",
       "<style scoped>\n",
       "    .dataframe tbody tr th:only-of-type {\n",
       "        vertical-align: middle;\n",
       "    }\n",
       "\n",
       "    .dataframe tbody tr th {\n",
       "        vertical-align: top;\n",
       "    }\n",
       "\n",
       "    .dataframe thead th {\n",
       "        text-align: right;\n",
       "    }\n",
       "</style>\n",
       "<table border=\"1\" class=\"dataframe\">\n",
       "  <thead>\n",
       "    <tr style=\"text-align: right;\">\n",
       "      <th></th>\n",
       "      <th>minute</th>\n",
       "      <th>ms2_6</th>\n",
       "    </tr>\n",
       "  </thead>\n",
       "  <tbody>\n",
       "    <tr>\n",
       "      <th>97</th>\n",
       "      <td>97</td>\n",
       "      <td>265.0</td>\n",
       "    </tr>\n",
       "    <tr>\n",
       "      <th>98</th>\n",
       "      <td>98</td>\n",
       "      <td>115.0</td>\n",
       "    </tr>\n",
       "  </tbody>\n",
       "</table>\n",
       "</div>"
      ],
      "text/plain": [
       "    minute  ms2_6\n",
       "97      97  265.0\n",
       "98      98  115.0"
      ]
     },
     "execution_count": 59,
     "metadata": {},
     "output_type": "execute_result"
    }
   ],
   "source": [
    "#for the 2ng replicates at what minute do we stop getting a lot of scans (below 200 scans)\n",
    "all_2ng[['minute','ms2_1']].loc[95:96] #for rep1 at minute 96 scan count (for ms2 spectera)  \n",
    "all_2ng[['minute','ms2_2']].loc[95:96] #rep2 jumps at 26\n",
    "all_2ng[['minute','ms2_3']].loc[92:93] #rep3 jumps at 93\n",
    "all_2ng[['minute','ms2_4']].loc[90:91] #rep4 jumps at 91\n",
    "all_2ng[['minute','ms2_5']].loc[98:99] #rep5 jumps at 99\n",
    "all_2ng[['minute','ms2_6']].loc[97:98] #rep6 jumps at 98"
   ]
  },
  {
   "cell_type": "code",
   "execution_count": 80,
   "metadata": {},
   "outputs": [
    {
     "data": {
      "text/html": [
       "<div>\n",
       "<style scoped>\n",
       "    .dataframe tbody tr th:only-of-type {\n",
       "        vertical-align: middle;\n",
       "    }\n",
       "\n",
       "    .dataframe tbody tr th {\n",
       "        vertical-align: top;\n",
       "    }\n",
       "\n",
       "    .dataframe thead th {\n",
       "        text-align: right;\n",
       "    }\n",
       "</style>\n",
       "<table border=\"1\" class=\"dataframe\">\n",
       "  <thead>\n",
       "    <tr style=\"text-align: right;\">\n",
       "      <th></th>\n",
       "      <th>minute</th>\n",
       "      <th>ms2_6</th>\n",
       "    </tr>\n",
       "  </thead>\n",
       "  <tbody>\n",
       "    <tr>\n",
       "      <th>34</th>\n",
       "      <td>34</td>\n",
       "      <td>116.0</td>\n",
       "    </tr>\n",
       "    <tr>\n",
       "      <th>35</th>\n",
       "      <td>35</td>\n",
       "      <td>184.0</td>\n",
       "    </tr>\n",
       "  </tbody>\n",
       "</table>\n",
       "</div>"
      ],
      "text/plain": [
       "    minute  ms2_6\n",
       "34      34  116.0\n",
       "35      35  184.0"
      ]
     },
     "execution_count": 80,
     "metadata": {},
     "output_type": "execute_result"
    }
   ],
   "source": [
    "#for the 0.2ng replicates at what minute do we start getting a lot of scans (200 range)\n",
    "all_02ng[['minute','ms2_1']].loc[27:28] #for rep1 at minute 28 scan count (for ms2 spectera)\n",
    "all_02ng[['minute','ms2_2']].loc[26:27] #rep2 jumps at 27\n",
    "all_02ng[['minute','ms2_3']].loc[31:32] #rep3 jumps at 32\n",
    "all_02ng[['minute','ms2_4']].loc[31:32] #rep4 jumps at 32\n",
    "all_02ng[['minute','ms2_5']].loc[34:35] #rep5 jumps at 35\n",
    "all_02ng[['minute','ms2_6']].loc[34:35] #rep6 jumps at 35\n"
   ]
  },
  {
   "cell_type": "code",
   "execution_count": 110,
   "metadata": {},
   "outputs": [
    {
     "data": {
      "text/html": [
       "<div>\n",
       "<style scoped>\n",
       "    .dataframe tbody tr th:only-of-type {\n",
       "        vertical-align: middle;\n",
       "    }\n",
       "\n",
       "    .dataframe tbody tr th {\n",
       "        vertical-align: top;\n",
       "    }\n",
       "\n",
       "    .dataframe thead th {\n",
       "        text-align: right;\n",
       "    }\n",
       "</style>\n",
       "<table border=\"1\" class=\"dataframe\">\n",
       "  <thead>\n",
       "    <tr style=\"text-align: right;\">\n",
       "      <th></th>\n",
       "      <th>minute</th>\n",
       "      <th>ms2_6</th>\n",
       "    </tr>\n",
       "  </thead>\n",
       "  <tbody>\n",
       "    <tr>\n",
       "      <th>108</th>\n",
       "      <td>108</td>\n",
       "      <td>125.0</td>\n",
       "    </tr>\n",
       "    <tr>\n",
       "      <th>109</th>\n",
       "      <td>109</td>\n",
       "      <td>69.0</td>\n",
       "    </tr>\n",
       "  </tbody>\n",
       "</table>\n",
       "</div>"
      ],
      "text/plain": [
       "     minute  ms2_6\n",
       "108     108  125.0\n",
       "109     109   69.0"
      ]
     },
     "execution_count": 110,
     "metadata": {},
     "output_type": "execute_result"
    }
   ],
   "source": [
    "#for the 0.2ng replicates at what minute do we stop getting a lot of scans (below 100 scans)\n",
    "all_02ng[['minute','ms2_1']].loc[93:94] #for rep1 at minute 94 scan count (for ms2 spectera)  \n",
    "all_02ng[['minute','ms2_2']].loc[94:95] #rep2 jumps at 95\n",
    "all_02ng[['minute','ms2_3']].loc[97:98] #rep3 jumps at 98\n",
    "all_02ng[['minute','ms2_4']].loc[97:98] #rep4 jumps at 98\n",
    "all_02ng[['minute','ms2_5']].loc[108:109] #rep5 jumps at 109\n",
    "all_02ng[['minute','ms2_6']].loc[108:109] #rep6 jumps at 98"
   ]
  }
 ],
 "metadata": {
  "kernelspec": {
   "display_name": "Python 3",
   "language": "python",
   "name": "python3"
  },
  "language_info": {
   "codemirror_mode": {
    "name": "ipython",
    "version": 3
   },
   "file_extension": ".py",
   "mimetype": "text/x-python",
   "name": "python",
   "nbconvert_exporter": "python",
   "pygments_lexer": "ipython3",
   "version": "3.8.3"
  }
 },
 "nbformat": 4,
 "nbformat_minor": 4
}
